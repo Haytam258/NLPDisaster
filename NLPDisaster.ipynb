{
  "nbformat": 4,
  "nbformat_minor": 0,
  "metadata": {
    "colab": {
      "provenance": [],
      "collapsed_sections": [],
      "authorship_tag": "ABX9TyP/wTKUdnfRvQpSBR7MDQX6",
      "include_colab_link": true
    },
    "kernelspec": {
      "name": "python3",
      "display_name": "Python 3"
    },
    "language_info": {
      "name": "python"
    },
    "widgets": {
      "application/vnd.jupyter.widget-state+json": {
        "ec2ce3e4236f4613b8959613684d7d02": {
          "model_module": "@jupyter-widgets/controls",
          "model_name": "HBoxModel",
          "model_module_version": "1.5.0",
          "state": {
            "_dom_classes": [],
            "_model_module": "@jupyter-widgets/controls",
            "_model_module_version": "1.5.0",
            "_model_name": "HBoxModel",
            "_view_count": null,
            "_view_module": "@jupyter-widgets/controls",
            "_view_module_version": "1.5.0",
            "_view_name": "HBoxView",
            "box_style": "",
            "children": [
              "IPY_MODEL_798c94da771848c8aba01a1d0ce32f3e",
              "IPY_MODEL_e57adbed10ef403491730797b494911a",
              "IPY_MODEL_e5fc6f94a8f9446d9b9b4d206f8274a9"
            ],
            "layout": "IPY_MODEL_275ff0c341bb460cbca21c8090f9d438"
          }
        },
        "798c94da771848c8aba01a1d0ce32f3e": {
          "model_module": "@jupyter-widgets/controls",
          "model_name": "HTMLModel",
          "model_module_version": "1.5.0",
          "state": {
            "_dom_classes": [],
            "_model_module": "@jupyter-widgets/controls",
            "_model_module_version": "1.5.0",
            "_model_name": "HTMLModel",
            "_view_count": null,
            "_view_module": "@jupyter-widgets/controls",
            "_view_module_version": "1.5.0",
            "_view_name": "HTMLView",
            "description": "",
            "description_tooltip": null,
            "layout": "IPY_MODEL_1911c54c61b74bc1a66074750e02f810",
            "placeholder": "​",
            "style": "IPY_MODEL_30422ff9de594c6c9b1f42d0b19d7061",
            "value": "Downloading: 100%"
          }
        },
        "e57adbed10ef403491730797b494911a": {
          "model_module": "@jupyter-widgets/controls",
          "model_name": "FloatProgressModel",
          "model_module_version": "1.5.0",
          "state": {
            "_dom_classes": [],
            "_model_module": "@jupyter-widgets/controls",
            "_model_module_version": "1.5.0",
            "_model_name": "FloatProgressModel",
            "_view_count": null,
            "_view_module": "@jupyter-widgets/controls",
            "_view_module_version": "1.5.0",
            "_view_name": "ProgressView",
            "bar_style": "success",
            "description": "",
            "description_tooltip": null,
            "layout": "IPY_MODEL_cb09f85fdea84ab09b172f3db1f47042",
            "max": 213450,
            "min": 0,
            "orientation": "horizontal",
            "style": "IPY_MODEL_8e0161a656f74319b30e0ffbc63baeac",
            "value": 213450
          }
        },
        "e5fc6f94a8f9446d9b9b4d206f8274a9": {
          "model_module": "@jupyter-widgets/controls",
          "model_name": "HTMLModel",
          "model_module_version": "1.5.0",
          "state": {
            "_dom_classes": [],
            "_model_module": "@jupyter-widgets/controls",
            "_model_module_version": "1.5.0",
            "_model_name": "HTMLModel",
            "_view_count": null,
            "_view_module": "@jupyter-widgets/controls",
            "_view_module_version": "1.5.0",
            "_view_name": "HTMLView",
            "description": "",
            "description_tooltip": null,
            "layout": "IPY_MODEL_11a430d43f704d389fc34c33cc37b99c",
            "placeholder": "​",
            "style": "IPY_MODEL_af6ad65da2f84e6a8e9b5ed93ae6bd95",
            "value": " 213k/213k [00:00&lt;00:00, 834kB/s]"
          }
        },
        "275ff0c341bb460cbca21c8090f9d438": {
          "model_module": "@jupyter-widgets/base",
          "model_name": "LayoutModel",
          "model_module_version": "1.2.0",
          "state": {
            "_model_module": "@jupyter-widgets/base",
            "_model_module_version": "1.2.0",
            "_model_name": "LayoutModel",
            "_view_count": null,
            "_view_module": "@jupyter-widgets/base",
            "_view_module_version": "1.2.0",
            "_view_name": "LayoutView",
            "align_content": null,
            "align_items": null,
            "align_self": null,
            "border": null,
            "bottom": null,
            "display": null,
            "flex": null,
            "flex_flow": null,
            "grid_area": null,
            "grid_auto_columns": null,
            "grid_auto_flow": null,
            "grid_auto_rows": null,
            "grid_column": null,
            "grid_gap": null,
            "grid_row": null,
            "grid_template_areas": null,
            "grid_template_columns": null,
            "grid_template_rows": null,
            "height": null,
            "justify_content": null,
            "justify_items": null,
            "left": null,
            "margin": null,
            "max_height": null,
            "max_width": null,
            "min_height": null,
            "min_width": null,
            "object_fit": null,
            "object_position": null,
            "order": null,
            "overflow": null,
            "overflow_x": null,
            "overflow_y": null,
            "padding": null,
            "right": null,
            "top": null,
            "visibility": null,
            "width": null
          }
        },
        "1911c54c61b74bc1a66074750e02f810": {
          "model_module": "@jupyter-widgets/base",
          "model_name": "LayoutModel",
          "model_module_version": "1.2.0",
          "state": {
            "_model_module": "@jupyter-widgets/base",
            "_model_module_version": "1.2.0",
            "_model_name": "LayoutModel",
            "_view_count": null,
            "_view_module": "@jupyter-widgets/base",
            "_view_module_version": "1.2.0",
            "_view_name": "LayoutView",
            "align_content": null,
            "align_items": null,
            "align_self": null,
            "border": null,
            "bottom": null,
            "display": null,
            "flex": null,
            "flex_flow": null,
            "grid_area": null,
            "grid_auto_columns": null,
            "grid_auto_flow": null,
            "grid_auto_rows": null,
            "grid_column": null,
            "grid_gap": null,
            "grid_row": null,
            "grid_template_areas": null,
            "grid_template_columns": null,
            "grid_template_rows": null,
            "height": null,
            "justify_content": null,
            "justify_items": null,
            "left": null,
            "margin": null,
            "max_height": null,
            "max_width": null,
            "min_height": null,
            "min_width": null,
            "object_fit": null,
            "object_position": null,
            "order": null,
            "overflow": null,
            "overflow_x": null,
            "overflow_y": null,
            "padding": null,
            "right": null,
            "top": null,
            "visibility": null,
            "width": null
          }
        },
        "30422ff9de594c6c9b1f42d0b19d7061": {
          "model_module": "@jupyter-widgets/controls",
          "model_name": "DescriptionStyleModel",
          "model_module_version": "1.5.0",
          "state": {
            "_model_module": "@jupyter-widgets/controls",
            "_model_module_version": "1.5.0",
            "_model_name": "DescriptionStyleModel",
            "_view_count": null,
            "_view_module": "@jupyter-widgets/base",
            "_view_module_version": "1.2.0",
            "_view_name": "StyleView",
            "description_width": ""
          }
        },
        "cb09f85fdea84ab09b172f3db1f47042": {
          "model_module": "@jupyter-widgets/base",
          "model_name": "LayoutModel",
          "model_module_version": "1.2.0",
          "state": {
            "_model_module": "@jupyter-widgets/base",
            "_model_module_version": "1.2.0",
            "_model_name": "LayoutModel",
            "_view_count": null,
            "_view_module": "@jupyter-widgets/base",
            "_view_module_version": "1.2.0",
            "_view_name": "LayoutView",
            "align_content": null,
            "align_items": null,
            "align_self": null,
            "border": null,
            "bottom": null,
            "display": null,
            "flex": null,
            "flex_flow": null,
            "grid_area": null,
            "grid_auto_columns": null,
            "grid_auto_flow": null,
            "grid_auto_rows": null,
            "grid_column": null,
            "grid_gap": null,
            "grid_row": null,
            "grid_template_areas": null,
            "grid_template_columns": null,
            "grid_template_rows": null,
            "height": null,
            "justify_content": null,
            "justify_items": null,
            "left": null,
            "margin": null,
            "max_height": null,
            "max_width": null,
            "min_height": null,
            "min_width": null,
            "object_fit": null,
            "object_position": null,
            "order": null,
            "overflow": null,
            "overflow_x": null,
            "overflow_y": null,
            "padding": null,
            "right": null,
            "top": null,
            "visibility": null,
            "width": null
          }
        },
        "8e0161a656f74319b30e0ffbc63baeac": {
          "model_module": "@jupyter-widgets/controls",
          "model_name": "ProgressStyleModel",
          "model_module_version": "1.5.0",
          "state": {
            "_model_module": "@jupyter-widgets/controls",
            "_model_module_version": "1.5.0",
            "_model_name": "ProgressStyleModel",
            "_view_count": null,
            "_view_module": "@jupyter-widgets/base",
            "_view_module_version": "1.2.0",
            "_view_name": "StyleView",
            "bar_color": null,
            "description_width": ""
          }
        },
        "11a430d43f704d389fc34c33cc37b99c": {
          "model_module": "@jupyter-widgets/base",
          "model_name": "LayoutModel",
          "model_module_version": "1.2.0",
          "state": {
            "_model_module": "@jupyter-widgets/base",
            "_model_module_version": "1.2.0",
            "_model_name": "LayoutModel",
            "_view_count": null,
            "_view_module": "@jupyter-widgets/base",
            "_view_module_version": "1.2.0",
            "_view_name": "LayoutView",
            "align_content": null,
            "align_items": null,
            "align_self": null,
            "border": null,
            "bottom": null,
            "display": null,
            "flex": null,
            "flex_flow": null,
            "grid_area": null,
            "grid_auto_columns": null,
            "grid_auto_flow": null,
            "grid_auto_rows": null,
            "grid_column": null,
            "grid_gap": null,
            "grid_row": null,
            "grid_template_areas": null,
            "grid_template_columns": null,
            "grid_template_rows": null,
            "height": null,
            "justify_content": null,
            "justify_items": null,
            "left": null,
            "margin": null,
            "max_height": null,
            "max_width": null,
            "min_height": null,
            "min_width": null,
            "object_fit": null,
            "object_position": null,
            "order": null,
            "overflow": null,
            "overflow_x": null,
            "overflow_y": null,
            "padding": null,
            "right": null,
            "top": null,
            "visibility": null,
            "width": null
          }
        },
        "af6ad65da2f84e6a8e9b5ed93ae6bd95": {
          "model_module": "@jupyter-widgets/controls",
          "model_name": "DescriptionStyleModel",
          "model_module_version": "1.5.0",
          "state": {
            "_model_module": "@jupyter-widgets/controls",
            "_model_module_version": "1.5.0",
            "_model_name": "DescriptionStyleModel",
            "_view_count": null,
            "_view_module": "@jupyter-widgets/base",
            "_view_module_version": "1.2.0",
            "_view_name": "StyleView",
            "description_width": ""
          }
        },
        "6126b3b219464fa39997c9c54b4f8781": {
          "model_module": "@jupyter-widgets/controls",
          "model_name": "HBoxModel",
          "model_module_version": "1.5.0",
          "state": {
            "_dom_classes": [],
            "_model_module": "@jupyter-widgets/controls",
            "_model_module_version": "1.5.0",
            "_model_name": "HBoxModel",
            "_view_count": null,
            "_view_module": "@jupyter-widgets/controls",
            "_view_module_version": "1.5.0",
            "_view_name": "HBoxView",
            "box_style": "",
            "children": [
              "IPY_MODEL_ad9e66586a4543ed9f066ccaf8c90e45",
              "IPY_MODEL_8afca040b09142b097667737a90301b1",
              "IPY_MODEL_930b99eb977d4e7b8c946c555a6484c8"
            ],
            "layout": "IPY_MODEL_9fc94720f1f74065847fdf56fd822292"
          }
        },
        "ad9e66586a4543ed9f066ccaf8c90e45": {
          "model_module": "@jupyter-widgets/controls",
          "model_name": "HTMLModel",
          "model_module_version": "1.5.0",
          "state": {
            "_dom_classes": [],
            "_model_module": "@jupyter-widgets/controls",
            "_model_module_version": "1.5.0",
            "_model_name": "HTMLModel",
            "_view_count": null,
            "_view_module": "@jupyter-widgets/controls",
            "_view_module_version": "1.5.0",
            "_view_name": "HTMLView",
            "description": "",
            "description_tooltip": null,
            "layout": "IPY_MODEL_9c774b8772f946a1986cafa5a13ff72d",
            "placeholder": "​",
            "style": "IPY_MODEL_7b524ac8d88a464bb7b0be00eb55cd07",
            "value": "Downloading: 100%"
          }
        },
        "8afca040b09142b097667737a90301b1": {
          "model_module": "@jupyter-widgets/controls",
          "model_name": "FloatProgressModel",
          "model_module_version": "1.5.0",
          "state": {
            "_dom_classes": [],
            "_model_module": "@jupyter-widgets/controls",
            "_model_module_version": "1.5.0",
            "_model_name": "FloatProgressModel",
            "_view_count": null,
            "_view_module": "@jupyter-widgets/controls",
            "_view_module_version": "1.5.0",
            "_view_name": "ProgressView",
            "bar_style": "success",
            "description": "",
            "description_tooltip": null,
            "layout": "IPY_MODEL_39441f5be55a4830ae0e577dd0945efb",
            "max": 29,
            "min": 0,
            "orientation": "horizontal",
            "style": "IPY_MODEL_cd0d13c0f43a42bfb2d5006f8c8e9f93",
            "value": 29
          }
        },
        "930b99eb977d4e7b8c946c555a6484c8": {
          "model_module": "@jupyter-widgets/controls",
          "model_name": "HTMLModel",
          "model_module_version": "1.5.0",
          "state": {
            "_dom_classes": [],
            "_model_module": "@jupyter-widgets/controls",
            "_model_module_version": "1.5.0",
            "_model_name": "HTMLModel",
            "_view_count": null,
            "_view_module": "@jupyter-widgets/controls",
            "_view_module_version": "1.5.0",
            "_view_name": "HTMLView",
            "description": "",
            "description_tooltip": null,
            "layout": "IPY_MODEL_592182123b0849bc9d8d39b6a5ac9ff9",
            "placeholder": "​",
            "style": "IPY_MODEL_3de81a29c33f40748007f42d38913cc4",
            "value": " 29.0/29.0 [00:00&lt;00:00, 281B/s]"
          }
        },
        "9fc94720f1f74065847fdf56fd822292": {
          "model_module": "@jupyter-widgets/base",
          "model_name": "LayoutModel",
          "model_module_version": "1.2.0",
          "state": {
            "_model_module": "@jupyter-widgets/base",
            "_model_module_version": "1.2.0",
            "_model_name": "LayoutModel",
            "_view_count": null,
            "_view_module": "@jupyter-widgets/base",
            "_view_module_version": "1.2.0",
            "_view_name": "LayoutView",
            "align_content": null,
            "align_items": null,
            "align_self": null,
            "border": null,
            "bottom": null,
            "display": null,
            "flex": null,
            "flex_flow": null,
            "grid_area": null,
            "grid_auto_columns": null,
            "grid_auto_flow": null,
            "grid_auto_rows": null,
            "grid_column": null,
            "grid_gap": null,
            "grid_row": null,
            "grid_template_areas": null,
            "grid_template_columns": null,
            "grid_template_rows": null,
            "height": null,
            "justify_content": null,
            "justify_items": null,
            "left": null,
            "margin": null,
            "max_height": null,
            "max_width": null,
            "min_height": null,
            "min_width": null,
            "object_fit": null,
            "object_position": null,
            "order": null,
            "overflow": null,
            "overflow_x": null,
            "overflow_y": null,
            "padding": null,
            "right": null,
            "top": null,
            "visibility": null,
            "width": null
          }
        },
        "9c774b8772f946a1986cafa5a13ff72d": {
          "model_module": "@jupyter-widgets/base",
          "model_name": "LayoutModel",
          "model_module_version": "1.2.0",
          "state": {
            "_model_module": "@jupyter-widgets/base",
            "_model_module_version": "1.2.0",
            "_model_name": "LayoutModel",
            "_view_count": null,
            "_view_module": "@jupyter-widgets/base",
            "_view_module_version": "1.2.0",
            "_view_name": "LayoutView",
            "align_content": null,
            "align_items": null,
            "align_self": null,
            "border": null,
            "bottom": null,
            "display": null,
            "flex": null,
            "flex_flow": null,
            "grid_area": null,
            "grid_auto_columns": null,
            "grid_auto_flow": null,
            "grid_auto_rows": null,
            "grid_column": null,
            "grid_gap": null,
            "grid_row": null,
            "grid_template_areas": null,
            "grid_template_columns": null,
            "grid_template_rows": null,
            "height": null,
            "justify_content": null,
            "justify_items": null,
            "left": null,
            "margin": null,
            "max_height": null,
            "max_width": null,
            "min_height": null,
            "min_width": null,
            "object_fit": null,
            "object_position": null,
            "order": null,
            "overflow": null,
            "overflow_x": null,
            "overflow_y": null,
            "padding": null,
            "right": null,
            "top": null,
            "visibility": null,
            "width": null
          }
        },
        "7b524ac8d88a464bb7b0be00eb55cd07": {
          "model_module": "@jupyter-widgets/controls",
          "model_name": "DescriptionStyleModel",
          "model_module_version": "1.5.0",
          "state": {
            "_model_module": "@jupyter-widgets/controls",
            "_model_module_version": "1.5.0",
            "_model_name": "DescriptionStyleModel",
            "_view_count": null,
            "_view_module": "@jupyter-widgets/base",
            "_view_module_version": "1.2.0",
            "_view_name": "StyleView",
            "description_width": ""
          }
        },
        "39441f5be55a4830ae0e577dd0945efb": {
          "model_module": "@jupyter-widgets/base",
          "model_name": "LayoutModel",
          "model_module_version": "1.2.0",
          "state": {
            "_model_module": "@jupyter-widgets/base",
            "_model_module_version": "1.2.0",
            "_model_name": "LayoutModel",
            "_view_count": null,
            "_view_module": "@jupyter-widgets/base",
            "_view_module_version": "1.2.0",
            "_view_name": "LayoutView",
            "align_content": null,
            "align_items": null,
            "align_self": null,
            "border": null,
            "bottom": null,
            "display": null,
            "flex": null,
            "flex_flow": null,
            "grid_area": null,
            "grid_auto_columns": null,
            "grid_auto_flow": null,
            "grid_auto_rows": null,
            "grid_column": null,
            "grid_gap": null,
            "grid_row": null,
            "grid_template_areas": null,
            "grid_template_columns": null,
            "grid_template_rows": null,
            "height": null,
            "justify_content": null,
            "justify_items": null,
            "left": null,
            "margin": null,
            "max_height": null,
            "max_width": null,
            "min_height": null,
            "min_width": null,
            "object_fit": null,
            "object_position": null,
            "order": null,
            "overflow": null,
            "overflow_x": null,
            "overflow_y": null,
            "padding": null,
            "right": null,
            "top": null,
            "visibility": null,
            "width": null
          }
        },
        "cd0d13c0f43a42bfb2d5006f8c8e9f93": {
          "model_module": "@jupyter-widgets/controls",
          "model_name": "ProgressStyleModel",
          "model_module_version": "1.5.0",
          "state": {
            "_model_module": "@jupyter-widgets/controls",
            "_model_module_version": "1.5.0",
            "_model_name": "ProgressStyleModel",
            "_view_count": null,
            "_view_module": "@jupyter-widgets/base",
            "_view_module_version": "1.2.0",
            "_view_name": "StyleView",
            "bar_color": null,
            "description_width": ""
          }
        },
        "592182123b0849bc9d8d39b6a5ac9ff9": {
          "model_module": "@jupyter-widgets/base",
          "model_name": "LayoutModel",
          "model_module_version": "1.2.0",
          "state": {
            "_model_module": "@jupyter-widgets/base",
            "_model_module_version": "1.2.0",
            "_model_name": "LayoutModel",
            "_view_count": null,
            "_view_module": "@jupyter-widgets/base",
            "_view_module_version": "1.2.0",
            "_view_name": "LayoutView",
            "align_content": null,
            "align_items": null,
            "align_self": null,
            "border": null,
            "bottom": null,
            "display": null,
            "flex": null,
            "flex_flow": null,
            "grid_area": null,
            "grid_auto_columns": null,
            "grid_auto_flow": null,
            "grid_auto_rows": null,
            "grid_column": null,
            "grid_gap": null,
            "grid_row": null,
            "grid_template_areas": null,
            "grid_template_columns": null,
            "grid_template_rows": null,
            "height": null,
            "justify_content": null,
            "justify_items": null,
            "left": null,
            "margin": null,
            "max_height": null,
            "max_width": null,
            "min_height": null,
            "min_width": null,
            "object_fit": null,
            "object_position": null,
            "order": null,
            "overflow": null,
            "overflow_x": null,
            "overflow_y": null,
            "padding": null,
            "right": null,
            "top": null,
            "visibility": null,
            "width": null
          }
        },
        "3de81a29c33f40748007f42d38913cc4": {
          "model_module": "@jupyter-widgets/controls",
          "model_name": "DescriptionStyleModel",
          "model_module_version": "1.5.0",
          "state": {
            "_model_module": "@jupyter-widgets/controls",
            "_model_module_version": "1.5.0",
            "_model_name": "DescriptionStyleModel",
            "_view_count": null,
            "_view_module": "@jupyter-widgets/base",
            "_view_module_version": "1.2.0",
            "_view_name": "StyleView",
            "description_width": ""
          }
        },
        "ad2f9150bed6438c8e6d112134b49c16": {
          "model_module": "@jupyter-widgets/controls",
          "model_name": "HBoxModel",
          "model_module_version": "1.5.0",
          "state": {
            "_dom_classes": [],
            "_model_module": "@jupyter-widgets/controls",
            "_model_module_version": "1.5.0",
            "_model_name": "HBoxModel",
            "_view_count": null,
            "_view_module": "@jupyter-widgets/controls",
            "_view_module_version": "1.5.0",
            "_view_name": "HBoxView",
            "box_style": "",
            "children": [
              "IPY_MODEL_6b9854208a0c47f18d1e0ac754fe267a",
              "IPY_MODEL_40c18ff4ae804a3283e73e57665282ca",
              "IPY_MODEL_3a7a7a1d844a4ec4bac0e5a9b2cba951"
            ],
            "layout": "IPY_MODEL_9d210c61daf14aa6975f0a5454bd95c3"
          }
        },
        "6b9854208a0c47f18d1e0ac754fe267a": {
          "model_module": "@jupyter-widgets/controls",
          "model_name": "HTMLModel",
          "model_module_version": "1.5.0",
          "state": {
            "_dom_classes": [],
            "_model_module": "@jupyter-widgets/controls",
            "_model_module_version": "1.5.0",
            "_model_name": "HTMLModel",
            "_view_count": null,
            "_view_module": "@jupyter-widgets/controls",
            "_view_module_version": "1.5.0",
            "_view_name": "HTMLView",
            "description": "",
            "description_tooltip": null,
            "layout": "IPY_MODEL_f28370ddc8064400b54892e05cc0a5ef",
            "placeholder": "​",
            "style": "IPY_MODEL_556f5efc332d449181caa1fbbbfe21bf",
            "value": "Downloading: 100%"
          }
        },
        "40c18ff4ae804a3283e73e57665282ca": {
          "model_module": "@jupyter-widgets/controls",
          "model_name": "FloatProgressModel",
          "model_module_version": "1.5.0",
          "state": {
            "_dom_classes": [],
            "_model_module": "@jupyter-widgets/controls",
            "_model_module_version": "1.5.0",
            "_model_name": "FloatProgressModel",
            "_view_count": null,
            "_view_module": "@jupyter-widgets/controls",
            "_view_module_version": "1.5.0",
            "_view_name": "ProgressView",
            "bar_style": "success",
            "description": "",
            "description_tooltip": null,
            "layout": "IPY_MODEL_1ccc1ee4b96c40ffa491efbed33f770f",
            "max": 570,
            "min": 0,
            "orientation": "horizontal",
            "style": "IPY_MODEL_ba430ce1a5b0456083aefcc3fd442182",
            "value": 570
          }
        },
        "3a7a7a1d844a4ec4bac0e5a9b2cba951": {
          "model_module": "@jupyter-widgets/controls",
          "model_name": "HTMLModel",
          "model_module_version": "1.5.0",
          "state": {
            "_dom_classes": [],
            "_model_module": "@jupyter-widgets/controls",
            "_model_module_version": "1.5.0",
            "_model_name": "HTMLModel",
            "_view_count": null,
            "_view_module": "@jupyter-widgets/controls",
            "_view_module_version": "1.5.0",
            "_view_name": "HTMLView",
            "description": "",
            "description_tooltip": null,
            "layout": "IPY_MODEL_89bf8384e8dc4bdeba2044fd2b37a30c",
            "placeholder": "​",
            "style": "IPY_MODEL_19f32768f57c44009e2f879434116b8b",
            "value": " 570/570 [00:00&lt;00:00, 6.01kB/s]"
          }
        },
        "9d210c61daf14aa6975f0a5454bd95c3": {
          "model_module": "@jupyter-widgets/base",
          "model_name": "LayoutModel",
          "model_module_version": "1.2.0",
          "state": {
            "_model_module": "@jupyter-widgets/base",
            "_model_module_version": "1.2.0",
            "_model_name": "LayoutModel",
            "_view_count": null,
            "_view_module": "@jupyter-widgets/base",
            "_view_module_version": "1.2.0",
            "_view_name": "LayoutView",
            "align_content": null,
            "align_items": null,
            "align_self": null,
            "border": null,
            "bottom": null,
            "display": null,
            "flex": null,
            "flex_flow": null,
            "grid_area": null,
            "grid_auto_columns": null,
            "grid_auto_flow": null,
            "grid_auto_rows": null,
            "grid_column": null,
            "grid_gap": null,
            "grid_row": null,
            "grid_template_areas": null,
            "grid_template_columns": null,
            "grid_template_rows": null,
            "height": null,
            "justify_content": null,
            "justify_items": null,
            "left": null,
            "margin": null,
            "max_height": null,
            "max_width": null,
            "min_height": null,
            "min_width": null,
            "object_fit": null,
            "object_position": null,
            "order": null,
            "overflow": null,
            "overflow_x": null,
            "overflow_y": null,
            "padding": null,
            "right": null,
            "top": null,
            "visibility": null,
            "width": null
          }
        },
        "f28370ddc8064400b54892e05cc0a5ef": {
          "model_module": "@jupyter-widgets/base",
          "model_name": "LayoutModel",
          "model_module_version": "1.2.0",
          "state": {
            "_model_module": "@jupyter-widgets/base",
            "_model_module_version": "1.2.0",
            "_model_name": "LayoutModel",
            "_view_count": null,
            "_view_module": "@jupyter-widgets/base",
            "_view_module_version": "1.2.0",
            "_view_name": "LayoutView",
            "align_content": null,
            "align_items": null,
            "align_self": null,
            "border": null,
            "bottom": null,
            "display": null,
            "flex": null,
            "flex_flow": null,
            "grid_area": null,
            "grid_auto_columns": null,
            "grid_auto_flow": null,
            "grid_auto_rows": null,
            "grid_column": null,
            "grid_gap": null,
            "grid_row": null,
            "grid_template_areas": null,
            "grid_template_columns": null,
            "grid_template_rows": null,
            "height": null,
            "justify_content": null,
            "justify_items": null,
            "left": null,
            "margin": null,
            "max_height": null,
            "max_width": null,
            "min_height": null,
            "min_width": null,
            "object_fit": null,
            "object_position": null,
            "order": null,
            "overflow": null,
            "overflow_x": null,
            "overflow_y": null,
            "padding": null,
            "right": null,
            "top": null,
            "visibility": null,
            "width": null
          }
        },
        "556f5efc332d449181caa1fbbbfe21bf": {
          "model_module": "@jupyter-widgets/controls",
          "model_name": "DescriptionStyleModel",
          "model_module_version": "1.5.0",
          "state": {
            "_model_module": "@jupyter-widgets/controls",
            "_model_module_version": "1.5.0",
            "_model_name": "DescriptionStyleModel",
            "_view_count": null,
            "_view_module": "@jupyter-widgets/base",
            "_view_module_version": "1.2.0",
            "_view_name": "StyleView",
            "description_width": ""
          }
        },
        "1ccc1ee4b96c40ffa491efbed33f770f": {
          "model_module": "@jupyter-widgets/base",
          "model_name": "LayoutModel",
          "model_module_version": "1.2.0",
          "state": {
            "_model_module": "@jupyter-widgets/base",
            "_model_module_version": "1.2.0",
            "_model_name": "LayoutModel",
            "_view_count": null,
            "_view_module": "@jupyter-widgets/base",
            "_view_module_version": "1.2.0",
            "_view_name": "LayoutView",
            "align_content": null,
            "align_items": null,
            "align_self": null,
            "border": null,
            "bottom": null,
            "display": null,
            "flex": null,
            "flex_flow": null,
            "grid_area": null,
            "grid_auto_columns": null,
            "grid_auto_flow": null,
            "grid_auto_rows": null,
            "grid_column": null,
            "grid_gap": null,
            "grid_row": null,
            "grid_template_areas": null,
            "grid_template_columns": null,
            "grid_template_rows": null,
            "height": null,
            "justify_content": null,
            "justify_items": null,
            "left": null,
            "margin": null,
            "max_height": null,
            "max_width": null,
            "min_height": null,
            "min_width": null,
            "object_fit": null,
            "object_position": null,
            "order": null,
            "overflow": null,
            "overflow_x": null,
            "overflow_y": null,
            "padding": null,
            "right": null,
            "top": null,
            "visibility": null,
            "width": null
          }
        },
        "ba430ce1a5b0456083aefcc3fd442182": {
          "model_module": "@jupyter-widgets/controls",
          "model_name": "ProgressStyleModel",
          "model_module_version": "1.5.0",
          "state": {
            "_model_module": "@jupyter-widgets/controls",
            "_model_module_version": "1.5.0",
            "_model_name": "ProgressStyleModel",
            "_view_count": null,
            "_view_module": "@jupyter-widgets/base",
            "_view_module_version": "1.2.0",
            "_view_name": "StyleView",
            "bar_color": null,
            "description_width": ""
          }
        },
        "89bf8384e8dc4bdeba2044fd2b37a30c": {
          "model_module": "@jupyter-widgets/base",
          "model_name": "LayoutModel",
          "model_module_version": "1.2.0",
          "state": {
            "_model_module": "@jupyter-widgets/base",
            "_model_module_version": "1.2.0",
            "_model_name": "LayoutModel",
            "_view_count": null,
            "_view_module": "@jupyter-widgets/base",
            "_view_module_version": "1.2.0",
            "_view_name": "LayoutView",
            "align_content": null,
            "align_items": null,
            "align_self": null,
            "border": null,
            "bottom": null,
            "display": null,
            "flex": null,
            "flex_flow": null,
            "grid_area": null,
            "grid_auto_columns": null,
            "grid_auto_flow": null,
            "grid_auto_rows": null,
            "grid_column": null,
            "grid_gap": null,
            "grid_row": null,
            "grid_template_areas": null,
            "grid_template_columns": null,
            "grid_template_rows": null,
            "height": null,
            "justify_content": null,
            "justify_items": null,
            "left": null,
            "margin": null,
            "max_height": null,
            "max_width": null,
            "min_height": null,
            "min_width": null,
            "object_fit": null,
            "object_position": null,
            "order": null,
            "overflow": null,
            "overflow_x": null,
            "overflow_y": null,
            "padding": null,
            "right": null,
            "top": null,
            "visibility": null,
            "width": null
          }
        },
        "19f32768f57c44009e2f879434116b8b": {
          "model_module": "@jupyter-widgets/controls",
          "model_name": "DescriptionStyleModel",
          "model_module_version": "1.5.0",
          "state": {
            "_model_module": "@jupyter-widgets/controls",
            "_model_module_version": "1.5.0",
            "_model_name": "DescriptionStyleModel",
            "_view_count": null,
            "_view_module": "@jupyter-widgets/base",
            "_view_module_version": "1.2.0",
            "_view_name": "StyleView",
            "description_width": ""
          }
        },
        "8acb5a46fd354988807c024377d40a95": {
          "model_module": "@jupyter-widgets/controls",
          "model_name": "HBoxModel",
          "model_module_version": "1.5.0",
          "state": {
            "_dom_classes": [],
            "_model_module": "@jupyter-widgets/controls",
            "_model_module_version": "1.5.0",
            "_model_name": "HBoxModel",
            "_view_count": null,
            "_view_module": "@jupyter-widgets/controls",
            "_view_module_version": "1.5.0",
            "_view_name": "HBoxView",
            "box_style": "",
            "children": [
              "IPY_MODEL_325e1a938f984a00880bbb2cd5bff89e",
              "IPY_MODEL_7283fc6b9c98474cbfe10715a225f764",
              "IPY_MODEL_e75d0e8327fd4ddf841633edbec499dc"
            ],
            "layout": "IPY_MODEL_1074de417bac44198b3fa7482fa76aea"
          }
        },
        "325e1a938f984a00880bbb2cd5bff89e": {
          "model_module": "@jupyter-widgets/controls",
          "model_name": "HTMLModel",
          "model_module_version": "1.5.0",
          "state": {
            "_dom_classes": [],
            "_model_module": "@jupyter-widgets/controls",
            "_model_module_version": "1.5.0",
            "_model_name": "HTMLModel",
            "_view_count": null,
            "_view_module": "@jupyter-widgets/controls",
            "_view_module_version": "1.5.0",
            "_view_name": "HTMLView",
            "description": "",
            "description_tooltip": null,
            "layout": "IPY_MODEL_5ccce7a7b0cf4c98a9641de182d5fdab",
            "placeholder": "​",
            "style": "IPY_MODEL_6845c5d0dc46409e8fd29e48ff788d90",
            "value": "Downloading: 100%"
          }
        },
        "7283fc6b9c98474cbfe10715a225f764": {
          "model_module": "@jupyter-widgets/controls",
          "model_name": "FloatProgressModel",
          "model_module_version": "1.5.0",
          "state": {
            "_dom_classes": [],
            "_model_module": "@jupyter-widgets/controls",
            "_model_module_version": "1.5.0",
            "_model_name": "FloatProgressModel",
            "_view_count": null,
            "_view_module": "@jupyter-widgets/controls",
            "_view_module_version": "1.5.0",
            "_view_name": "ProgressView",
            "bar_style": "success",
            "description": "",
            "description_tooltip": null,
            "layout": "IPY_MODEL_a70c13f5d8a94ab093116e12f865d1c2",
            "max": 435779157,
            "min": 0,
            "orientation": "horizontal",
            "style": "IPY_MODEL_b460d25461dc49358454f705c31c4d97",
            "value": 435779157
          }
        },
        "e75d0e8327fd4ddf841633edbec499dc": {
          "model_module": "@jupyter-widgets/controls",
          "model_name": "HTMLModel",
          "model_module_version": "1.5.0",
          "state": {
            "_dom_classes": [],
            "_model_module": "@jupyter-widgets/controls",
            "_model_module_version": "1.5.0",
            "_model_name": "HTMLModel",
            "_view_count": null,
            "_view_module": "@jupyter-widgets/controls",
            "_view_module_version": "1.5.0",
            "_view_name": "HTMLView",
            "description": "",
            "description_tooltip": null,
            "layout": "IPY_MODEL_d213d33dd6b443c7b81a5402383ea2c6",
            "placeholder": "​",
            "style": "IPY_MODEL_4fb9d33ae6334c82aa108074eedade30",
            "value": " 436M/436M [00:15&lt;00:00, 29.8MB/s]"
          }
        },
        "1074de417bac44198b3fa7482fa76aea": {
          "model_module": "@jupyter-widgets/base",
          "model_name": "LayoutModel",
          "model_module_version": "1.2.0",
          "state": {
            "_model_module": "@jupyter-widgets/base",
            "_model_module_version": "1.2.0",
            "_model_name": "LayoutModel",
            "_view_count": null,
            "_view_module": "@jupyter-widgets/base",
            "_view_module_version": "1.2.0",
            "_view_name": "LayoutView",
            "align_content": null,
            "align_items": null,
            "align_self": null,
            "border": null,
            "bottom": null,
            "display": null,
            "flex": null,
            "flex_flow": null,
            "grid_area": null,
            "grid_auto_columns": null,
            "grid_auto_flow": null,
            "grid_auto_rows": null,
            "grid_column": null,
            "grid_gap": null,
            "grid_row": null,
            "grid_template_areas": null,
            "grid_template_columns": null,
            "grid_template_rows": null,
            "height": null,
            "justify_content": null,
            "justify_items": null,
            "left": null,
            "margin": null,
            "max_height": null,
            "max_width": null,
            "min_height": null,
            "min_width": null,
            "object_fit": null,
            "object_position": null,
            "order": null,
            "overflow": null,
            "overflow_x": null,
            "overflow_y": null,
            "padding": null,
            "right": null,
            "top": null,
            "visibility": null,
            "width": null
          }
        },
        "5ccce7a7b0cf4c98a9641de182d5fdab": {
          "model_module": "@jupyter-widgets/base",
          "model_name": "LayoutModel",
          "model_module_version": "1.2.0",
          "state": {
            "_model_module": "@jupyter-widgets/base",
            "_model_module_version": "1.2.0",
            "_model_name": "LayoutModel",
            "_view_count": null,
            "_view_module": "@jupyter-widgets/base",
            "_view_module_version": "1.2.0",
            "_view_name": "LayoutView",
            "align_content": null,
            "align_items": null,
            "align_self": null,
            "border": null,
            "bottom": null,
            "display": null,
            "flex": null,
            "flex_flow": null,
            "grid_area": null,
            "grid_auto_columns": null,
            "grid_auto_flow": null,
            "grid_auto_rows": null,
            "grid_column": null,
            "grid_gap": null,
            "grid_row": null,
            "grid_template_areas": null,
            "grid_template_columns": null,
            "grid_template_rows": null,
            "height": null,
            "justify_content": null,
            "justify_items": null,
            "left": null,
            "margin": null,
            "max_height": null,
            "max_width": null,
            "min_height": null,
            "min_width": null,
            "object_fit": null,
            "object_position": null,
            "order": null,
            "overflow": null,
            "overflow_x": null,
            "overflow_y": null,
            "padding": null,
            "right": null,
            "top": null,
            "visibility": null,
            "width": null
          }
        },
        "6845c5d0dc46409e8fd29e48ff788d90": {
          "model_module": "@jupyter-widgets/controls",
          "model_name": "DescriptionStyleModel",
          "model_module_version": "1.5.0",
          "state": {
            "_model_module": "@jupyter-widgets/controls",
            "_model_module_version": "1.5.0",
            "_model_name": "DescriptionStyleModel",
            "_view_count": null,
            "_view_module": "@jupyter-widgets/base",
            "_view_module_version": "1.2.0",
            "_view_name": "StyleView",
            "description_width": ""
          }
        },
        "a70c13f5d8a94ab093116e12f865d1c2": {
          "model_module": "@jupyter-widgets/base",
          "model_name": "LayoutModel",
          "model_module_version": "1.2.0",
          "state": {
            "_model_module": "@jupyter-widgets/base",
            "_model_module_version": "1.2.0",
            "_model_name": "LayoutModel",
            "_view_count": null,
            "_view_module": "@jupyter-widgets/base",
            "_view_module_version": "1.2.0",
            "_view_name": "LayoutView",
            "align_content": null,
            "align_items": null,
            "align_self": null,
            "border": null,
            "bottom": null,
            "display": null,
            "flex": null,
            "flex_flow": null,
            "grid_area": null,
            "grid_auto_columns": null,
            "grid_auto_flow": null,
            "grid_auto_rows": null,
            "grid_column": null,
            "grid_gap": null,
            "grid_row": null,
            "grid_template_areas": null,
            "grid_template_columns": null,
            "grid_template_rows": null,
            "height": null,
            "justify_content": null,
            "justify_items": null,
            "left": null,
            "margin": null,
            "max_height": null,
            "max_width": null,
            "min_height": null,
            "min_width": null,
            "object_fit": null,
            "object_position": null,
            "order": null,
            "overflow": null,
            "overflow_x": null,
            "overflow_y": null,
            "padding": null,
            "right": null,
            "top": null,
            "visibility": null,
            "width": null
          }
        },
        "b460d25461dc49358454f705c31c4d97": {
          "model_module": "@jupyter-widgets/controls",
          "model_name": "ProgressStyleModel",
          "model_module_version": "1.5.0",
          "state": {
            "_model_module": "@jupyter-widgets/controls",
            "_model_module_version": "1.5.0",
            "_model_name": "ProgressStyleModel",
            "_view_count": null,
            "_view_module": "@jupyter-widgets/base",
            "_view_module_version": "1.2.0",
            "_view_name": "StyleView",
            "bar_color": null,
            "description_width": ""
          }
        },
        "d213d33dd6b443c7b81a5402383ea2c6": {
          "model_module": "@jupyter-widgets/base",
          "model_name": "LayoutModel",
          "model_module_version": "1.2.0",
          "state": {
            "_model_module": "@jupyter-widgets/base",
            "_model_module_version": "1.2.0",
            "_model_name": "LayoutModel",
            "_view_count": null,
            "_view_module": "@jupyter-widgets/base",
            "_view_module_version": "1.2.0",
            "_view_name": "LayoutView",
            "align_content": null,
            "align_items": null,
            "align_self": null,
            "border": null,
            "bottom": null,
            "display": null,
            "flex": null,
            "flex_flow": null,
            "grid_area": null,
            "grid_auto_columns": null,
            "grid_auto_flow": null,
            "grid_auto_rows": null,
            "grid_column": null,
            "grid_gap": null,
            "grid_row": null,
            "grid_template_areas": null,
            "grid_template_columns": null,
            "grid_template_rows": null,
            "height": null,
            "justify_content": null,
            "justify_items": null,
            "left": null,
            "margin": null,
            "max_height": null,
            "max_width": null,
            "min_height": null,
            "min_width": null,
            "object_fit": null,
            "object_position": null,
            "order": null,
            "overflow": null,
            "overflow_x": null,
            "overflow_y": null,
            "padding": null,
            "right": null,
            "top": null,
            "visibility": null,
            "width": null
          }
        },
        "4fb9d33ae6334c82aa108074eedade30": {
          "model_module": "@jupyter-widgets/controls",
          "model_name": "DescriptionStyleModel",
          "model_module_version": "1.5.0",
          "state": {
            "_model_module": "@jupyter-widgets/controls",
            "_model_module_version": "1.5.0",
            "_model_name": "DescriptionStyleModel",
            "_view_count": null,
            "_view_module": "@jupyter-widgets/base",
            "_view_module_version": "1.2.0",
            "_view_name": "StyleView",
            "description_width": ""
          }
        }
      }
    }
  },
  "cells": [
    {
      "cell_type": "markdown",
      "metadata": {
        "id": "view-in-github",
        "colab_type": "text"
      },
      "source": [
        "<a href=\"https://colab.research.google.com/github/Haytam258/NLPDisaster/blob/main/NLPDisaster.ipynb\" target=\"_parent\"><img src=\"https://colab.research.google.com/assets/colab-badge.svg\" alt=\"Open In Colab\"/></a>"
      ]
    },
    {
      "cell_type": "code",
      "source": [
        "!pip install -q kaggle"
      ],
      "metadata": {
        "id": "mulIEbJU8J9m"
      },
      "execution_count": 1,
      "outputs": []
    },
    {
      "cell_type": "code",
      "source": [
        "from google.colab import files\n",
        "uploader = files.upload()"
      ],
      "metadata": {
        "colab": {
          "base_uri": "https://localhost:8080/",
          "height": 73
        },
        "id": "cpG93I288W8v",
        "outputId": "79aff67b-6bd3-4b8d-f01a-f953b6bc8083"
      },
      "execution_count": 2,
      "outputs": [
        {
          "output_type": "display_data",
          "data": {
            "text/plain": [
              "<IPython.core.display.HTML object>"
            ],
            "text/html": [
              "\n",
              "     <input type=\"file\" id=\"files-678ac716-ca14-40f5-966f-061313c6ac9d\" name=\"files[]\" multiple disabled\n",
              "        style=\"border:none\" />\n",
              "     <output id=\"result-678ac716-ca14-40f5-966f-061313c6ac9d\">\n",
              "      Upload widget is only available when the cell has been executed in the\n",
              "      current browser session. Please rerun this cell to enable.\n",
              "      </output>\n",
              "      <script>// Copyright 2017 Google LLC\n",
              "//\n",
              "// Licensed under the Apache License, Version 2.0 (the \"License\");\n",
              "// you may not use this file except in compliance with the License.\n",
              "// You may obtain a copy of the License at\n",
              "//\n",
              "//      http://www.apache.org/licenses/LICENSE-2.0\n",
              "//\n",
              "// Unless required by applicable law or agreed to in writing, software\n",
              "// distributed under the License is distributed on an \"AS IS\" BASIS,\n",
              "// WITHOUT WARRANTIES OR CONDITIONS OF ANY KIND, either express or implied.\n",
              "// See the License for the specific language governing permissions and\n",
              "// limitations under the License.\n",
              "\n",
              "/**\n",
              " * @fileoverview Helpers for google.colab Python module.\n",
              " */\n",
              "(function(scope) {\n",
              "function span(text, styleAttributes = {}) {\n",
              "  const element = document.createElement('span');\n",
              "  element.textContent = text;\n",
              "  for (const key of Object.keys(styleAttributes)) {\n",
              "    element.style[key] = styleAttributes[key];\n",
              "  }\n",
              "  return element;\n",
              "}\n",
              "\n",
              "// Max number of bytes which will be uploaded at a time.\n",
              "const MAX_PAYLOAD_SIZE = 100 * 1024;\n",
              "\n",
              "function _uploadFiles(inputId, outputId) {\n",
              "  const steps = uploadFilesStep(inputId, outputId);\n",
              "  const outputElement = document.getElementById(outputId);\n",
              "  // Cache steps on the outputElement to make it available for the next call\n",
              "  // to uploadFilesContinue from Python.\n",
              "  outputElement.steps = steps;\n",
              "\n",
              "  return _uploadFilesContinue(outputId);\n",
              "}\n",
              "\n",
              "// This is roughly an async generator (not supported in the browser yet),\n",
              "// where there are multiple asynchronous steps and the Python side is going\n",
              "// to poll for completion of each step.\n",
              "// This uses a Promise to block the python side on completion of each step,\n",
              "// then passes the result of the previous step as the input to the next step.\n",
              "function _uploadFilesContinue(outputId) {\n",
              "  const outputElement = document.getElementById(outputId);\n",
              "  const steps = outputElement.steps;\n",
              "\n",
              "  const next = steps.next(outputElement.lastPromiseValue);\n",
              "  return Promise.resolve(next.value.promise).then((value) => {\n",
              "    // Cache the last promise value to make it available to the next\n",
              "    // step of the generator.\n",
              "    outputElement.lastPromiseValue = value;\n",
              "    return next.value.response;\n",
              "  });\n",
              "}\n",
              "\n",
              "/**\n",
              " * Generator function which is called between each async step of the upload\n",
              " * process.\n",
              " * @param {string} inputId Element ID of the input file picker element.\n",
              " * @param {string} outputId Element ID of the output display.\n",
              " * @return {!Iterable<!Object>} Iterable of next steps.\n",
              " */\n",
              "function* uploadFilesStep(inputId, outputId) {\n",
              "  const inputElement = document.getElementById(inputId);\n",
              "  inputElement.disabled = false;\n",
              "\n",
              "  const outputElement = document.getElementById(outputId);\n",
              "  outputElement.innerHTML = '';\n",
              "\n",
              "  const pickedPromise = new Promise((resolve) => {\n",
              "    inputElement.addEventListener('change', (e) => {\n",
              "      resolve(e.target.files);\n",
              "    });\n",
              "  });\n",
              "\n",
              "  const cancel = document.createElement('button');\n",
              "  inputElement.parentElement.appendChild(cancel);\n",
              "  cancel.textContent = 'Cancel upload';\n",
              "  const cancelPromise = new Promise((resolve) => {\n",
              "    cancel.onclick = () => {\n",
              "      resolve(null);\n",
              "    };\n",
              "  });\n",
              "\n",
              "  // Wait for the user to pick the files.\n",
              "  const files = yield {\n",
              "    promise: Promise.race([pickedPromise, cancelPromise]),\n",
              "    response: {\n",
              "      action: 'starting',\n",
              "    }\n",
              "  };\n",
              "\n",
              "  cancel.remove();\n",
              "\n",
              "  // Disable the input element since further picks are not allowed.\n",
              "  inputElement.disabled = true;\n",
              "\n",
              "  if (!files) {\n",
              "    return {\n",
              "      response: {\n",
              "        action: 'complete',\n",
              "      }\n",
              "    };\n",
              "  }\n",
              "\n",
              "  for (const file of files) {\n",
              "    const li = document.createElement('li');\n",
              "    li.append(span(file.name, {fontWeight: 'bold'}));\n",
              "    li.append(span(\n",
              "        `(${file.type || 'n/a'}) - ${file.size} bytes, ` +\n",
              "        `last modified: ${\n",
              "            file.lastModifiedDate ? file.lastModifiedDate.toLocaleDateString() :\n",
              "                                    'n/a'} - `));\n",
              "    const percent = span('0% done');\n",
              "    li.appendChild(percent);\n",
              "\n",
              "    outputElement.appendChild(li);\n",
              "\n",
              "    const fileDataPromise = new Promise((resolve) => {\n",
              "      const reader = new FileReader();\n",
              "      reader.onload = (e) => {\n",
              "        resolve(e.target.result);\n",
              "      };\n",
              "      reader.readAsArrayBuffer(file);\n",
              "    });\n",
              "    // Wait for the data to be ready.\n",
              "    let fileData = yield {\n",
              "      promise: fileDataPromise,\n",
              "      response: {\n",
              "        action: 'continue',\n",
              "      }\n",
              "    };\n",
              "\n",
              "    // Use a chunked sending to avoid message size limits. See b/62115660.\n",
              "    let position = 0;\n",
              "    do {\n",
              "      const length = Math.min(fileData.byteLength - position, MAX_PAYLOAD_SIZE);\n",
              "      const chunk = new Uint8Array(fileData, position, length);\n",
              "      position += length;\n",
              "\n",
              "      const base64 = btoa(String.fromCharCode.apply(null, chunk));\n",
              "      yield {\n",
              "        response: {\n",
              "          action: 'append',\n",
              "          file: file.name,\n",
              "          data: base64,\n",
              "        },\n",
              "      };\n",
              "\n",
              "      let percentDone = fileData.byteLength === 0 ?\n",
              "          100 :\n",
              "          Math.round((position / fileData.byteLength) * 100);\n",
              "      percent.textContent = `${percentDone}% done`;\n",
              "\n",
              "    } while (position < fileData.byteLength);\n",
              "  }\n",
              "\n",
              "  // All done.\n",
              "  yield {\n",
              "    response: {\n",
              "      action: 'complete',\n",
              "    }\n",
              "  };\n",
              "}\n",
              "\n",
              "scope.google = scope.google || {};\n",
              "scope.google.colab = scope.google.colab || {};\n",
              "scope.google.colab._files = {\n",
              "  _uploadFiles,\n",
              "  _uploadFilesContinue,\n",
              "};\n",
              "})(self);\n",
              "</script> "
            ]
          },
          "metadata": {}
        },
        {
          "output_type": "stream",
          "name": "stdout",
          "text": [
            "Saving kaggle.json to kaggle.json\n"
          ]
        }
      ]
    },
    {
      "cell_type": "code",
      "source": [
        "!rm -r ~/.kaggle\n",
        "!mkdir ~/.kaggle\n",
        "!mv ./kaggle.json ~/.kaggle/\n",
        "!chmod 600 ~/.kaggle/kaggle.json"
      ],
      "metadata": {
        "id": "yhzt8CRr8kBe",
        "colab": {
          "base_uri": "https://localhost:8080/"
        },
        "outputId": "3a4ff993-17c2-484f-8efe-8f6ce1922ffc"
      },
      "execution_count": 3,
      "outputs": [
        {
          "output_type": "stream",
          "name": "stdout",
          "text": [
            "rm: cannot remove '/root/.kaggle': No such file or directory\n"
          ]
        }
      ]
    },
    {
      "cell_type": "code",
      "execution_count": 4,
      "metadata": {
        "colab": {
          "base_uri": "https://localhost:8080/"
        },
        "id": "hvTCYeDZ8Ajs",
        "outputId": "a0873c16-94e1-4864-912c-f533329120fd"
      },
      "outputs": [
        {
          "output_type": "stream",
          "name": "stdout",
          "text": [
            "Downloading nlp-getting-started.zip to /content\n",
            "\r  0% 0.00/593k [00:00<?, ?B/s]\n",
            "\r100% 593k/593k [00:00<00:00, 112MB/s]\n"
          ]
        }
      ],
      "source": [
        "!kaggle competitions download -c nlp-getting-started"
      ]
    },
    {
      "cell_type": "code",
      "source": [
        "import zipfile \n",
        "from pathlib import Path\n",
        "\n",
        "data_path = Path(\"data/\")\n",
        "\n",
        "if data_path.is_dir() :\n",
        "  print(\"Skipping directory creation ...\")\n",
        "else:\n",
        "  print(\"Creating the directory data...\")\n",
        "  data_path.mkdir(exist_ok = True, parents = True)\n",
        "  !mv nlp-getting-started.zip data/nlp-getting-started.zip\n",
        "\n",
        "with zipfile.ZipFile(data_path/\"nlp-getting-started.zip\",\"r\") as zip_ref:\n",
        "  print(\"Extracting data...\")\n",
        "  zip_ref.extractall(data_path/\"nlp-getting-started\")"
      ],
      "metadata": {
        "colab": {
          "base_uri": "https://localhost:8080/"
        },
        "id": "Ttk3GPjk8ocf",
        "outputId": "d42afdaa-3f03-4e01-80a8-d5d66afc7970"
      },
      "execution_count": 5,
      "outputs": [
        {
          "output_type": "stream",
          "name": "stdout",
          "text": [
            "Creating the directory data...\n",
            "Extracting data...\n"
          ]
        }
      ]
    },
    {
      "cell_type": "code",
      "source": [
        "import pandas as pd\n",
        "import numpy as np\n",
        "import seaborn as sns\n",
        "\n",
        "train_data = pd.read_csv(\"data/nlp-getting-started/train.csv\", index_col = \"id\")\n",
        "\n",
        "train_data.head()"
      ],
      "metadata": {
        "colab": {
          "base_uri": "https://localhost:8080/",
          "height": 238
        },
        "id": "xW5IPwMH9i9y",
        "outputId": "e50ac09a-f795-4946-d3a7-90bdd973d40d"
      },
      "execution_count": 6,
      "outputs": [
        {
          "output_type": "execute_result",
          "data": {
            "text/plain": [
              "   keyword location                                               text  target\n",
              "id                                                                            \n",
              "1      NaN      NaN  Our Deeds are the Reason of this #earthquake M...       1\n",
              "4      NaN      NaN             Forest fire near La Ronge Sask. Canada       1\n",
              "5      NaN      NaN  All residents asked to 'shelter in place' are ...       1\n",
              "6      NaN      NaN  13,000 people receive #wildfires evacuation or...       1\n",
              "7      NaN      NaN  Just got sent this photo from Ruby #Alaska as ...       1"
            ],
            "text/html": [
              "\n",
              "  <div id=\"df-582e855d-59a9-4c98-9c1f-e2a253dc8d72\">\n",
              "    <div class=\"colab-df-container\">\n",
              "      <div>\n",
              "<style scoped>\n",
              "    .dataframe tbody tr th:only-of-type {\n",
              "        vertical-align: middle;\n",
              "    }\n",
              "\n",
              "    .dataframe tbody tr th {\n",
              "        vertical-align: top;\n",
              "    }\n",
              "\n",
              "    .dataframe thead th {\n",
              "        text-align: right;\n",
              "    }\n",
              "</style>\n",
              "<table border=\"1\" class=\"dataframe\">\n",
              "  <thead>\n",
              "    <tr style=\"text-align: right;\">\n",
              "      <th></th>\n",
              "      <th>keyword</th>\n",
              "      <th>location</th>\n",
              "      <th>text</th>\n",
              "      <th>target</th>\n",
              "    </tr>\n",
              "    <tr>\n",
              "      <th>id</th>\n",
              "      <th></th>\n",
              "      <th></th>\n",
              "      <th></th>\n",
              "      <th></th>\n",
              "    </tr>\n",
              "  </thead>\n",
              "  <tbody>\n",
              "    <tr>\n",
              "      <th>1</th>\n",
              "      <td>NaN</td>\n",
              "      <td>NaN</td>\n",
              "      <td>Our Deeds are the Reason of this #earthquake M...</td>\n",
              "      <td>1</td>\n",
              "    </tr>\n",
              "    <tr>\n",
              "      <th>4</th>\n",
              "      <td>NaN</td>\n",
              "      <td>NaN</td>\n",
              "      <td>Forest fire near La Ronge Sask. Canada</td>\n",
              "      <td>1</td>\n",
              "    </tr>\n",
              "    <tr>\n",
              "      <th>5</th>\n",
              "      <td>NaN</td>\n",
              "      <td>NaN</td>\n",
              "      <td>All residents asked to 'shelter in place' are ...</td>\n",
              "      <td>1</td>\n",
              "    </tr>\n",
              "    <tr>\n",
              "      <th>6</th>\n",
              "      <td>NaN</td>\n",
              "      <td>NaN</td>\n",
              "      <td>13,000 people receive #wildfires evacuation or...</td>\n",
              "      <td>1</td>\n",
              "    </tr>\n",
              "    <tr>\n",
              "      <th>7</th>\n",
              "      <td>NaN</td>\n",
              "      <td>NaN</td>\n",
              "      <td>Just got sent this photo from Ruby #Alaska as ...</td>\n",
              "      <td>1</td>\n",
              "    </tr>\n",
              "  </tbody>\n",
              "</table>\n",
              "</div>\n",
              "      <button class=\"colab-df-convert\" onclick=\"convertToInteractive('df-582e855d-59a9-4c98-9c1f-e2a253dc8d72')\"\n",
              "              title=\"Convert this dataframe to an interactive table.\"\n",
              "              style=\"display:none;\">\n",
              "        \n",
              "  <svg xmlns=\"http://www.w3.org/2000/svg\" height=\"24px\"viewBox=\"0 0 24 24\"\n",
              "       width=\"24px\">\n",
              "    <path d=\"M0 0h24v24H0V0z\" fill=\"none\"/>\n",
              "    <path d=\"M18.56 5.44l.94 2.06.94-2.06 2.06-.94-2.06-.94-.94-2.06-.94 2.06-2.06.94zm-11 1L8.5 8.5l.94-2.06 2.06-.94-2.06-.94L8.5 2.5l-.94 2.06-2.06.94zm10 10l.94 2.06.94-2.06 2.06-.94-2.06-.94-.94-2.06-.94 2.06-2.06.94z\"/><path d=\"M17.41 7.96l-1.37-1.37c-.4-.4-.92-.59-1.43-.59-.52 0-1.04.2-1.43.59L10.3 9.45l-7.72 7.72c-.78.78-.78 2.05 0 2.83L4 21.41c.39.39.9.59 1.41.59.51 0 1.02-.2 1.41-.59l7.78-7.78 2.81-2.81c.8-.78.8-2.07 0-2.86zM5.41 20L4 18.59l7.72-7.72 1.47 1.35L5.41 20z\"/>\n",
              "  </svg>\n",
              "      </button>\n",
              "      \n",
              "  <style>\n",
              "    .colab-df-container {\n",
              "      display:flex;\n",
              "      flex-wrap:wrap;\n",
              "      gap: 12px;\n",
              "    }\n",
              "\n",
              "    .colab-df-convert {\n",
              "      background-color: #E8F0FE;\n",
              "      border: none;\n",
              "      border-radius: 50%;\n",
              "      cursor: pointer;\n",
              "      display: none;\n",
              "      fill: #1967D2;\n",
              "      height: 32px;\n",
              "      padding: 0 0 0 0;\n",
              "      width: 32px;\n",
              "    }\n",
              "\n",
              "    .colab-df-convert:hover {\n",
              "      background-color: #E2EBFA;\n",
              "      box-shadow: 0px 1px 2px rgba(60, 64, 67, 0.3), 0px 1px 3px 1px rgba(60, 64, 67, 0.15);\n",
              "      fill: #174EA6;\n",
              "    }\n",
              "\n",
              "    [theme=dark] .colab-df-convert {\n",
              "      background-color: #3B4455;\n",
              "      fill: #D2E3FC;\n",
              "    }\n",
              "\n",
              "    [theme=dark] .colab-df-convert:hover {\n",
              "      background-color: #434B5C;\n",
              "      box-shadow: 0px 1px 3px 1px rgba(0, 0, 0, 0.15);\n",
              "      filter: drop-shadow(0px 1px 2px rgba(0, 0, 0, 0.3));\n",
              "      fill: #FFFFFF;\n",
              "    }\n",
              "  </style>\n",
              "\n",
              "      <script>\n",
              "        const buttonEl =\n",
              "          document.querySelector('#df-582e855d-59a9-4c98-9c1f-e2a253dc8d72 button.colab-df-convert');\n",
              "        buttonEl.style.display =\n",
              "          google.colab.kernel.accessAllowed ? 'block' : 'none';\n",
              "\n",
              "        async function convertToInteractive(key) {\n",
              "          const element = document.querySelector('#df-582e855d-59a9-4c98-9c1f-e2a253dc8d72');\n",
              "          const dataTable =\n",
              "            await google.colab.kernel.invokeFunction('convertToInteractive',\n",
              "                                                     [key], {});\n",
              "          if (!dataTable) return;\n",
              "\n",
              "          const docLinkHtml = 'Like what you see? Visit the ' +\n",
              "            '<a target=\"_blank\" href=https://colab.research.google.com/notebooks/data_table.ipynb>data table notebook</a>'\n",
              "            + ' to learn more about interactive tables.';\n",
              "          element.innerHTML = '';\n",
              "          dataTable['output_type'] = 'display_data';\n",
              "          await google.colab.output.renderOutput(dataTable, element);\n",
              "          const docLink = document.createElement('div');\n",
              "          docLink.innerHTML = docLinkHtml;\n",
              "          element.appendChild(docLink);\n",
              "        }\n",
              "      </script>\n",
              "    </div>\n",
              "  </div>\n",
              "  "
            ]
          },
          "metadata": {},
          "execution_count": 6
        }
      ]
    },
    {
      "cell_type": "code",
      "source": [
        "train_data.describe(include='object')"
      ],
      "metadata": {
        "colab": {
          "base_uri": "https://localhost:8080/",
          "height": 175
        },
        "id": "EWbcB4_M9tin",
        "outputId": "be7ee168-a51e-4a04-bae0-b906a9169662"
      },
      "execution_count": 7,
      "outputs": [
        {
          "output_type": "execute_result",
          "data": {
            "text/plain": [
              "           keyword location                                               text\n",
              "count         7552     5080                                               7613\n",
              "unique         221     3341                                               7503\n",
              "top     fatalities      USA  11-Year-Old Boy Charged With Manslaughter of T...\n",
              "freq            45      104                                                 10"
            ],
            "text/html": [
              "\n",
              "  <div id=\"df-a818905a-c8a2-47f5-9ad6-c9f8514083f5\">\n",
              "    <div class=\"colab-df-container\">\n",
              "      <div>\n",
              "<style scoped>\n",
              "    .dataframe tbody tr th:only-of-type {\n",
              "        vertical-align: middle;\n",
              "    }\n",
              "\n",
              "    .dataframe tbody tr th {\n",
              "        vertical-align: top;\n",
              "    }\n",
              "\n",
              "    .dataframe thead th {\n",
              "        text-align: right;\n",
              "    }\n",
              "</style>\n",
              "<table border=\"1\" class=\"dataframe\">\n",
              "  <thead>\n",
              "    <tr style=\"text-align: right;\">\n",
              "      <th></th>\n",
              "      <th>keyword</th>\n",
              "      <th>location</th>\n",
              "      <th>text</th>\n",
              "    </tr>\n",
              "  </thead>\n",
              "  <tbody>\n",
              "    <tr>\n",
              "      <th>count</th>\n",
              "      <td>7552</td>\n",
              "      <td>5080</td>\n",
              "      <td>7613</td>\n",
              "    </tr>\n",
              "    <tr>\n",
              "      <th>unique</th>\n",
              "      <td>221</td>\n",
              "      <td>3341</td>\n",
              "      <td>7503</td>\n",
              "    </tr>\n",
              "    <tr>\n",
              "      <th>top</th>\n",
              "      <td>fatalities</td>\n",
              "      <td>USA</td>\n",
              "      <td>11-Year-Old Boy Charged With Manslaughter of T...</td>\n",
              "    </tr>\n",
              "    <tr>\n",
              "      <th>freq</th>\n",
              "      <td>45</td>\n",
              "      <td>104</td>\n",
              "      <td>10</td>\n",
              "    </tr>\n",
              "  </tbody>\n",
              "</table>\n",
              "</div>\n",
              "      <button class=\"colab-df-convert\" onclick=\"convertToInteractive('df-a818905a-c8a2-47f5-9ad6-c9f8514083f5')\"\n",
              "              title=\"Convert this dataframe to an interactive table.\"\n",
              "              style=\"display:none;\">\n",
              "        \n",
              "  <svg xmlns=\"http://www.w3.org/2000/svg\" height=\"24px\"viewBox=\"0 0 24 24\"\n",
              "       width=\"24px\">\n",
              "    <path d=\"M0 0h24v24H0V0z\" fill=\"none\"/>\n",
              "    <path d=\"M18.56 5.44l.94 2.06.94-2.06 2.06-.94-2.06-.94-.94-2.06-.94 2.06-2.06.94zm-11 1L8.5 8.5l.94-2.06 2.06-.94-2.06-.94L8.5 2.5l-.94 2.06-2.06.94zm10 10l.94 2.06.94-2.06 2.06-.94-2.06-.94-.94-2.06-.94 2.06-2.06.94z\"/><path d=\"M17.41 7.96l-1.37-1.37c-.4-.4-.92-.59-1.43-.59-.52 0-1.04.2-1.43.59L10.3 9.45l-7.72 7.72c-.78.78-.78 2.05 0 2.83L4 21.41c.39.39.9.59 1.41.59.51 0 1.02-.2 1.41-.59l7.78-7.78 2.81-2.81c.8-.78.8-2.07 0-2.86zM5.41 20L4 18.59l7.72-7.72 1.47 1.35L5.41 20z\"/>\n",
              "  </svg>\n",
              "      </button>\n",
              "      \n",
              "  <style>\n",
              "    .colab-df-container {\n",
              "      display:flex;\n",
              "      flex-wrap:wrap;\n",
              "      gap: 12px;\n",
              "    }\n",
              "\n",
              "    .colab-df-convert {\n",
              "      background-color: #E8F0FE;\n",
              "      border: none;\n",
              "      border-radius: 50%;\n",
              "      cursor: pointer;\n",
              "      display: none;\n",
              "      fill: #1967D2;\n",
              "      height: 32px;\n",
              "      padding: 0 0 0 0;\n",
              "      width: 32px;\n",
              "    }\n",
              "\n",
              "    .colab-df-convert:hover {\n",
              "      background-color: #E2EBFA;\n",
              "      box-shadow: 0px 1px 2px rgba(60, 64, 67, 0.3), 0px 1px 3px 1px rgba(60, 64, 67, 0.15);\n",
              "      fill: #174EA6;\n",
              "    }\n",
              "\n",
              "    [theme=dark] .colab-df-convert {\n",
              "      background-color: #3B4455;\n",
              "      fill: #D2E3FC;\n",
              "    }\n",
              "\n",
              "    [theme=dark] .colab-df-convert:hover {\n",
              "      background-color: #434B5C;\n",
              "      box-shadow: 0px 1px 3px 1px rgba(0, 0, 0, 0.15);\n",
              "      filter: drop-shadow(0px 1px 2px rgba(0, 0, 0, 0.3));\n",
              "      fill: #FFFFFF;\n",
              "    }\n",
              "  </style>\n",
              "\n",
              "      <script>\n",
              "        const buttonEl =\n",
              "          document.querySelector('#df-a818905a-c8a2-47f5-9ad6-c9f8514083f5 button.colab-df-convert');\n",
              "        buttonEl.style.display =\n",
              "          google.colab.kernel.accessAllowed ? 'block' : 'none';\n",
              "\n",
              "        async function convertToInteractive(key) {\n",
              "          const element = document.querySelector('#df-a818905a-c8a2-47f5-9ad6-c9f8514083f5');\n",
              "          const dataTable =\n",
              "            await google.colab.kernel.invokeFunction('convertToInteractive',\n",
              "                                                     [key], {});\n",
              "          if (!dataTable) return;\n",
              "\n",
              "          const docLinkHtml = 'Like what you see? Visit the ' +\n",
              "            '<a target=\"_blank\" href=https://colab.research.google.com/notebooks/data_table.ipynb>data table notebook</a>'\n",
              "            + ' to learn more about interactive tables.';\n",
              "          element.innerHTML = '';\n",
              "          dataTable['output_type'] = 'display_data';\n",
              "          await google.colab.output.renderOutput(dataTable, element);\n",
              "          const docLink = document.createElement('div');\n",
              "          docLink.innerHTML = docLinkHtml;\n",
              "          element.appendChild(docLink);\n",
              "        }\n",
              "      </script>\n",
              "    </div>\n",
              "  </div>\n",
              "  "
            ]
          },
          "metadata": {},
          "execution_count": 7
        }
      ]
    },
    {
      "cell_type": "markdown",
      "source": [
        "The misspellings seem to be quite intense there, as well as repetition (USA = United States = New York and Canada = Montreal), i don't even know what IIT: ... is supposed to be, so it's most likely a corrupted entry."
      ],
      "metadata": {
        "id": "1DsbZ-bdAP8b"
      }
    },
    {
      "cell_type": "code",
      "source": [
        "train_data.location.value_counts()"
      ],
      "metadata": {
        "colab": {
          "base_uri": "https://localhost:8080/"
        },
        "id": "erKtxEIWA8nY",
        "outputId": "5a9b23de-65e4-43f0-e0d8-76158b8852ec"
      },
      "execution_count": 8,
      "outputs": [
        {
          "output_type": "execute_result",
          "data": {
            "text/plain": [
              "USA                    104\n",
              "New York                71\n",
              "United States           50\n",
              "London                  45\n",
              "Canada                  29\n",
              "                      ... \n",
              "MontrÌ©al, QuÌ©bec       1\n",
              "Montreal                 1\n",
              "ÌÏT: 6.4682,3.18287      1\n",
              "Live4Heed??              1\n",
              "Lincoln                  1\n",
              "Name: location, Length: 3341, dtype: int64"
            ]
          },
          "metadata": {},
          "execution_count": 8
        }
      ]
    },
    {
      "cell_type": "code",
      "source": [
        "train_data[train_data.location == 'MontrÌ©al, QuÌ©bec']"
      ],
      "metadata": {
        "colab": {
          "base_uri": "https://localhost:8080/",
          "height": 112
        },
        "id": "FCBaIFgXBUO3",
        "outputId": "a8162d67-c33c-4d54-fb20-ac8374b1233d"
      },
      "execution_count": 9,
      "outputs": [
        {
          "output_type": "execute_result",
          "data": {
            "text/plain": [
              "        keyword            location  \\\n",
              "id                                    \n",
              "3723  destroyed  MontrÌ©al, QuÌ©bec   \n",
              "\n",
              "                                                   text  target  \n",
              "id                                                               \n",
              "3723  The grenade sound effect on 'Impossible' just ...       0  "
            ],
            "text/html": [
              "\n",
              "  <div id=\"df-1904a469-4293-4fbb-b1d7-087c759be689\">\n",
              "    <div class=\"colab-df-container\">\n",
              "      <div>\n",
              "<style scoped>\n",
              "    .dataframe tbody tr th:only-of-type {\n",
              "        vertical-align: middle;\n",
              "    }\n",
              "\n",
              "    .dataframe tbody tr th {\n",
              "        vertical-align: top;\n",
              "    }\n",
              "\n",
              "    .dataframe thead th {\n",
              "        text-align: right;\n",
              "    }\n",
              "</style>\n",
              "<table border=\"1\" class=\"dataframe\">\n",
              "  <thead>\n",
              "    <tr style=\"text-align: right;\">\n",
              "      <th></th>\n",
              "      <th>keyword</th>\n",
              "      <th>location</th>\n",
              "      <th>text</th>\n",
              "      <th>target</th>\n",
              "    </tr>\n",
              "    <tr>\n",
              "      <th>id</th>\n",
              "      <th></th>\n",
              "      <th></th>\n",
              "      <th></th>\n",
              "      <th></th>\n",
              "    </tr>\n",
              "  </thead>\n",
              "  <tbody>\n",
              "    <tr>\n",
              "      <th>3723</th>\n",
              "      <td>destroyed</td>\n",
              "      <td>MontrÌ©al, QuÌ©bec</td>\n",
              "      <td>The grenade sound effect on 'Impossible' just ...</td>\n",
              "      <td>0</td>\n",
              "    </tr>\n",
              "  </tbody>\n",
              "</table>\n",
              "</div>\n",
              "      <button class=\"colab-df-convert\" onclick=\"convertToInteractive('df-1904a469-4293-4fbb-b1d7-087c759be689')\"\n",
              "              title=\"Convert this dataframe to an interactive table.\"\n",
              "              style=\"display:none;\">\n",
              "        \n",
              "  <svg xmlns=\"http://www.w3.org/2000/svg\" height=\"24px\"viewBox=\"0 0 24 24\"\n",
              "       width=\"24px\">\n",
              "    <path d=\"M0 0h24v24H0V0z\" fill=\"none\"/>\n",
              "    <path d=\"M18.56 5.44l.94 2.06.94-2.06 2.06-.94-2.06-.94-.94-2.06-.94 2.06-2.06.94zm-11 1L8.5 8.5l.94-2.06 2.06-.94-2.06-.94L8.5 2.5l-.94 2.06-2.06.94zm10 10l.94 2.06.94-2.06 2.06-.94-2.06-.94-.94-2.06-.94 2.06-2.06.94z\"/><path d=\"M17.41 7.96l-1.37-1.37c-.4-.4-.92-.59-1.43-.59-.52 0-1.04.2-1.43.59L10.3 9.45l-7.72 7.72c-.78.78-.78 2.05 0 2.83L4 21.41c.39.39.9.59 1.41.59.51 0 1.02-.2 1.41-.59l7.78-7.78 2.81-2.81c.8-.78.8-2.07 0-2.86zM5.41 20L4 18.59l7.72-7.72 1.47 1.35L5.41 20z\"/>\n",
              "  </svg>\n",
              "      </button>\n",
              "      \n",
              "  <style>\n",
              "    .colab-df-container {\n",
              "      display:flex;\n",
              "      flex-wrap:wrap;\n",
              "      gap: 12px;\n",
              "    }\n",
              "\n",
              "    .colab-df-convert {\n",
              "      background-color: #E8F0FE;\n",
              "      border: none;\n",
              "      border-radius: 50%;\n",
              "      cursor: pointer;\n",
              "      display: none;\n",
              "      fill: #1967D2;\n",
              "      height: 32px;\n",
              "      padding: 0 0 0 0;\n",
              "      width: 32px;\n",
              "    }\n",
              "\n",
              "    .colab-df-convert:hover {\n",
              "      background-color: #E2EBFA;\n",
              "      box-shadow: 0px 1px 2px rgba(60, 64, 67, 0.3), 0px 1px 3px 1px rgba(60, 64, 67, 0.15);\n",
              "      fill: #174EA6;\n",
              "    }\n",
              "\n",
              "    [theme=dark] .colab-df-convert {\n",
              "      background-color: #3B4455;\n",
              "      fill: #D2E3FC;\n",
              "    }\n",
              "\n",
              "    [theme=dark] .colab-df-convert:hover {\n",
              "      background-color: #434B5C;\n",
              "      box-shadow: 0px 1px 3px 1px rgba(0, 0, 0, 0.15);\n",
              "      filter: drop-shadow(0px 1px 2px rgba(0, 0, 0, 0.3));\n",
              "      fill: #FFFFFF;\n",
              "    }\n",
              "  </style>\n",
              "\n",
              "      <script>\n",
              "        const buttonEl =\n",
              "          document.querySelector('#df-1904a469-4293-4fbb-b1d7-087c759be689 button.colab-df-convert');\n",
              "        buttonEl.style.display =\n",
              "          google.colab.kernel.accessAllowed ? 'block' : 'none';\n",
              "\n",
              "        async function convertToInteractive(key) {\n",
              "          const element = document.querySelector('#df-1904a469-4293-4fbb-b1d7-087c759be689');\n",
              "          const dataTable =\n",
              "            await google.colab.kernel.invokeFunction('convertToInteractive',\n",
              "                                                     [key], {});\n",
              "          if (!dataTable) return;\n",
              "\n",
              "          const docLinkHtml = 'Like what you see? Visit the ' +\n",
              "            '<a target=\"_blank\" href=https://colab.research.google.com/notebooks/data_table.ipynb>data table notebook</a>'\n",
              "            + ' to learn more about interactive tables.';\n",
              "          element.innerHTML = '';\n",
              "          dataTable['output_type'] = 'display_data';\n",
              "          await google.colab.output.renderOutput(dataTable, element);\n",
              "          const docLink = document.createElement('div');\n",
              "          docLink.innerHTML = docLinkHtml;\n",
              "          element.appendChild(docLink);\n",
              "        }\n",
              "      </script>\n",
              "    </div>\n",
              "  </div>\n",
              "  "
            ]
          },
          "metadata": {},
          "execution_count": 9
        }
      ]
    },
    {
      "cell_type": "markdown",
      "source": [
        "Dropping the column entirely, since the column doesn't seem to hold any useful information, and it's possible that it may consider being in US as a factor for whether a tweet is disaster related or not."
      ],
      "metadata": {
        "id": "52lej29j_5XN"
      }
    },
    {
      "cell_type": "code",
      "source": [
        "train_data.drop(columns = \"location\", inplace = True)\n",
        "train_data.head()"
      ],
      "metadata": {
        "colab": {
          "base_uri": "https://localhost:8080/",
          "height": 238
        },
        "id": "q3pXZCRLFRh_",
        "outputId": "b2595756-3933-4c11-aab0-8d7010d96a30"
      },
      "execution_count": 10,
      "outputs": [
        {
          "output_type": "execute_result",
          "data": {
            "text/plain": [
              "   keyword                                               text  target\n",
              "id                                                                   \n",
              "1      NaN  Our Deeds are the Reason of this #earthquake M...       1\n",
              "4      NaN             Forest fire near La Ronge Sask. Canada       1\n",
              "5      NaN  All residents asked to 'shelter in place' are ...       1\n",
              "6      NaN  13,000 people receive #wildfires evacuation or...       1\n",
              "7      NaN  Just got sent this photo from Ruby #Alaska as ...       1"
            ],
            "text/html": [
              "\n",
              "  <div id=\"df-ec2b955e-922d-4610-9825-d49707eb1ffb\">\n",
              "    <div class=\"colab-df-container\">\n",
              "      <div>\n",
              "<style scoped>\n",
              "    .dataframe tbody tr th:only-of-type {\n",
              "        vertical-align: middle;\n",
              "    }\n",
              "\n",
              "    .dataframe tbody tr th {\n",
              "        vertical-align: top;\n",
              "    }\n",
              "\n",
              "    .dataframe thead th {\n",
              "        text-align: right;\n",
              "    }\n",
              "</style>\n",
              "<table border=\"1\" class=\"dataframe\">\n",
              "  <thead>\n",
              "    <tr style=\"text-align: right;\">\n",
              "      <th></th>\n",
              "      <th>keyword</th>\n",
              "      <th>text</th>\n",
              "      <th>target</th>\n",
              "    </tr>\n",
              "    <tr>\n",
              "      <th>id</th>\n",
              "      <th></th>\n",
              "      <th></th>\n",
              "      <th></th>\n",
              "    </tr>\n",
              "  </thead>\n",
              "  <tbody>\n",
              "    <tr>\n",
              "      <th>1</th>\n",
              "      <td>NaN</td>\n",
              "      <td>Our Deeds are the Reason of this #earthquake M...</td>\n",
              "      <td>1</td>\n",
              "    </tr>\n",
              "    <tr>\n",
              "      <th>4</th>\n",
              "      <td>NaN</td>\n",
              "      <td>Forest fire near La Ronge Sask. Canada</td>\n",
              "      <td>1</td>\n",
              "    </tr>\n",
              "    <tr>\n",
              "      <th>5</th>\n",
              "      <td>NaN</td>\n",
              "      <td>All residents asked to 'shelter in place' are ...</td>\n",
              "      <td>1</td>\n",
              "    </tr>\n",
              "    <tr>\n",
              "      <th>6</th>\n",
              "      <td>NaN</td>\n",
              "      <td>13,000 people receive #wildfires evacuation or...</td>\n",
              "      <td>1</td>\n",
              "    </tr>\n",
              "    <tr>\n",
              "      <th>7</th>\n",
              "      <td>NaN</td>\n",
              "      <td>Just got sent this photo from Ruby #Alaska as ...</td>\n",
              "      <td>1</td>\n",
              "    </tr>\n",
              "  </tbody>\n",
              "</table>\n",
              "</div>\n",
              "      <button class=\"colab-df-convert\" onclick=\"convertToInteractive('df-ec2b955e-922d-4610-9825-d49707eb1ffb')\"\n",
              "              title=\"Convert this dataframe to an interactive table.\"\n",
              "              style=\"display:none;\">\n",
              "        \n",
              "  <svg xmlns=\"http://www.w3.org/2000/svg\" height=\"24px\"viewBox=\"0 0 24 24\"\n",
              "       width=\"24px\">\n",
              "    <path d=\"M0 0h24v24H0V0z\" fill=\"none\"/>\n",
              "    <path d=\"M18.56 5.44l.94 2.06.94-2.06 2.06-.94-2.06-.94-.94-2.06-.94 2.06-2.06.94zm-11 1L8.5 8.5l.94-2.06 2.06-.94-2.06-.94L8.5 2.5l-.94 2.06-2.06.94zm10 10l.94 2.06.94-2.06 2.06-.94-2.06-.94-.94-2.06-.94 2.06-2.06.94z\"/><path d=\"M17.41 7.96l-1.37-1.37c-.4-.4-.92-.59-1.43-.59-.52 0-1.04.2-1.43.59L10.3 9.45l-7.72 7.72c-.78.78-.78 2.05 0 2.83L4 21.41c.39.39.9.59 1.41.59.51 0 1.02-.2 1.41-.59l7.78-7.78 2.81-2.81c.8-.78.8-2.07 0-2.86zM5.41 20L4 18.59l7.72-7.72 1.47 1.35L5.41 20z\"/>\n",
              "  </svg>\n",
              "      </button>\n",
              "      \n",
              "  <style>\n",
              "    .colab-df-container {\n",
              "      display:flex;\n",
              "      flex-wrap:wrap;\n",
              "      gap: 12px;\n",
              "    }\n",
              "\n",
              "    .colab-df-convert {\n",
              "      background-color: #E8F0FE;\n",
              "      border: none;\n",
              "      border-radius: 50%;\n",
              "      cursor: pointer;\n",
              "      display: none;\n",
              "      fill: #1967D2;\n",
              "      height: 32px;\n",
              "      padding: 0 0 0 0;\n",
              "      width: 32px;\n",
              "    }\n",
              "\n",
              "    .colab-df-convert:hover {\n",
              "      background-color: #E2EBFA;\n",
              "      box-shadow: 0px 1px 2px rgba(60, 64, 67, 0.3), 0px 1px 3px 1px rgba(60, 64, 67, 0.15);\n",
              "      fill: #174EA6;\n",
              "    }\n",
              "\n",
              "    [theme=dark] .colab-df-convert {\n",
              "      background-color: #3B4455;\n",
              "      fill: #D2E3FC;\n",
              "    }\n",
              "\n",
              "    [theme=dark] .colab-df-convert:hover {\n",
              "      background-color: #434B5C;\n",
              "      box-shadow: 0px 1px 3px 1px rgba(0, 0, 0, 0.15);\n",
              "      filter: drop-shadow(0px 1px 2px rgba(0, 0, 0, 0.3));\n",
              "      fill: #FFFFFF;\n",
              "    }\n",
              "  </style>\n",
              "\n",
              "      <script>\n",
              "        const buttonEl =\n",
              "          document.querySelector('#df-ec2b955e-922d-4610-9825-d49707eb1ffb button.colab-df-convert');\n",
              "        buttonEl.style.display =\n",
              "          google.colab.kernel.accessAllowed ? 'block' : 'none';\n",
              "\n",
              "        async function convertToInteractive(key) {\n",
              "          const element = document.querySelector('#df-ec2b955e-922d-4610-9825-d49707eb1ffb');\n",
              "          const dataTable =\n",
              "            await google.colab.kernel.invokeFunction('convertToInteractive',\n",
              "                                                     [key], {});\n",
              "          if (!dataTable) return;\n",
              "\n",
              "          const docLinkHtml = 'Like what you see? Visit the ' +\n",
              "            '<a target=\"_blank\" href=https://colab.research.google.com/notebooks/data_table.ipynb>data table notebook</a>'\n",
              "            + ' to learn more about interactive tables.';\n",
              "          element.innerHTML = '';\n",
              "          dataTable['output_type'] = 'display_data';\n",
              "          await google.colab.output.renderOutput(dataTable, element);\n",
              "          const docLink = document.createElement('div');\n",
              "          docLink.innerHTML = docLinkHtml;\n",
              "          element.appendChild(docLink);\n",
              "        }\n",
              "      </script>\n",
              "    </div>\n",
              "  </div>\n",
              "  "
            ]
          },
          "metadata": {},
          "execution_count": 10
        }
      ]
    },
    {
      "cell_type": "code",
      "source": [
        "train_data['target'].value_counts()"
      ],
      "metadata": {
        "colab": {
          "base_uri": "https://localhost:8080/"
        },
        "id": "VWrEvjaqFgY_",
        "outputId": "3bce3c4a-8a77-4101-c4f1-698ef8afb94d"
      },
      "execution_count": 11,
      "outputs": [
        {
          "output_type": "execute_result",
          "data": {
            "text/plain": [
              "0    4342\n",
              "1    3271\n",
              "Name: target, dtype: int64"
            ]
          },
          "metadata": {},
          "execution_count": 11
        }
      ]
    },
    {
      "cell_type": "code",
      "source": [
        "sns.countplot(data = train_data, x = 'target')"
      ],
      "metadata": {
        "colab": {
          "base_uri": "https://localhost:8080/",
          "height": 296
        },
        "id": "_gKaRWXL-TpJ",
        "outputId": "17da7b4c-9e20-44b8-f178-0457bcc2ab6d"
      },
      "execution_count": 12,
      "outputs": [
        {
          "output_type": "execute_result",
          "data": {
            "text/plain": [
              "<matplotlib.axes._subplots.AxesSubplot at 0x7f930ccd5190>"
            ]
          },
          "metadata": {},
          "execution_count": 12
        },
        {
          "output_type": "display_data",
          "data": {
            "text/plain": [
              "<Figure size 432x288 with 1 Axes>"
            ],
            "image/png": "[encoded data removed]"
          },
          "metadata": {
            "needs_background": "light"
          }
        }
      ]
    },
    {
      "cell_type": "markdown",
      "source": [
        "Keyword does hold a lot of information, but since we want to work purely with the tweets, we'll drop the keyword column."
      ],
      "metadata": {
        "id": "DqwPBlmsBMLA"
      }
    },
    {
      "cell_type": "code",
      "source": [
        "train_data.groupby(by = \"target\")['keyword'].value_counts()"
      ],
      "metadata": {
        "colab": {
          "base_uri": "https://localhost:8080/"
        },
        "id": "_1w24NC5AkfZ",
        "outputId": "eacc0766-9fe5-4729-c521-127c870f4b4a"
      },
      "execution_count": 13,
      "outputs": [
        {
          "output_type": "execute_result",
          "data": {
            "text/plain": [
              "target  keyword    \n",
              "0       body%20bags    40\n",
              "        armageddon     37\n",
              "        harm           37\n",
              "        deluge         36\n",
              "        ruin           36\n",
              "                       ..\n",
              "1       body%20bag      1\n",
              "        body%20bags     1\n",
              "        electrocute     1\n",
              "        epicentre       1\n",
              "        ruin            1\n",
              "Name: keyword, Length: 438, dtype: int64"
            ]
          },
          "metadata": {},
          "execution_count": 13
        }
      ]
    },
    {
      "cell_type": "code",
      "source": [
        "len(train_data)"
      ],
      "metadata": {
        "colab": {
          "base_uri": "https://localhost:8080/"
        },
        "id": "f5rIm0nlCtm2",
        "outputId": "5165f10f-1b4d-4586-c906-f7aed14eee9a"
      },
      "execution_count": 14,
      "outputs": [
        {
          "output_type": "execute_result",
          "data": {
            "text/plain": [
              "7613"
            ]
          },
          "metadata": {},
          "execution_count": 14
        }
      ]
    },
    {
      "cell_type": "code",
      "source": [
        "train_data['keyword'].isnull().values.sum()"
      ],
      "metadata": {
        "colab": {
          "base_uri": "https://localhost:8080/"
        },
        "id": "ggdszVuACx7y",
        "outputId": "6d29c2fc-c9a1-4223-b107-2f204d9ebff3"
      },
      "execution_count": 15,
      "outputs": [
        {
          "output_type": "execute_result",
          "data": {
            "text/plain": [
              "61"
            ]
          },
          "metadata": {},
          "execution_count": 15
        }
      ]
    },
    {
      "cell_type": "code",
      "source": [
        "percent_missing = train_data['keyword'].isnull().sum() / len(train_data) * 100\n",
        "print(f\"The percent of entries / rows missing a keyword is : {percent_missing}\")"
      ],
      "metadata": {
        "colab": {
          "base_uri": "https://localhost:8080/"
        },
        "id": "FWGSumEZCTig",
        "outputId": "eb86c973-fe07-4ca0-cb48-bbccf393d9be"
      },
      "execution_count": 16,
      "outputs": [
        {
          "output_type": "stream",
          "name": "stdout",
          "text": [
            "The percent of entries / rows missing a keyword is : 0.8012610009194797\n"
          ]
        }
      ]
    },
    {
      "cell_type": "markdown",
      "source": [
        "After doing some discovery, it seems that there's a lot of http... something in the text, which is unrelated and therefore needs to be removed."
      ],
      "metadata": {
        "id": "tlk0mty77TdO"
      }
    },
    {
      "cell_type": "code",
      "source": [
        "from sklearn.pipeline import Pipeline\n",
        "import string\n",
        "import nltk\n",
        "from nltk.stem import WordNetLemmatizer\n",
        "from nltk.tokenize import word_tokenize\n",
        "from nltk.corpus import stopwords\n",
        "import re\n",
        "nltk.download('punkt')\n",
        "nltk.download('wordnet')\n",
        "nltk.download('omw-1.4')\n",
        "nltk.download('stopwords')\n",
        "STOPWORDS = stopwords.words(\"english\")\n",
        "# Let's first use our TfidfVectorizer\n",
        "def preprocessing_text(text):\n",
        "  # Let's first remove the punctuations and make our characters lower\n",
        "  text = str(text).lower()\n",
        "  text = text.strip()\n",
        "  translator = str.maketrans('','', string.punctuation + 'Ã'+'±'+'ã'+'¼'+'â'+'»'+'§')\n",
        "  # Remove mentions/usernames\n",
        "  text = re.sub(r'@\\S+', '', text)\n",
        "  text = text.translate(translator)\n",
        "\n",
        "  # Remove HTML elements\n",
        "  text = re.sub('<.*?>+', '', text)\n",
        "\n",
        "  # Remove next lines\n",
        "  text = re.sub('\\n', '', text)\n",
        "\n",
        "  # We tokenize our words and make sure to remove the stopwords\n",
        "  list_words = word_tokenize(text = text)\n",
        "\n",
        "  # We remove the numbers\n",
        "  list_words = [re.sub(r'\\d+', \"\", word) for word in list_words]\n",
        "\n",
        "  # We remove the URLs and mentions\n",
        "  list_words = [re.sub(r\"(?:\\@|https?\\://)\\S+\", \"\",word) for word in list_words]\n",
        "\n",
        "  # Removing the Htt... words and making sure we avoid the \"u\" type of text\n",
        "  if STOPWORDS is not None:\n",
        "    list_words = [word for word in list_words if word not in STOPWORDS and \"htt\" not in word and len(word) > 1 and \"\\x89\" not in word]\n",
        "\n",
        "  # We lemmatize our words\n",
        "  lematizer = WordNetLemmatizer()\n",
        "  words = [lematizer.lemmatize(word) for word in list_words if len(word) > 1]\n",
        "  return \" \".join(words)"
      ],
      "metadata": {
        "id": "8z1qiFlGbJrY",
        "colab": {
          "base_uri": "https://localhost:8080/"
        },
        "outputId": "7f88d4e1-815b-4d01-a169-d441ed1f9397"
      },
      "execution_count": 17,
      "outputs": [
        {
          "output_type": "stream",
          "name": "stderr",
          "text": [
            "[nltk_data] Downloading package punkt to /root/nltk_data...\n",
            "[nltk_data]   Unzipping tokenizers/punkt.zip.\n",
            "[nltk_data] Downloading package wordnet to /root/nltk_data...\n",
            "[nltk_data] Downloading package omw-1.4 to /root/nltk_data...\n",
            "[nltk_data] Downloading package stopwords to /root/nltk_data...\n",
            "[nltk_data]   Unzipping corpora/stopwords.zip.\n"
          ]
        }
      ]
    },
    {
      "cell_type": "code",
      "source": [
        "train_data[\"text_clean\"] = train_data[\"text\"].apply(lambda x: preprocessing_text(x))\n",
        "train_data.head()"
      ],
      "metadata": {
        "colab": {
          "base_uri": "https://localhost:8080/",
          "height": 238
        },
        "id": "L1qTzzKl98nH",
        "outputId": "69ad264e-45f3-41cd-d158-d24ee5dadb69"
      },
      "execution_count": 18,
      "outputs": [
        {
          "output_type": "execute_result",
          "data": {
            "text/plain": [
              "   keyword                                               text  target  \\\n",
              "id                                                                      \n",
              "1      NaN  Our Deeds are the Reason of this #earthquake M...       1   \n",
              "4      NaN             Forest fire near La Ronge Sask. Canada       1   \n",
              "5      NaN  All residents asked to 'shelter in place' are ...       1   \n",
              "6      NaN  13,000 people receive #wildfires evacuation or...       1   \n",
              "7      NaN  Just got sent this photo from Ruby #Alaska as ...       1   \n",
              "\n",
              "                                           text_clean  \n",
              "id                                                     \n",
              "1          deed reason earthquake may allah forgive u  \n",
              "4               forest fire near la ronge sask canada  \n",
              "5   resident asked shelter place notified officer ...  \n",
              "6   people receive wildfire evacuation order calif...  \n",
              "7   got sent photo ruby alaska smoke wildfire pour...  "
            ],
            "text/html": [
              "\n",
              "  <div id=\"df-52fd9070-af39-4829-b234-7003e6da775d\">\n",
              "    <div class=\"colab-df-container\">\n",
              "      <div>\n",
              "<style scoped>\n",
              "    .dataframe tbody tr th:only-of-type {\n",
              "        vertical-align: middle;\n",
              "    }\n",
              "\n",
              "    .dataframe tbody tr th {\n",
              "        vertical-align: top;\n",
              "    }\n",
              "\n",
              "    .dataframe thead th {\n",
              "        text-align: right;\n",
              "    }\n",
              "</style>\n",
              "<table border=\"1\" class=\"dataframe\">\n",
              "  <thead>\n",
              "    <tr style=\"text-align: right;\">\n",
              "      <th></th>\n",
              "      <th>keyword</th>\n",
              "      <th>text</th>\n",
              "      <th>target</th>\n",
              "      <th>text_clean</th>\n",
              "    </tr>\n",
              "    <tr>\n",
              "      <th>id</th>\n",
              "      <th></th>\n",
              "      <th></th>\n",
              "      <th></th>\n",
              "      <th></th>\n",
              "    </tr>\n",
              "  </thead>\n",
              "  <tbody>\n",
              "    <tr>\n",
              "      <th>1</th>\n",
              "      <td>NaN</td>\n",
              "      <td>Our Deeds are the Reason of this #earthquake M...</td>\n",
              "      <td>1</td>\n",
              "      <td>deed reason earthquake may allah forgive u</td>\n",
              "    </tr>\n",
              "    <tr>\n",
              "      <th>4</th>\n",
              "      <td>NaN</td>\n",
              "      <td>Forest fire near La Ronge Sask. Canada</td>\n",
              "      <td>1</td>\n",
              "      <td>forest fire near la ronge sask canada</td>\n",
              "    </tr>\n",
              "    <tr>\n",
              "      <th>5</th>\n",
              "      <td>NaN</td>\n",
              "      <td>All residents asked to 'shelter in place' are ...</td>\n",
              "      <td>1</td>\n",
              "      <td>resident asked shelter place notified officer ...</td>\n",
              "    </tr>\n",
              "    <tr>\n",
              "      <th>6</th>\n",
              "      <td>NaN</td>\n",
              "      <td>13,000 people receive #wildfires evacuation or...</td>\n",
              "      <td>1</td>\n",
              "      <td>people receive wildfire evacuation order calif...</td>\n",
              "    </tr>\n",
              "    <tr>\n",
              "      <th>7</th>\n",
              "      <td>NaN</td>\n",
              "      <td>Just got sent this photo from Ruby #Alaska as ...</td>\n",
              "      <td>1</td>\n",
              "      <td>got sent photo ruby alaska smoke wildfire pour...</td>\n",
              "    </tr>\n",
              "  </tbody>\n",
              "</table>\n",
              "</div>\n",
              "      <button class=\"colab-df-convert\" onclick=\"convertToInteractive('df-52fd9070-af39-4829-b234-7003e6da775d')\"\n",
              "              title=\"Convert this dataframe to an interactive table.\"\n",
              "              style=\"display:none;\">\n",
              "        \n",
              "  <svg xmlns=\"http://www.w3.org/2000/svg\" height=\"24px\"viewBox=\"0 0 24 24\"\n",
              "       width=\"24px\">\n",
              "    <path d=\"M0 0h24v24H0V0z\" fill=\"none\"/>\n",
              "    <path d=\"M18.56 5.44l.94 2.06.94-2.06 2.06-.94-2.06-.94-.94-2.06-.94 2.06-2.06.94zm-11 1L8.5 8.5l.94-2.06 2.06-.94-2.06-.94L8.5 2.5l-.94 2.06-2.06.94zm10 10l.94 2.06.94-2.06 2.06-.94-2.06-.94-.94-2.06-.94 2.06-2.06.94z\"/><path d=\"M17.41 7.96l-1.37-1.37c-.4-.4-.92-.59-1.43-.59-.52 0-1.04.2-1.43.59L10.3 9.45l-7.72 7.72c-.78.78-.78 2.05 0 2.83L4 21.41c.39.39.9.59 1.41.59.51 0 1.02-.2 1.41-.59l7.78-7.78 2.81-2.81c.8-.78.8-2.07 0-2.86zM5.41 20L4 18.59l7.72-7.72 1.47 1.35L5.41 20z\"/>\n",
              "  </svg>\n",
              "      </button>\n",
              "      \n",
              "  <style>\n",
              "    .colab-df-container {\n",
              "      display:flex;\n",
              "      flex-wrap:wrap;\n",
              "      gap: 12px;\n",
              "    }\n",
              "\n",
              "    .colab-df-convert {\n",
              "      background-color: #E8F0FE;\n",
              "      border: none;\n",
              "      border-radius: 50%;\n",
              "      cursor: pointer;\n",
              "      display: none;\n",
              "      fill: #1967D2;\n",
              "      height: 32px;\n",
              "      padding: 0 0 0 0;\n",
              "      width: 32px;\n",
              "    }\n",
              "\n",
              "    .colab-df-convert:hover {\n",
              "      background-color: #E2EBFA;\n",
              "      box-shadow: 0px 1px 2px rgba(60, 64, 67, 0.3), 0px 1px 3px 1px rgba(60, 64, 67, 0.15);\n",
              "      fill: #174EA6;\n",
              "    }\n",
              "\n",
              "    [theme=dark] .colab-df-convert {\n",
              "      background-color: #3B4455;\n",
              "      fill: #D2E3FC;\n",
              "    }\n",
              "\n",
              "    [theme=dark] .colab-df-convert:hover {\n",
              "      background-color: #434B5C;\n",
              "      box-shadow: 0px 1px 3px 1px rgba(0, 0, 0, 0.15);\n",
              "      filter: drop-shadow(0px 1px 2px rgba(0, 0, 0, 0.3));\n",
              "      fill: #FFFFFF;\n",
              "    }\n",
              "  </style>\n",
              "\n",
              "      <script>\n",
              "        const buttonEl =\n",
              "          document.querySelector('#df-52fd9070-af39-4829-b234-7003e6da775d button.colab-df-convert');\n",
              "        buttonEl.style.display =\n",
              "          google.colab.kernel.accessAllowed ? 'block' : 'none';\n",
              "\n",
              "        async function convertToInteractive(key) {\n",
              "          const element = document.querySelector('#df-52fd9070-af39-4829-b234-7003e6da775d');\n",
              "          const dataTable =\n",
              "            await google.colab.kernel.invokeFunction('convertToInteractive',\n",
              "                                                     [key], {});\n",
              "          if (!dataTable) return;\n",
              "\n",
              "          const docLinkHtml = 'Like what you see? Visit the ' +\n",
              "            '<a target=\"_blank\" href=https://colab.research.google.com/notebooks/data_table.ipynb>data table notebook</a>'\n",
              "            + ' to learn more about interactive tables.';\n",
              "          element.innerHTML = '';\n",
              "          dataTable['output_type'] = 'display_data';\n",
              "          await google.colab.output.renderOutput(dataTable, element);\n",
              "          const docLink = document.createElement('div');\n",
              "          docLink.innerHTML = docLinkHtml;\n",
              "          element.appendChild(docLink);\n",
              "        }\n",
              "      </script>\n",
              "    </div>\n",
              "  </div>\n",
              "  "
            ]
          },
          "metadata": {},
          "execution_count": 18
        }
      ]
    },
    {
      "cell_type": "code",
      "source": [
        "words_dict = {}\n",
        "for sentence in train_data[\"text_clean\"].values:\n",
        "  for word in sentence.split(\" \"):\n",
        "    if word not in words_dict:\n",
        "      words_dict[word] = 1\n",
        "    else:\n",
        "      words_dict[word] += 1\n",
        "\n",
        "words_dict"
      ],
      "metadata": {
        "colab": {
          "base_uri": "https://localhost:8080/"
        },
        "id": "TtC52xkn4iu7",
        "outputId": "b70f680c-9643-4c45-9005-843e16d158b3"
      },
      "execution_count": 19,
      "outputs": [
        {
          "output_type": "execute_result",
          "data": {
            "text/plain": [
              "{'deed': 2,\n",
              " 'reason': 30,\n",
              " 'earthquake': 53,\n",
              " 'may': 87,\n",
              " 'allah': 8,\n",
              " 'forgive': 2,\n",
              " 'u': 168,\n",
              " 'forest': 66,\n",
              " 'fire': 347,\n",
              " 'near': 54,\n",
              " 'la': 29,\n",
              " 'ronge': 1,\n",
              " 'sask': 1,\n",
              " 'canada': 13,\n",
              " 'resident': 8,\n",
              " 'asked': 9,\n",
              " 'shelter': 6,\n",
              " 'place': 31,\n",
              " 'notified': 1,\n",
              " 'officer': 37,\n",
              " 'evacuation': 51,\n",
              " 'order': 35,\n",
              " 'expected': 15,\n",
              " 'people': 198,\n",
              " 'receive': 2,\n",
              " 'wildfire': 82,\n",
              " 'california': 121,\n",
              " 'got': 123,\n",
              " 'sent': 13,\n",
              " 'photo': 65,\n",
              " 'ruby': 1,\n",
              " 'alaska': 6,\n",
              " 'smoke': 49,\n",
              " 'pours': 1,\n",
              " 'school': 69,\n",
              " 'rockyfire': 4,\n",
              " 'update': 47,\n",
              " 'hwy': 10,\n",
              " 'closed': 20,\n",
              " 'direction': 15,\n",
              " 'due': 30,\n",
              " 'lake': 16,\n",
              " 'county': 38,\n",
              " 'cafire': 2,\n",
              " 'flood': 111,\n",
              " 'disaster': 154,\n",
              " 'heavy': 20,\n",
              " 'rain': 52,\n",
              " 'cause': 61,\n",
              " 'flash': 20,\n",
              " 'flooding': 50,\n",
              " 'street': 32,\n",
              " 'manitou': 1,\n",
              " 'colorado': 16,\n",
              " 'spring': 18,\n",
              " 'area': 47,\n",
              " 'im': 295,\n",
              " 'top': 57,\n",
              " 'hill': 12,\n",
              " 'see': 108,\n",
              " 'wood': 6,\n",
              " 'there': 45,\n",
              " 'emergency': 157,\n",
              " 'happening': 13,\n",
              " 'building': 136,\n",
              " 'across': 20,\n",
              " 'afraid': 5,\n",
              " 'tornado': 38,\n",
              " 'coming': 52,\n",
              " 'three': 29,\n",
              " 'died': 28,\n",
              " 'heat': 44,\n",
              " 'wave': 58,\n",
              " 'far': 28,\n",
              " 'haha': 20,\n",
              " 'south': 27,\n",
              " 'tampa': 4,\n",
              " 'getting': 56,\n",
              " 'flooded': 4,\n",
              " 'hah': 3,\n",
              " 'wait': 28,\n",
              " 'second': 35,\n",
              " 'live': 60,\n",
              " 'gon': 47,\n",
              " 'na': 79,\n",
              " 'fvck': 1,\n",
              " 'raining': 4,\n",
              " 'florida': 7,\n",
              " 'tampabay': 1,\n",
              " 'day': 140,\n",
              " 'ive': 43,\n",
              " 'lost': 23,\n",
              " 'count': 2,\n",
              " 'bago': 2,\n",
              " 'myanmar': 19,\n",
              " 'arrived': 8,\n",
              " 'damage': 57,\n",
              " 'bus': 48,\n",
              " 'multi': 2,\n",
              " 'car': 112,\n",
              " 'crash': 121,\n",
              " 'breaking': 41,\n",
              " 'whats': 27,\n",
              " 'man': 110,\n",
              " 'love': 104,\n",
              " 'fruit': 8,\n",
              " 'summer': 43,\n",
              " 'lovely': 8,\n",
              " 'fast': 22,\n",
              " 'goooooooaaaaaal': 1,\n",
              " 'ridiculous': 4,\n",
              " 'london': 16,\n",
              " 'cool': 32,\n",
              " 'skiing': 1,\n",
              " 'wonderful': 5,\n",
              " 'looooool': 1,\n",
              " 'wayi': 1,\n",
              " 'cant': 102,\n",
              " 'eat': 7,\n",
              " 'shit': 56,\n",
              " 'nyc': 12,\n",
              " 'last': 83,\n",
              " 'week': 43,\n",
              " 'girlfriend': 5,\n",
              " 'cooool': 1,\n",
              " 'like': 346,\n",
              " 'pasta': 2,\n",
              " 'end': 47,\n",
              " 'wholesale': 4,\n",
              " 'market': 39,\n",
              " 'ablaze': 27,\n",
              " 'always': 46,\n",
              " 'try': 22,\n",
              " 'bring': 17,\n",
              " 'metal': 13,\n",
              " 'rt': 106,\n",
              " 'africanbaze': 1,\n",
              " 'newsnigeria': 1,\n",
              " 'flag': 25,\n",
              " 'set': 52,\n",
              " 'aba': 14,\n",
              " 'cry': 18,\n",
              " 'plus': 7,\n",
              " 'side': 23,\n",
              " 'look': 119,\n",
              " 'sky': 20,\n",
              " 'night': 51,\n",
              " 'mufc': 2,\n",
              " 'theyve': 5,\n",
              " 'built': 6,\n",
              " 'much': 64,\n",
              " 'hype': 3,\n",
              " 'around': 38,\n",
              " 'new': 224,\n",
              " 'acquisition': 2,\n",
              " 'doubt': 5,\n",
              " 'epl': 1,\n",
              " 'season': 17,\n",
              " 'inec': 2,\n",
              " 'office': 14,\n",
              " 'abia': 2,\n",
              " 'barbados': 1,\n",
              " 'bridgetown': 1,\n",
              " 'jamaica': 5,\n",
              " 'two': 98,\n",
              " 'santa': 6,\n",
              " 'cruz': 10,\n",
              " 'head': 48,\n",
              " 'st': 46,\n",
              " 'elizabeth': 2,\n",
              " 'police': 139,\n",
              " 'superintende': 1,\n",
              " 'lord': 20,\n",
              " 'check': 43,\n",
              " 'nsfw': 3,\n",
              " 'outside': 25,\n",
              " 'youre': 66,\n",
              " 'alivebut': 1,\n",
              " 'dead': 94,\n",
              " 'inside': 29,\n",
              " 'awesome': 16,\n",
              " 'time': 172,\n",
              " 'visiting': 1,\n",
              " 'cfc': 2,\n",
              " 'ancop': 1,\n",
              " 'site': 30,\n",
              " 'thanks': 29,\n",
              " 'tita': 1,\n",
              " 'vida': 2,\n",
              " 'taking': 17,\n",
              " 'care': 31,\n",
              " 'soooo': 2,\n",
              " 'pumped': 1,\n",
              " 'wanted': 18,\n",
              " 'chicago': 12,\n",
              " 'preaching': 1,\n",
              " 'hotel': 6,\n",
              " 'gained': 6,\n",
              " 'follower': 10,\n",
              " 'know': 117,\n",
              " 'stats': 3,\n",
              " 'grow': 8,\n",
              " 'west': 25,\n",
              " 'burned': 39,\n",
              " 'thousand': 22,\n",
              " 'alone': 18,\n",
              " 'perfect': 10,\n",
              " 'tracklist': 1,\n",
              " 'life': 122,\n",
              " 'leave': 28,\n",
              " 'first': 107,\n",
              " 'retainer': 1,\n",
              " 'quite': 10,\n",
              " 'weird': 9,\n",
              " 'better': 35,\n",
              " 'get': 254,\n",
              " 'used': 30,\n",
              " 'wear': 4,\n",
              " 'every': 59,\n",
              " 'single': 13,\n",
              " 'next': 49,\n",
              " 'year': 150,\n",
              " 'least': 36,\n",
              " 'deputy': 6,\n",
              " 'shot': 42,\n",
              " 'brighton': 2,\n",
              " 'home': 137,\n",
              " 'wife': 12,\n",
              " 'six': 4,\n",
              " 'jail': 3,\n",
              " 'setting': 11,\n",
              " 'superintendent': 1,\n",
              " 'lanford': 1,\n",
              " 'salmon': 3,\n",
              " 'arsonist': 19,\n",
              " 'deliberately': 1,\n",
              " 'black': 66,\n",
              " 'church': 9,\n",
              " 'north': 27,\n",
              " 'carolinaåêablaze': 1,\n",
              " 'noches': 1,\n",
              " 'elbestia': 1,\n",
              " 'happy': 22,\n",
              " 'teammate': 1,\n",
              " 'training': 12,\n",
              " 'hard': 20,\n",
              " 'goodnight': 1,\n",
              " 'gunner': 1,\n",
              " 'kurd': 3,\n",
              " 'trampling': 1,\n",
              " 'turkmen': 2,\n",
              " 'later': 11,\n",
              " 'others': 21,\n",
              " 'vandalized': 1,\n",
              " 'front': 18,\n",
              " 'diyala': 1,\n",
              " 'truck': 53,\n",
              " 'voortrekker': 1,\n",
              " 'ave': 15,\n",
              " 'tambo': 1,\n",
              " 'intl': 1,\n",
              " 'cargo': 3,\n",
              " 'section': 5,\n",
              " 'heart': 39,\n",
              " 'city': 67,\n",
              " 'gift': 5,\n",
              " 'skyline': 2,\n",
              " 'kiss': 4,\n",
              " 'upon': 16,\n",
              " 'lip': 5,\n",
              " 'tonight': 41,\n",
              " 'los': 4,\n",
              " 'angeles': 4,\n",
              " 'expecting': 4,\n",
              " 'ig': 5,\n",
              " 'fb': 4,\n",
              " 'filled': 3,\n",
              " 'sunset': 7,\n",
              " 'peep': 3,\n",
              " 'climate': 18,\n",
              " 'energy': 7,\n",
              " 'revel': 1,\n",
              " 'wmv': 2,\n",
              " 'video': 173,\n",
              " 'mean': 27,\n",
              " 'mac': 7,\n",
              " 'farewell': 1,\n",
              " 'en': 3,\n",
              " 'route': 11,\n",
              " 'dvd': 6,\n",
              " 'gtxrwm': 1,\n",
              " 'progressive': 2,\n",
              " 'greetingsin': 1,\n",
              " 'month': 26,\n",
              " 'student': 17,\n",
              " 'would': 129,\n",
              " 'pen': 1,\n",
              " 'torch': 4,\n",
              " 'publication': 1,\n",
              " 'rene': 2,\n",
              " 'amp': 300,\n",
              " 'jacinta': 1,\n",
              " 'secret': 24,\n",
              " 'fallen': 4,\n",
              " 'edit': 2,\n",
              " 'mar': 1,\n",
              " 'steve': 8,\n",
              " 'something': 31,\n",
              " 'else': 18,\n",
              " 'tinderbox': 1,\n",
              " 'clown': 2,\n",
              " 'hood': 2,\n",
              " 'nowplaying': 26,\n",
              " 'ian': 4,\n",
              " 'buff': 2,\n",
              " 'magnitude': 1,\n",
              " 'edm': 11,\n",
              " 'huge': 21,\n",
              " 'talk': 22,\n",
              " 'go': 126,\n",
              " 'dont': 189,\n",
              " 'make': 100,\n",
              " 'work': 77,\n",
              " 'kid': 37,\n",
              " 'cuz': 6,\n",
              " 'bicycle': 4,\n",
              " 'accident': 95,\n",
              " 'split': 3,\n",
              " 'testicle': 1,\n",
              " 'impossible': 4,\n",
              " 'michael': 12,\n",
              " 'father': 7,\n",
              " 'nashvilletraffic': 1,\n",
              " 'traffic': 31,\n",
              " 'moving': 11,\n",
              " 'slower': 3,\n",
              " 'usual': 5,\n",
              " 'center': 24,\n",
              " 'lane': 13,\n",
              " 'blocked': 11,\n",
              " 'santaclara': 1,\n",
              " 'nb': 5,\n",
              " 'great': 61,\n",
              " 'america': 23,\n",
              " 'pkwy': 2,\n",
              " 'bayarea': 1,\n",
              " 'personalinjury': 1,\n",
              " 'read': 59,\n",
              " 'advice': 2,\n",
              " 'solicitor': 2,\n",
              " 'help': 74,\n",
              " 'otleyhour': 1,\n",
              " 'stlouis': 1,\n",
              " 'caraccidentlawyer': 1,\n",
              " 'speeding': 1,\n",
              " 'among': 11,\n",
              " 'teen': 15,\n",
              " 'reported': 16,\n",
              " 'motor': 6,\n",
              " 'vehicle': 24,\n",
              " 'curry': 1,\n",
              " 'herman': 1,\n",
              " 'rd': 30,\n",
              " 'stephenson': 1,\n",
              " 'involving': 13,\n",
              " 'overturned': 1,\n",
              " 'please': 68,\n",
              " 'use': 31,\n",
              " 'bigrigradio': 1,\n",
              " 'awareness': 2,\n",
              " 'mile': 15,\n",
              " 'marker': 3,\n",
              " 'mooresville': 2,\n",
              " 'iredell': 2,\n",
              " 'ramp': 1,\n",
              " 'pm': 103,\n",
              " 'sleeping': 10,\n",
              " 'pill': 3,\n",
              " 'double': 13,\n",
              " 'risk': 18,\n",
              " 'knew': 7,\n",
              " 'happen': 12,\n",
              " 'cabrillo': 1,\n",
              " 'hwymagellan': 1,\n",
              " 'av': 5,\n",
              " 'mir': 1,\n",
              " 'congestion': 1,\n",
              " 'pastor': 1,\n",
              " 'scene': 17,\n",
              " 'accidentwho': 1,\n",
              " 'owner': 16,\n",
              " 'range': 4,\n",
              " 'rover': 2,\n",
              " 'mom': 22,\n",
              " 'didnt': 30,\n",
              " 'wished': 1,\n",
              " 'thatmom': 1,\n",
              " 'spilt': 1,\n",
              " 'mayonnaise': 1,\n",
              " 'horrible': 35,\n",
              " 'past': 35,\n",
              " 'sunday': 12,\n",
              " 'finally': 23,\n",
              " 'able': 10,\n",
              " 'thank': 32,\n",
              " 'god': 55,\n",
              " 'pissed': 2,\n",
              " 'donnie': 1,\n",
              " 'tell': 30,\n",
              " 'another': 68,\n",
              " 'truckcrash': 1,\n",
              " 'overturn': 2,\n",
              " 'fortworth': 1,\n",
              " 'interstate': 2,\n",
              " 'click': 7,\n",
              " 'youve': 7,\n",
              " 'ashville': 1,\n",
              " 'sb': 4,\n",
              " 'sr': 6,\n",
              " 'carolina': 1,\n",
              " 'motorcyclist': 9,\n",
              " 'dy': 14,\n",
              " 'crossed': 6,\n",
              " 'median': 1,\n",
              " 'motorcycle': 6,\n",
              " 'rider': 7,\n",
              " 'traveling': 2,\n",
              " 'fyi': 3,\n",
              " 'cadfyi': 2,\n",
              " 'property': 18,\n",
              " 'damagenhs': 1,\n",
              " 'piner': 2,\n",
              " 'rdhorndale': 2,\n",
              " 'dr': 13,\n",
              " 'naayf': 1,\n",
              " 'turning': 3,\n",
              " 'onto': 8,\n",
              " 'chandanee': 1,\n",
              " 'magu': 1,\n",
              " 'mma': 6,\n",
              " 'taxi': 2,\n",
              " 'rammed': 2,\n",
              " 'halfway': 1,\n",
              " 'turned': 16,\n",
              " 'everyone': 52,\n",
              " 'left': 32,\n",
              " 'manchester': 9,\n",
              " 'eddy': 1,\n",
              " 'stop': 56,\n",
              " 'back': 120,\n",
              " 'nha': 1,\n",
              " 'delay': 8,\n",
              " 'min': 9,\n",
              " 'damagewpd': 1,\n",
              " 'th': 49,\n",
              " 'injury': 80,\n",
              " 'willis': 1,\n",
              " 'foreman': 1,\n",
              " 'aashiqui': 1,\n",
              " 'actress': 2,\n",
              " 'anu': 1,\n",
              " 'aggarwal': 1,\n",
              " 'nearfatal': 1,\n",
              " 'suffield': 1,\n",
              " 'alberta': 5,\n",
              " 'backup': 3,\n",
              " 'southaccident': 1,\n",
              " 'blocking': 5,\n",
              " 'right': 73,\n",
              " 'exit': 9,\n",
              " 'langtree': 1,\n",
              " 'rdconsider': 1,\n",
              " 'nc': 10,\n",
              " 'alternate': 1,\n",
              " 'changed': 4,\n",
              " 'determine': 1,\n",
              " 'option': 9,\n",
              " 'financially': 1,\n",
              " 'support': 27,\n",
              " 'plan': 74,\n",
              " 'ongoing': 1,\n",
              " 'treatment': 7,\n",
              " 'deadly': 9,\n",
              " 'happened': 18,\n",
              " 'hagerstown': 1,\n",
              " 'today': 98,\n",
              " 'ill': 35,\n",
              " 'detail': 6,\n",
              " 'whag': 1,\n",
              " 'marinading': 1,\n",
              " 'even': 71,\n",
              " 'fucking': 46,\n",
              " 'mf': 6,\n",
              " 'drive': 21,\n",
              " 'bahrain': 1,\n",
              " 'previously': 4,\n",
              " 'road': 46,\n",
              " 'killed': 96,\n",
              " 'explosion': 42,\n",
              " 'still': 128,\n",
              " 'heard': 35,\n",
              " 'leader': 12,\n",
              " 'kenya': 4,\n",
              " 'forward': 4,\n",
              " 'comment': 18,\n",
              " 'issue': 40,\n",
              " 'disciplinary': 1,\n",
              " 'measuresarrestpastornganga': 1,\n",
              " 'scuf': 2,\n",
              " 'p': 10,\n",
              " 'game': 47,\n",
              " 'cya': 1,\n",
              " 'effort': 11,\n",
              " 'painful': 1,\n",
              " 'win': 27,\n",
              " 'roger': 2,\n",
              " 'bannister': 1,\n",
              " 'ir': 7,\n",
              " 'icemoon': 7,\n",
              " 'aftershock': 20,\n",
              " 'dubstep': 8,\n",
              " 'trapmusic': 7,\n",
              " 'dnb': 8,\n",
              " 'dance': 16,\n",
              " 'victory': 5,\n",
              " 'bargain': 5,\n",
              " 'basement': 3,\n",
              " 'price': 12,\n",
              " 'dwight': 1,\n",
              " 'david': 8,\n",
              " 'eisenhower': 1,\n",
              " 'nobody': 5,\n",
              " 'remembers': 1,\n",
              " 'came': 36,\n",
              " 'charles': 4,\n",
              " 'schulz': 1,\n",
              " 'speaking': 4,\n",
              " 'someone': 44,\n",
              " 'using': 13,\n",
              " 'xb': 2,\n",
              " 'also': 43,\n",
              " 'harder': 1,\n",
              " 'conflict': 5,\n",
              " 'glorious': 3,\n",
              " 'triumph': 2,\n",
              " 'thomas': 7,\n",
              " 'paine': 1,\n",
              " 'growingupspoiled': 1,\n",
              " 'going': 103,\n",
              " 'clay': 1,\n",
              " 'pigeon': 1,\n",
              " 'shooting': 30,\n",
              " 'guess': 15,\n",
              " 'one': 203,\n",
              " 'actually': 28,\n",
              " 'want': 94,\n",
              " 'free': 41,\n",
              " 'tc': 2,\n",
              " 'terrifying': 3,\n",
              " 'best': 72,\n",
              " 'roller': 3,\n",
              " 'coaster': 2,\n",
              " 'ever': 54,\n",
              " 'disclaimer': 1,\n",
              " 'seeing': 16,\n",
              " 'wisdomwed': 1,\n",
              " 'bonus': 1,\n",
              " 'minute': 42,\n",
              " 'daily': 21,\n",
              " 'habit': 3,\n",
              " 'could': 81,\n",
              " 'really': 71,\n",
              " 'improve': 2,\n",
              " 'many': 84,\n",
              " 'already': 29,\n",
              " 'lifehacks': 1,\n",
              " 'protect': 7,\n",
              " 'profit': 4,\n",
              " 'global': 18,\n",
              " 'financial': 13,\n",
              " 'meltdown': 31,\n",
              " 'wiedemer': 1,\n",
              " 'moment': 23,\n",
              " 'scary': 6,\n",
              " 'guy': 47,\n",
              " 'behind': 17,\n",
              " 'screaming': 43,\n",
              " 'bloody': 44,\n",
              " 'murder': 43,\n",
              " 'silverwood': 1,\n",
              " 'streaming': 2,\n",
              " 'youtube': 14,\n",
              " 'gtgt': 13,\n",
              " 'book': 32,\n",
              " 'sometimes': 13,\n",
              " 'face': 46,\n",
              " 'difficulty': 2,\n",
              " 'wrong': 20,\n",
              " 'joel': 3,\n",
              " 'osteen': 1,\n",
              " 'thing': 71,\n",
              " 'stand': 24,\n",
              " 'dream': 12,\n",
              " 'belief': 4,\n",
              " 'possible': 32,\n",
              " 'brown': 27,\n",
              " 'praise': 1,\n",
              " 'ministry': 1,\n",
              " 'wdyouth': 1,\n",
              " 'biblestudy': 1,\n",
              " 'remembering': 6,\n",
              " 'die': 23,\n",
              " 'way': 84,\n",
              " 'avoid': 10,\n",
              " 'trap': 5,\n",
              " 'thinking': 16,\n",
              " 'lose': 10,\n",
              " 'job': 46,\n",
              " 'tried': 12,\n",
              " 'orange': 4,\n",
              " 'never': 61,\n",
              " 'bb': 7,\n",
              " 'kick': 10,\n",
              " 'making': 29,\n",
              " 'say': 128,\n",
              " 'done': 28,\n",
              " 'interrupt': 1,\n",
              " 'george': 6,\n",
              " 'bernard': 1,\n",
              " 'shaw': 2,\n",
              " 'oyster': 1,\n",
              " 'shell': 5,\n",
              " 'andrew': 2,\n",
              " 'carnegie': 1,\n",
              " 'anyone': 23,\n",
              " 'need': 93,\n",
              " 'pu': 1,\n",
              " 'play': 29,\n",
              " 'hybrid': 3,\n",
              " 'slayer': 3,\n",
              " 'eu': 3,\n",
              " 'hmu': 2,\n",
              " 'expert': 22,\n",
              " 'france': 15,\n",
              " 'begin': 18,\n",
              " 'examining': 10,\n",
              " 'airplane': 35,\n",
              " 'debris': 50,\n",
              " 'found': 52,\n",
              " 'reunion': 33,\n",
              " 'island': 40,\n",
              " 'french': 10,\n",
              " 'air': 40,\n",
              " 'news': 188,\n",
              " 'strict': 2,\n",
              " 'liability': 2,\n",
              " 'context': 3,\n",
              " 'pilot': 14,\n",
              " 'error': 5,\n",
              " 'common': 11,\n",
              " 'component': 2,\n",
              " 'aviation': 2,\n",
              " 'cr': 3,\n",
              " 'lifetime': 3,\n",
              " 'odds': 3,\n",
              " 'dying': 9,\n",
              " 'wedn': 2,\n",
              " 'awwww': 2,\n",
              " 'theyre': 23,\n",
              " 'cuties': 1,\n",
              " 'good': 87,\n",
              " 'family': 132,\n",
              " 'member': 19,\n",
              " 'osama': 1,\n",
              " 'bin': 10,\n",
              " 'laden': 9,\n",
              " 'ironic': 2,\n",
              " 'mhmmm': 1,\n",
              " 'gov': 9,\n",
              " 'suspect': 37,\n",
              " 'engine': 5,\n",
              " 'via': 220,\n",
              " 'wing': 8,\n",
              " 'cessna': 1,\n",
              " 'ocampo': 1,\n",
              " 'coahuila': 2,\n",
              " 'mexico': 6,\n",
              " 'july': 7,\n",
              " 'four': 17,\n",
              " 'men': 30,\n",
              " 'including': 8,\n",
              " 'state': 60,\n",
              " 'government': 32,\n",
              " 'official': 48,\n",
              " 'watchthevideo': 1,\n",
              " 'wednesday': 16,\n",
              " 'began': 9,\n",
              " 'kca': 4,\n",
              " 'votejktid': 4,\n",
              " 'mbataweel': 1,\n",
              " 'rip': 10,\n",
              " 'binladen': 1,\n",
              " 'almost': 25,\n",
              " 'coworker': 2,\n",
              " 'nude': 4,\n",
              " 'mode': 16,\n",
              " 'might': 23,\n",
              " 'wreck': 61,\n",
              " 'politics': 5,\n",
              " 'mlb': 4,\n",
              " 'unbelievably': 1,\n",
              " 'insaneman': 1,\n",
              " 'airport': 31,\n",
              " 'aircraft': 25,\n",
              " 'aeroplane': 1,\n",
              " 'runway': 7,\n",
              " 'airplaneåê': 1,\n",
              " 'usama': 1,\n",
              " 'ladin': 1,\n",
              " 'naturally': 1,\n",
              " 'plane': 34,\n",
              " 'festival': 5,\n",
              " 'death': 111,\n",
              " 'carfest': 1,\n",
              " 'dtn': 4,\n",
              " 'brazil': 7,\n",
              " 'exp': 6,\n",
              " 'wtf': 12,\n",
              " 'believe': 28,\n",
              " 'eye': 40,\n",
              " 'nicole': 1,\n",
              " 'fletcher': 1,\n",
              " 'victim': 27,\n",
              " 'crashed': 36,\n",
              " 'ago': 26,\n",
              " 'little': 47,\n",
              " 'bit': 14,\n",
              " 'trauma': 39,\n",
              " 'although': 3,\n",
              " 'shes': 21,\n",
              " 'omg': 21,\n",
              " 'broairplane': 1,\n",
              " 'jetengine': 1,\n",
              " 'turbojet': 1,\n",
              " 'boing': 1,\n",
              " 'phone': 40,\n",
              " 'ship': 32,\n",
              " 'terrible': 7,\n",
              " 'statistically': 1,\n",
              " 'cop': 18,\n",
              " 'house': 62,\n",
              " 'colombia': 1,\n",
              " 'drone': 11,\n",
              " 'worried': 5,\n",
              " 'esp': 3,\n",
              " 'close': 14,\n",
              " 'vicinity': 2,\n",
              " 'early': 16,\n",
              " 'wake': 28,\n",
              " 'call': 48,\n",
              " 'sister': 10,\n",
              " 'begging': 2,\n",
              " 'come': 73,\n",
              " 'ride': 4,\n",
              " 'wher': 1,\n",
              " 'ambulance': 41,\n",
              " 'hospital': 12,\n",
              " 'rodkiai': 1,\n",
              " 'twelve': 14,\n",
              " 'feared': 22,\n",
              " 'pakistani': 16,\n",
              " 'helicopter': 27,\n",
              " 'serious': 13,\n",
              " 'lorry': 6,\n",
              " 'reuters': 20,\n",
              " 'yugvani': 3,\n",
              " 'leading': 9,\n",
              " 'service': 82,\n",
              " 'bos': 5,\n",
              " 'welcome': 10,\n",
              " 'charity': 8,\n",
              " 'travelling': 2,\n",
              " 'aberystwythshrewsbury': 1,\n",
              " 'incident': 10,\n",
              " 'halt': 2,\n",
              " 'shrew': 1,\n",
              " 'sprinter': 4,\n",
              " 'automatic': 7,\n",
              " 'frontline': 4,\n",
              " 'choice': 10,\n",
              " 'lez': 4,\n",
              " 'compliant': 4,\n",
              " 'ebay': 30,\n",
              " 'nanotech': 1,\n",
              " 'device': 3,\n",
              " 'target': 12,\n",
              " 'destroy': 41,\n",
              " 'blood': 41,\n",
              " 'clot': 1,\n",
              " 'hella': 2,\n",
              " 'crazy': 21,\n",
              " 'fight': 33,\n",
              " 'couple': 23,\n",
              " 'mosh': 1,\n",
              " 'pit': 4,\n",
              " 'run': 52,\n",
              " 'lucky': 11,\n",
              " 'justsaying': 1,\n",
              " 'randomthought': 1,\n",
              " 'tilnow': 3,\n",
              " 'dna': 1,\n",
              " 'waiting': 10,\n",
              " 'ok': 37,\n",
              " 'hahahah': 2,\n",
              " 'pakistan': 21,\n",
              " 'kill': 65,\n",
              " 'nine': 6,\n",
              " 'nissan': 1,\n",
              " 'medical': 6,\n",
              " 'assistance': 4,\n",
              " 'em': 16,\n",
              " 'ny': 10,\n",
              " 'emts': 1,\n",
              " 'petition': 12,\n",
              " 'per': 3,\n",
              " 'hour': 42,\n",
              " 'paramedic': 4,\n",
              " 'parking': 4,\n",
              " 'lot': 43,\n",
              " 'said': 57,\n",
              " 'john': 8,\n",
              " 'ltlt': 2,\n",
              " 'dog': 28,\n",
              " 'think': 89,\n",
              " 'he': 44,\n",
              " 'hatzolah': 1,\n",
              " 'responding': 2,\n",
              " 'dual': 3,\n",
              " 'siren': 52,\n",
              " 'worldnews': 9,\n",
              " 'number': 18,\n",
              " 'lesotho': 1,\n",
              " 'body': 150,\n",
              " 'surprised': 5,\n",
              " 'standardised': 1,\n",
              " 'clinical': 1,\n",
              " 'practice': 9,\n",
              " 'nh': 4,\n",
              " 'trust': 18,\n",
              " 'jwalk': 1,\n",
              " 'passing': 7,\n",
              " 'hate': 21,\n",
              " 'episode': 13,\n",
              " 'trunk': 3,\n",
              " 'annihilated': 31,\n",
              " 'freiza': 1,\n",
              " 'cleanest': 1,\n",
              " 'showed': 3,\n",
              " 'nigga': 29,\n",
              " 'mercy': 4,\n",
              " 'shall': 10,\n",
              " 'petebests': 1,\n",
              " 'dessicated': 1,\n",
              " 'laid': 3,\n",
              " 'bare': 4,\n",
              " 'kneel': 1,\n",
              " 'uribe': 4,\n",
              " 'baseball': 7,\n",
              " 'mets': 6,\n",
              " 'heysundowns': 1,\n",
              " 'previous': 4,\n",
              " 'meeting': 8,\n",
              " 'celticindeed': 1,\n",
              " 'improvement': 2,\n",
              " 'mizzou': 1,\n",
              " 'ended': 7,\n",
              " 'muschamps': 1,\n",
              " 'career': 15,\n",
              " 'compete': 2,\n",
              " 'bama': 1,\n",
              " 'ab': 2,\n",
              " 'status': 5,\n",
              " 'education': 5,\n",
              " 'mba': 1,\n",
              " 'behalf': 3,\n",
              " 'easy': 8,\n",
              " 'careen': 1,\n",
              " 'eovm': 1,\n",
              " 'luka': 2,\n",
              " 'everything': 23,\n",
              " 'alois': 2,\n",
              " 'trancy': 2,\n",
              " 'un': 7,\n",
              " 'fella': 2,\n",
              " 'sorry': 20,\n",
              " 'wont': 26,\n",
              " 'pull': 8,\n",
              " 'drunk': 11,\n",
              " 'driver': 18,\n",
              " 'safety': 15,\n",
              " 'hit': 60,\n",
              " 'train': 115,\n",
              " 'must': 33,\n",
              " 'boom': 3,\n",
              " 'country': 29,\n",
              " 'entirely': 1,\n",
              " 'britain': 3,\n",
              " 'well': 50,\n",
              " 'suregod': 1,\n",
              " 'promised': 1,\n",
              " 'israel': 16,\n",
              " 'butthe': 2,\n",
              " 'horror': 28,\n",
              " 'iran': 35,\n",
              " 'wnukes': 1,\n",
              " 'thats': 56,\n",
              " 'armenian': 1,\n",
              " 'since': 52,\n",
              " 'weve': 7,\n",
              " 'spent': 8,\n",
              " 'history': 25,\n",
              " 'instantly': 2,\n",
              " 'became': 5,\n",
              " 'aware': 5,\n",
              " 'ability': 4,\n",
              " 'annihilate': 1,\n",
              " 'whole': 41,\n",
              " 'humanity': 8,\n",
              " 'tryout': 4,\n",
              " 'went': 33,\n",
              " 'minus': 1,\n",
              " 'fact': 15,\n",
              " 'stopped': 9,\n",
              " 'quickly': 9,\n",
              " 'short': 12,\n",
              " 'ball': 23,\n",
              " 'toenail': 1,\n",
              " 'oryx': 1,\n",
              " 'symbol': 1,\n",
              " 'arabian': 4,\n",
              " 'peninsula': 1,\n",
              " 'hunter': 7,\n",
              " 'ready': 18,\n",
              " 'bucs': 1,\n",
              " 'weather': 51,\n",
              " 'philip': 1,\n",
              " 'thought': 37,\n",
              " 'forecast': 9,\n",
              " 'domain': 2,\n",
              " 'sophistication': 1,\n",
              " 'closely': 1,\n",
              " 'uptotheminute': 1,\n",
              " 'feat': 12,\n",
              " 'zrnf': 1,\n",
              " 'seen': 22,\n",
              " 'juda': 1,\n",
              " 'priest': 2,\n",
              " 'rob': 4,\n",
              " 'scorpion': 2,\n",
              " 'astonishing': 1,\n",
              " 'gig': 2,\n",
              " 'officially': 6,\n",
              " 'skipping': 2,\n",
              " 'fantasticfourfantsticwhatever': 1,\n",
              " 'hashtag': 3,\n",
              " 'review': 14,\n",
              " 'bummer': 2,\n",
              " 'thus': 3,\n",
              " 'explaining': 1,\n",
              " 'case': 30,\n",
              " 'survivor': 41,\n",
              " 'evolved': 1,\n",
              " 'godlike': 1,\n",
              " 'completely': 9,\n",
              " 'cech': 1,\n",
              " 'paul': 11,\n",
              " 'keegan': 1,\n",
              " 'alive': 10,\n",
              " 'legion': 3,\n",
              " 'imperfect': 2,\n",
              " 'project': 9,\n",
              " 'formed': 3,\n",
              " 'cell': 4,\n",
              " 'exactly': 7,\n",
              " 'lesnarcena': 1,\n",
              " 'match': 13,\n",
              " 'summerslam': 1,\n",
              " 'brock': 2,\n",
              " 'who': 6,\n",
              " 'damascus': 1,\n",
              " 'syrian': 11,\n",
              " 'army': 72,\n",
              " 'grind': 1,\n",
              " 'gang': 6,\n",
              " 'manure': 1,\n",
              " 'wasnt': 15,\n",
              " 'forthright': 1,\n",
              " 'food': 47,\n",
              " 'coma': 1,\n",
              " 'bc': 28,\n",
              " ...}"
            ]
          },
          "metadata": {},
          "execution_count": 19
        }
      ]
    },
    {
      "cell_type": "code",
      "source": [
        "import re\n",
        "from sklearn.feature_extraction.text import TfidfVectorizer, CountVectorizer\n",
        "from sklearn.model_selection import GridSearchCV, train_test_split\n",
        "\n",
        "\n",
        "X = train_data[\"text_clean\"]\n",
        "y = train_data.target\n",
        "\n",
        "X_train, X_test, y_train, y_test = train_test_split(X,y,train_size = 0.8, random_state = 42, stratify = train_data.target)\n",
        "\n",
        "\n",
        "X_train.head()"
      ],
      "metadata": {
        "colab": {
          "base_uri": "https://localhost:8080/"
        },
        "id": "H3VkLj5sF8Ak",
        "outputId": "b89a2851-cba6-40e2-b341-22add8ce943e"
      },
      "execution_count": 20,
      "outputs": [
        {
          "output_type": "execute_result",
          "data": {
            "text/plain": [
              "id\n",
              "8902     sassy city girl country hunk stranded smoky mo...\n",
              "472      god kingdom heavenly govt rule people earth ar...\n",
              "1448     mopheme bigstar johnson problem game body bagg...\n",
              "10407                            sound like whirlwind life\n",
              "3137     malaysia confirms plane debris washed reunion ...\n",
              "Name: text_clean, dtype: object"
            ]
          },
          "metadata": {},
          "execution_count": 20
        }
      ]
    },
    {
      "cell_type": "code",
      "source": [
        "vectorizer_tfidf = TfidfVectorizer(max_features = None, ngram_range=(1,3))\n",
        "vectorizer_tfidf.fit(X_train)"
      ],
      "metadata": {
        "colab": {
          "base_uri": "https://localhost:8080/"
        },
        "id": "dgApMosg_ZYz",
        "outputId": "b84588c0-3d23-43b4-96f8-d00925aa171c"
      },
      "execution_count": 21,
      "outputs": [
        {
          "output_type": "execute_result",
          "data": {
            "text/plain": [
              "TfidfVectorizer(ngram_range=(1, 3))"
            ]
          },
          "metadata": {},
          "execution_count": 21
        }
      ]
    },
    {
      "cell_type": "code",
      "source": [
        "from sklearn.linear_model import LogisticRegression\n",
        "classifier_tfidf = LogisticRegression()\n",
        "\n",
        "model = Pipeline(steps= [\n",
        "    (\"vectorizer\", vectorizer_tfidf),\n",
        "    (\"classifier\", classifier_tfidf)\n",
        "])\n",
        "\n",
        "model.fit(X_train, y_train)"
      ],
      "metadata": {
        "colab": {
          "base_uri": "https://localhost:8080/"
        },
        "id": "M_oBcCGz_1MS",
        "outputId": "5dcbd8a4-3e52-4ee1-a604-10d75218303a"
      },
      "execution_count": 22,
      "outputs": [
        {
          "output_type": "execute_result",
          "data": {
            "text/plain": [
              "Pipeline(steps=[('vectorizer', TfidfVectorizer(ngram_range=(1, 3))),\n",
              "                ('classifier', LogisticRegression())])"
            ]
          },
          "metadata": {},
          "execution_count": 22
        }
      ]
    },
    {
      "cell_type": "code",
      "source": [
        "model.score(X_train, y_train)"
      ],
      "metadata": {
        "colab": {
          "base_uri": "https://localhost:8080/"
        },
        "id": "Se6_de6SAYlH",
        "outputId": "fc9328fc-af31-45e4-df9a-9224c6ac94b5"
      },
      "execution_count": 23,
      "outputs": [
        {
          "output_type": "execute_result",
          "data": {
            "text/plain": [
              "0.919047619047619"
            ]
          },
          "metadata": {},
          "execution_count": 23
        }
      ]
    },
    {
      "cell_type": "code",
      "source": [
        "model.score(X_test, y_test)"
      ],
      "metadata": {
        "colab": {
          "base_uri": "https://localhost:8080/"
        },
        "id": "U48sWiyxAe4Y",
        "outputId": "ade2d26d-2e96-4ed9-ccb0-309546e1d76f"
      },
      "execution_count": 24,
      "outputs": [
        {
          "output_type": "execute_result",
          "data": {
            "text/plain": [
              "0.8089297439264609"
            ]
          },
          "metadata": {},
          "execution_count": 24
        }
      ]
    },
    {
      "cell_type": "code",
      "source": [
        "grid = GridSearchCV(estimator = model, param_grid = {\n",
        "    'classifier__C': [1, 2, 5, 10, 100]\n",
        "}, cv = 5)\n",
        "grid.fit(X_train, y_train)"
      ],
      "metadata": {
        "colab": {
          "base_uri": "https://localhost:8080/"
        },
        "id": "rJ2Sedt-Akwb",
        "outputId": "29b9d34b-fba1-4d67-bf32-578995dd63da"
      },
      "execution_count": 25,
      "outputs": [
        {
          "output_type": "stream",
          "name": "stderr",
          "text": [
            "/usr/local/lib/python3.7/dist-packages/sklearn/linear_model/_logistic.py:818: ConvergenceWarning: lbfgs failed to converge (status=1):\n",
            "STOP: TOTAL NO. of ITERATIONS REACHED LIMIT.\n",
            "\n",
            "Increase the number of iterations (max_iter) or scale the data as shown in:\n",
            "    https://scikit-learn.org/stable/modules/preprocessing.html\n",
            "Please also refer to the documentation for alternative solver options:\n",
            "    https://scikit-learn.org/stable/modules/linear_model.html#logistic-regression\n",
            "  extra_warning_msg=_LOGISTIC_SOLVER_CONVERGENCE_MSG,\n",
            "/usr/local/lib/python3.7/dist-packages/sklearn/linear_model/_logistic.py:818: ConvergenceWarning: lbfgs failed to converge (status=1):\n",
            "STOP: TOTAL NO. of ITERATIONS REACHED LIMIT.\n",
            "\n",
            "Increase the number of iterations (max_iter) or scale the data as shown in:\n",
            "    https://scikit-learn.org/stable/modules/preprocessing.html\n",
            "Please also refer to the documentation for alternative solver options:\n",
            "    https://scikit-learn.org/stable/modules/linear_model.html#logistic-regression\n",
            "  extra_warning_msg=_LOGISTIC_SOLVER_CONVERGENCE_MSG,\n",
            "/usr/local/lib/python3.7/dist-packages/sklearn/linear_model/_logistic.py:818: ConvergenceWarning: lbfgs failed to converge (status=1):\n",
            "STOP: TOTAL NO. of ITERATIONS REACHED LIMIT.\n",
            "\n",
            "Increase the number of iterations (max_iter) or scale the data as shown in:\n",
            "    https://scikit-learn.org/stable/modules/preprocessing.html\n",
            "Please also refer to the documentation for alternative solver options:\n",
            "    https://scikit-learn.org/stable/modules/linear_model.html#logistic-regression\n",
            "  extra_warning_msg=_LOGISTIC_SOLVER_CONVERGENCE_MSG,\n",
            "/usr/local/lib/python3.7/dist-packages/sklearn/linear_model/_logistic.py:818: ConvergenceWarning: lbfgs failed to converge (status=1):\n",
            "STOP: TOTAL NO. of ITERATIONS REACHED LIMIT.\n",
            "\n",
            "Increase the number of iterations (max_iter) or scale the data as shown in:\n",
            "    https://scikit-learn.org/stable/modules/preprocessing.html\n",
            "Please also refer to the documentation for alternative solver options:\n",
            "    https://scikit-learn.org/stable/modules/linear_model.html#logistic-regression\n",
            "  extra_warning_msg=_LOGISTIC_SOLVER_CONVERGENCE_MSG,\n",
            "/usr/local/lib/python3.7/dist-packages/sklearn/linear_model/_logistic.py:818: ConvergenceWarning: lbfgs failed to converge (status=1):\n",
            "STOP: TOTAL NO. of ITERATIONS REACHED LIMIT.\n",
            "\n",
            "Increase the number of iterations (max_iter) or scale the data as shown in:\n",
            "    https://scikit-learn.org/stable/modules/preprocessing.html\n",
            "Please also refer to the documentation for alternative solver options:\n",
            "    https://scikit-learn.org/stable/modules/linear_model.html#logistic-regression\n",
            "  extra_warning_msg=_LOGISTIC_SOLVER_CONVERGENCE_MSG,\n",
            "/usr/local/lib/python3.7/dist-packages/sklearn/linear_model/_logistic.py:818: ConvergenceWarning: lbfgs failed to converge (status=1):\n",
            "STOP: TOTAL NO. of ITERATIONS REACHED LIMIT.\n",
            "\n",
            "Increase the number of iterations (max_iter) or scale the data as shown in:\n",
            "    https://scikit-learn.org/stable/modules/preprocessing.html\n",
            "Please also refer to the documentation for alternative solver options:\n",
            "    https://scikit-learn.org/stable/modules/linear_model.html#logistic-regression\n",
            "  extra_warning_msg=_LOGISTIC_SOLVER_CONVERGENCE_MSG,\n"
          ]
        },
        {
          "output_type": "execute_result",
          "data": {
            "text/plain": [
              "GridSearchCV(cv=5,\n",
              "             estimator=Pipeline(steps=[('vectorizer',\n",
              "                                        TfidfVectorizer(ngram_range=(1, 3))),\n",
              "                                       ('classifier', LogisticRegression())]),\n",
              "             param_grid={'classifier__C': [1, 2, 5, 10, 100]})"
            ]
          },
          "metadata": {},
          "execution_count": 25
        }
      ]
    },
    {
      "cell_type": "code",
      "source": [
        "grid.best_estimator_"
      ],
      "metadata": {
        "colab": {
          "base_uri": "https://localhost:8080/"
        },
        "id": "5c2W2ZBfCGyb",
        "outputId": "617ba06d-d7b7-4cda-d694-9131b47702ca"
      },
      "execution_count": 26,
      "outputs": [
        {
          "output_type": "execute_result",
          "data": {
            "text/plain": [
              "Pipeline(steps=[('vectorizer', TfidfVectorizer(ngram_range=(1, 3))),\n",
              "                ('classifier', LogisticRegression(C=1))])"
            ]
          },
          "metadata": {},
          "execution_count": 26
        }
      ]
    },
    {
      "cell_type": "code",
      "source": [
        "grid.best_estimator_.score(X_train, y_train)"
      ],
      "metadata": {
        "colab": {
          "base_uri": "https://localhost:8080/"
        },
        "id": "PHWdwiGhCJ2x",
        "outputId": "4cea97f7-5d00-433d-d114-e495e2a9f38a"
      },
      "execution_count": 27,
      "outputs": [
        {
          "output_type": "execute_result",
          "data": {
            "text/plain": [
              "0.919047619047619"
            ]
          },
          "metadata": {},
          "execution_count": 27
        }
      ]
    },
    {
      "cell_type": "code",
      "source": [
        "grid.best_estimator_.score(X_test, y_test)"
      ],
      "metadata": {
        "colab": {
          "base_uri": "https://localhost:8080/"
        },
        "id": "M_5JFHSzCO8j",
        "outputId": "0987c2ee-09a2-4024-d0c7-381dcad06d62"
      },
      "execution_count": 28,
      "outputs": [
        {
          "output_type": "execute_result",
          "data": {
            "text/plain": [
              "0.8089297439264609"
            ]
          },
          "metadata": {},
          "execution_count": 28
        }
      ]
    },
    {
      "cell_type": "code",
      "source": [
        "from sklearn.naive_bayes import MultinomialNB\n",
        "\n",
        "classifier2 = MultinomialNB()\n",
        "\n",
        "model2 = Pipeline(steps= [\n",
        "    (\"vectorizer\", vectorizer_tfidf),\n",
        "    (\"classifier\", classifier2)\n",
        "])\n",
        "\n",
        "model2.fit(X_train, y_train)\n",
        "model2.score(X_train, y_train)\n"
      ],
      "metadata": {
        "colab": {
          "base_uri": "https://localhost:8080/"
        },
        "id": "M0BzfPoRTaAB",
        "outputId": "536e8b00-ea4c-469a-f4f6-6281ce378a5c"
      },
      "execution_count": 29,
      "outputs": [
        {
          "output_type": "execute_result",
          "data": {
            "text/plain": [
              "0.9614121510673235"
            ]
          },
          "metadata": {},
          "execution_count": 29
        }
      ]
    },
    {
      "cell_type": "code",
      "source": [
        "model2.score(X_test, y_test)"
      ],
      "metadata": {
        "colab": {
          "base_uri": "https://localhost:8080/"
        },
        "id": "owtgF-DrUHlX",
        "outputId": "8acca2b0-92bb-47ec-a54e-a0e1bf7abe68"
      },
      "execution_count": 30,
      "outputs": [
        {
          "output_type": "execute_result",
          "data": {
            "text/plain": [
              "0.8102429415627052"
            ]
          },
          "metadata": {},
          "execution_count": 30
        }
      ]
    },
    {
      "cell_type": "code",
      "source": [
        "from sklearn.svm import SVC\n",
        "\n",
        "model3 = SVC()\n",
        "\n",
        "my_pipe = Pipeline(steps = [\n",
        "    (\"vectorizer\", vectorizer_tfidf),\n",
        "    (\"classifier\", model3)\n",
        "])\n",
        "grid2 = GridSearchCV(estimator = my_pipe, param_grid = {\n",
        "    'classifier__C': [1, 5, 10, 20, 100],\n",
        "    'classifier__kernel': ['poly', 'rbf', 'linear', 'sigmoid']\n",
        "}, cv = 5)\n",
        "\n",
        "grid2.fit(X_train, y_train)"
      ],
      "metadata": {
        "colab": {
          "base_uri": "https://localhost:8080/"
        },
        "id": "siQVhUGMRNga",
        "outputId": "4e1edff0-45b3-40e7-cdd7-c3cf61e3b291"
      },
      "execution_count": 31,
      "outputs": [
        {
          "output_type": "execute_result",
          "data": {
            "text/plain": [
              "GridSearchCV(cv=5,\n",
              "             estimator=Pipeline(steps=[('vectorizer',\n",
              "                                        TfidfVectorizer(ngram_range=(1, 3))),\n",
              "                                       ('classifier', SVC())]),\n",
              "             param_grid={'classifier__C': [1, 5, 10, 20, 100],\n",
              "                         'classifier__kernel': ['poly', 'rbf', 'linear',\n",
              "                                                'sigmoid']})"
            ]
          },
          "metadata": {},
          "execution_count": 31
        }
      ]
    },
    {
      "cell_type": "code",
      "source": [
        "grid2.best_estimator_"
      ],
      "metadata": {
        "colab": {
          "base_uri": "https://localhost:8080/"
        },
        "id": "nXFSyuFXVDVf",
        "outputId": "c6227770-b519-49be-9fda-a216eeb24b90"
      },
      "execution_count": 32,
      "outputs": [
        {
          "output_type": "execute_result",
          "data": {
            "text/plain": [
              "Pipeline(steps=[('vectorizer', TfidfVectorizer(ngram_range=(1, 3))),\n",
              "                ('classifier', SVC(C=1, kernel='sigmoid'))])"
            ]
          },
          "metadata": {},
          "execution_count": 32
        }
      ]
    },
    {
      "cell_type": "code",
      "source": [
        "grid2.best_estimator_.score(X_train, y_train)"
      ],
      "metadata": {
        "colab": {
          "base_uri": "https://localhost:8080/"
        },
        "id": "QvvmmKbLVRH5",
        "outputId": "fedaac06-6706-450c-f72c-f3efc1993f38"
      },
      "execution_count": 33,
      "outputs": [
        {
          "output_type": "execute_result",
          "data": {
            "text/plain": [
              "0.9499178981937603"
            ]
          },
          "metadata": {},
          "execution_count": 33
        }
      ]
    },
    {
      "cell_type": "code",
      "source": [
        "grid2.best_estimator_.score(X_test, y_test)"
      ],
      "metadata": {
        "colab": {
          "base_uri": "https://localhost:8080/"
        },
        "id": "YicFzkk6VJo9",
        "outputId": "60e52a95-9343-48ed-ec9f-dd4be93a636f"
      },
      "execution_count": 34,
      "outputs": [
        {
          "output_type": "execute_result",
          "data": {
            "text/plain": [
              "0.8122127380170716"
            ]
          },
          "metadata": {},
          "execution_count": 34
        }
      ]
    },
    {
      "cell_type": "code",
      "source": [
        "from sklearn.ensemble import RandomForestClassifier\n",
        "\n",
        "rfc = RandomForestClassifier(random_state = 42)\n",
        "feature_pipe = Pipeline(steps = [\n",
        "    (\"vectorizer\", vectorizer_tfidf),\n",
        "    (\"identifier\", rfc)\n",
        "])\n",
        "feature_pipe.fit(X_train, y_train)\n"
      ],
      "metadata": {
        "colab": {
          "base_uri": "https://localhost:8080/"
        },
        "id": "hL2ncpJrTOeY",
        "outputId": "dbbcac59-c87e-4c57-964d-409bc1e92149"
      },
      "execution_count": 35,
      "outputs": [
        {
          "output_type": "execute_result",
          "data": {
            "text/plain": [
              "Pipeline(steps=[('vectorizer', TfidfVectorizer(ngram_range=(1, 3))),\n",
              "                ('identifier', RandomForestClassifier(random_state=42))])"
            ]
          },
          "metadata": {},
          "execution_count": 35
        }
      ]
    },
    {
      "cell_type": "code",
      "source": [
        "feature_pipe.named_steps[\"identifier\"].feature_importances_"
      ],
      "metadata": {
        "colab": {
          "base_uri": "https://localhost:8080/"
        },
        "id": "__pXnvTPV1NY",
        "outputId": "264197b9-33b1-486b-ab1b-bf49cfff50a9"
      },
      "execution_count": 36,
      "outputs": [
        {
          "output_type": "execute_result",
          "data": {
            "text/plain": [
              "array([0.00000000e+00, 0.00000000e+00, 0.00000000e+00, ...,\n",
              "       0.00000000e+00, 0.00000000e+00, 1.24937692e-07])"
            ]
          },
          "metadata": {},
          "execution_count": 36
        }
      ]
    },
    {
      "cell_type": "code",
      "source": [
        "from xgboost import XGBClassifier\n",
        "\n",
        "xgb = XGBClassifier(learning_rate = 0.4, n_estimators = 1200, max_depth = 3)\n",
        "\n",
        "pipe3 = Pipeline(steps = [\n",
        "    (\"vectorizer\", vectorizer_tfidf),\n",
        "    (\"xgb\", xgb)\n",
        "])\n",
        "\n",
        "pipe3.fit(X_train, y_train)\n",
        "\n",
        "pipe3.score(X_train, y_train)"
      ],
      "metadata": {
        "colab": {
          "base_uri": "https://localhost:8080/"
        },
        "id": "g6T6pbWSi9j5",
        "outputId": "89d580c6-38c3-4b40-be76-55b1645352b5"
      },
      "execution_count": 37,
      "outputs": [
        {
          "output_type": "execute_result",
          "data": {
            "text/plain": [
              "0.954351395730706"
            ]
          },
          "metadata": {},
          "execution_count": 37
        }
      ]
    },
    {
      "cell_type": "code",
      "source": [
        "pipe3.score(X_test, y_test)"
      ],
      "metadata": {
        "colab": {
          "base_uri": "https://localhost:8080/"
        },
        "id": "SLhx88unjfQ7",
        "outputId": "dc0717f4-dbe2-408b-dd90-0e7927237b44"
      },
      "execution_count": 38,
      "outputs": [
        {
          "output_type": "execute_result",
          "data": {
            "text/plain": [
              "0.7701904136572554"
            ]
          },
          "metadata": {},
          "execution_count": 38
        }
      ]
    },
    {
      "cell_type": "code",
      "source": [
        "from sklearn.ensemble import VotingClassifier\n",
        "\n",
        "voter = VotingClassifier(estimators = [\n",
        "    ('xgb', xgb), ('rfc', rfc) , ('svc', model3), ('nb', classifier2), ('logistic', classifier_tfidf)\n",
        "])\n",
        "\n",
        "vote = Pipeline(steps = [\n",
        "    ('vectorizer', vectorizer_tfidf),\n",
        "    ('voter', voter)\n",
        "])\n",
        "\n",
        "vote.fit(X_train, y_train)\n",
        "\n",
        "vote.score(X_train, y_train)"
      ],
      "metadata": {
        "colab": {
          "base_uri": "https://localhost:8080/"
        },
        "id": "QGcfIup9mulh",
        "outputId": "dcfd0ae1-4487-479f-d033-1a2e93938d92"
      },
      "execution_count": 44,
      "outputs": [
        {
          "output_type": "execute_result",
          "data": {
            "text/plain": [
              "0.9760262725779967"
            ]
          },
          "metadata": {},
          "execution_count": 44
        }
      ]
    },
    {
      "cell_type": "code",
      "source": [
        "vote.score(X_test, y_test)"
      ],
      "metadata": {
        "colab": {
          "base_uri": "https://localhost:8080/"
        },
        "id": "s86GAzRlnufg",
        "outputId": "707a1b9e-03ee-4906-aa09-1b17ee1616e3"
      },
      "execution_count": 45,
      "outputs": [
        {
          "output_type": "execute_result",
          "data": {
            "text/plain": [
              "0.8095863427445831"
            ]
          },
          "metadata": {},
          "execution_count": 45
        }
      ]
    },
    {
      "cell_type": "markdown",
      "source": [
        "It seems as though our voting ensemble classifier isn't as good as some of the individual models ... maybe due to hyperparameters not being set differently to account for the ensemble."
      ],
      "metadata": {
        "id": "Stv9MbsorDr9"
      }
    },
    {
      "cell_type": "code",
      "source": [
        "test_data = pd.read_csv(\"data/nlp-getting-started/test.csv\")\n",
        "test_data[\"clean_text\"] = test_data[\"text\"].apply(lambda x: preprocessing_text(x))\n",
        "X_valid = test_data[\"clean_text\"]\n",
        "prediction = model2.predict(X_valid)\n",
        "submission = pd.DataFrame(test_data.id)\n",
        "submission[\"target\"] = prediction\n",
        "submission.to_csv(\"submission.csv\", index = False)\n"
      ],
      "metadata": {
        "id": "g0QZvPyf28iD"
      },
      "execution_count": 39,
      "outputs": []
    },
    {
      "cell_type": "markdown",
      "source": [
        "On the competition, the multinomialNB performed better than Logistic Regression ... by about ~0.2% which skyrocketted my rank from 400+ to 317\n",
        "Now i'm using the transformers, more specifically BERT, in order to climb even higher. I've seen that some people achieved 100% accuracy (without knowing which model they used), which sounds like an interesting challenge to aim for. (Update 0.5: Sorry to disappoint, but there's been a leak in the labels for the submissions .... sooo that 100% wasn't a model (duh, a model that scores 100% accuracy on tweets will be extremely popular and heavily used) that achieved it)\n",
        "\n",
        "Update: We've messed around with the models and essentially did a model-centric approach to increase our accuracy and we've been able to bump it up by ~1% overall. Reason: Increasing the n_gram in TfIdf managed to increase the accuracy. (However, this didn't increase our rank in the competition, so we'll have to keep in mind that n-gram (1, 3) is the highest score so far)\n",
        "\n",
        "Update 2.0: We've managed to get 80% accuracy in the score thanks to the preprocessing steps that we added in the start(URL, numbers and that \"htt..\" that somehow didn't get removed through URL regex) and  (went from 79.95% => 80.02%)\n",
        "It seems like using word embeddings might help with accuracy, same thing with fixing the misspellings in the text.\n",
        "\n",
        "https://pytorch.org/hub/huggingface_pytorch-transformers/"
      ],
      "metadata": {
        "id": "TJ2lkKqOP_Km"
      }
    },
    {
      "cell_type": "code",
      "source": [
        "!pip install transformers"
      ],
      "metadata": {
        "colab": {
          "base_uri": "https://localhost:8080/"
        },
        "id": "DVBRxNapfOMf",
        "outputId": "9fdb1216-23b3-4384-b8e8-6a5129276b22"
      },
      "execution_count": 40,
      "outputs": [
        {
          "output_type": "stream",
          "name": "stdout",
          "text": [
            "Looking in indexes: https://pypi.org/simple, https://us-python.pkg.dev/colab-wheels/public/simple/\n",
            "Collecting transformers\n",
            "  Downloading transformers-4.23.1-py3-none-any.whl (5.3 MB)\n",
            "\u001b[K     |████████████████████████████████| 5.3 MB 8.0 MB/s \n",
            "\u001b[?25hRequirement already satisfied: requests in /usr/local/lib/python3.7/dist-packages (from transformers) (2.23.0)\n",
            "Collecting huggingface-hub<1.0,>=0.10.0\n",
            "  Downloading huggingface_hub-0.10.1-py3-none-any.whl (163 kB)\n",
            "\u001b[K     |████████████████████████████████| 163 kB 72.5 MB/s \n",
            "\u001b[?25hRequirement already satisfied: pyyaml>=5.1 in /usr/local/lib/python3.7/dist-packages (from transformers) (6.0)\n",
            "Requirement already satisfied: packaging>=20.0 in /usr/local/lib/python3.7/dist-packages (from transformers) (21.3)\n",
            "Requirement already satisfied: importlib-metadata in /usr/local/lib/python3.7/dist-packages (from transformers) (5.0.0)\n",
            "Collecting tokenizers!=0.11.3,<0.14,>=0.11.1\n",
            "  Downloading tokenizers-0.13.1-cp37-cp37m-manylinux_2_17_x86_64.manylinux2014_x86_64.whl (7.6 MB)\n",
            "\u001b[K     |████████████████████████████████| 7.6 MB 42.5 MB/s \n",
            "\u001b[?25hRequirement already satisfied: filelock in /usr/local/lib/python3.7/dist-packages (from transformers) (3.8.0)\n",
            "Requirement already satisfied: regex!=2019.12.17 in /usr/local/lib/python3.7/dist-packages (from transformers) (2022.6.2)\n",
            "Requirement already satisfied: numpy>=1.17 in /usr/local/lib/python3.7/dist-packages (from transformers) (1.21.6)\n",
            "Requirement already satisfied: tqdm>=4.27 in /usr/local/lib/python3.7/dist-packages (from transformers) (4.64.1)\n",
            "Requirement already satisfied: typing-extensions>=3.7.4.3 in /usr/local/lib/python3.7/dist-packages (from huggingface-hub<1.0,>=0.10.0->transformers) (4.1.1)\n",
            "Requirement already satisfied: pyparsing!=3.0.5,>=2.0.2 in /usr/local/lib/python3.7/dist-packages (from packaging>=20.0->transformers) (3.0.9)\n",
            "Requirement already satisfied: zipp>=0.5 in /usr/local/lib/python3.7/dist-packages (from importlib-metadata->transformers) (3.9.0)\n",
            "Requirement already satisfied: certifi>=2017.4.17 in /usr/local/lib/python3.7/dist-packages (from requests->transformers) (2022.9.24)\n",
            "Requirement already satisfied: chardet<4,>=3.0.2 in /usr/local/lib/python3.7/dist-packages (from requests->transformers) (3.0.4)\n",
            "Requirement already satisfied: urllib3!=1.25.0,!=1.25.1,<1.26,>=1.21.1 in /usr/local/lib/python3.7/dist-packages (from requests->transformers) (1.24.3)\n",
            "Requirement already satisfied: idna<3,>=2.5 in /usr/local/lib/python3.7/dist-packages (from requests->transformers) (2.10)\n",
            "Installing collected packages: tokenizers, huggingface-hub, transformers\n",
            "Successfully installed huggingface-hub-0.10.1 tokenizers-0.13.1 transformers-4.23.1\n"
          ]
        }
      ]
    },
    {
      "cell_type": "code",
      "source": [
        "import torch\n",
        "from torch import nn\n",
        "from torch.utils.data import Dataset, DataLoader\n",
        "from transformers import BertModel, BertTokenizer, AdamW, get_linear_schedule_with_warmup\n",
        "from sklearn.metrics import classification_report, confusion_matrix\n",
        "\n",
        "torch.manual_seed(42)\n",
        "torch.cuda.manual_seed(42)\n",
        "\n",
        "# We'll make device agnostic code (since CPU will most likely take a long time with BERT (5h 43 min for 2 epochs ...))\n",
        "device = \"cuda\" if torch.cuda.is_available() else \"cpu\"\n",
        "\n",
        "BERT_PRETRAINED_MODEL_NAME = \"bert-base-cased\"\n",
        "\n",
        "tokenizer = BertTokenizer.from_pretrained(BERT_PRETRAINED_MODEL_NAME)\n",
        "\n",
        "\n"
      ],
      "metadata": {
        "colab": {
          "base_uri": "https://localhost:8080/",
          "height": 113,
          "referenced_widgets": [
            "ec2ce3e4236f4613b8959613684d7d02",
            "798c94da771848c8aba01a1d0ce32f3e",
            "e57adbed10ef403491730797b494911a",
            "e5fc6f94a8f9446d9b9b4d206f8274a9",
            "275ff0c341bb460cbca21c8090f9d438",
            "1911c54c61b74bc1a66074750e02f810",
            "30422ff9de594c6c9b1f42d0b19d7061",
            "cb09f85fdea84ab09b172f3db1f47042",
            "8e0161a656f74319b30e0ffbc63baeac",
            "11a430d43f704d389fc34c33cc37b99c",
            "af6ad65da2f84e6a8e9b5ed93ae6bd95",
            "6126b3b219464fa39997c9c54b4f8781",
            "ad9e66586a4543ed9f066ccaf8c90e45",
            "8afca040b09142b097667737a90301b1",
            "930b99eb977d4e7b8c946c555a6484c8",
            "9fc94720f1f74065847fdf56fd822292",
            "9c774b8772f946a1986cafa5a13ff72d",
            "7b524ac8d88a464bb7b0be00eb55cd07",
            "39441f5be55a4830ae0e577dd0945efb",
            "cd0d13c0f43a42bfb2d5006f8c8e9f93",
            "592182123b0849bc9d8d39b6a5ac9ff9",
            "3de81a29c33f40748007f42d38913cc4",
            "ad2f9150bed6438c8e6d112134b49c16",
            "6b9854208a0c47f18d1e0ac754fe267a",
            "40c18ff4ae804a3283e73e57665282ca",
            "3a7a7a1d844a4ec4bac0e5a9b2cba951",
            "9d210c61daf14aa6975f0a5454bd95c3",
            "f28370ddc8064400b54892e05cc0a5ef",
            "556f5efc332d449181caa1fbbbfe21bf",
            "1ccc1ee4b96c40ffa491efbed33f770f",
            "ba430ce1a5b0456083aefcc3fd442182",
            "89bf8384e8dc4bdeba2044fd2b37a30c",
            "19f32768f57c44009e2f879434116b8b"
          ]
        },
        "id": "RxyGH85LhYIj",
        "outputId": "eae854f6-d5ae-4ee2-af6b-8e3c626d9082"
      },
      "execution_count": 41,
      "outputs": [
        {
          "output_type": "display_data",
          "data": {
            "text/plain": [
              "Downloading:   0%|          | 0.00/213k [00:00<?, ?B/s]"
            ],
            "application/vnd.jupyter.widget-view+json": {
              "version_major": 2,
              "version_minor": 0,
              "model_id": "ec2ce3e4236f4613b8959613684d7d02"
            }
          },
          "metadata": {}
        },
        {
          "output_type": "display_data",
          "data": {
            "text/plain": [
              "Downloading:   0%|          | 0.00/29.0 [00:00<?, ?B/s]"
            ],
            "application/vnd.jupyter.widget-view+json": {
              "version_major": 2,
              "version_minor": 0,
              "model_id": "6126b3b219464fa39997c9c54b4f8781"
            }
          },
          "metadata": {}
        },
        {
          "output_type": "display_data",
          "data": {
            "text/plain": [
              "Downloading:   0%|          | 0.00/570 [00:00<?, ?B/s]"
            ],
            "application/vnd.jupyter.widget-view+json": {
              "version_major": 2,
              "version_minor": 0,
              "model_id": "ad2f9150bed6438c8e6d112134b49c16"
            }
          },
          "metadata": {}
        }
      ]
    },
    {
      "cell_type": "code",
      "source": [
        "token_lens = []\n",
        "\n",
        "for text in train_data['text']:\n",
        "  tokens = tokenizer.encode(text, max_length = 512)\n",
        "  token_lens.append(len(tokens))"
      ],
      "metadata": {
        "colab": {
          "base_uri": "https://localhost:8080/"
        },
        "id": "IF9CV5ZDUCk3",
        "outputId": "0cd9879c-23a5-4c47-fb5a-43b23e0ebc1b"
      },
      "execution_count": 42,
      "outputs": [
        {
          "output_type": "stream",
          "name": "stderr",
          "text": [
            "Truncation was not explicitly activated but `max_length` is provided a specific value, please use `truncation=True` to explicitly truncate examples to max length. Defaulting to 'longest_first' truncation strategy. If you encode pairs of sequences (GLUE-style) with the tokenizer you can select this strategy more precisely by providing a specific strategy to `truncation`.\n"
          ]
        }
      ]
    },
    {
      "cell_type": "code",
      "source": [
        "import matplotlib.pyplot as plt\n",
        "sns.histplot(token_lens, kde = True)\n",
        "plt.xlim([0,128]);\n",
        "plt.xlabel('Token count');"
      ],
      "metadata": {
        "colab": {
          "base_uri": "https://localhost:8080/",
          "height": 279
        },
        "id": "G_BQxayrUr3r",
        "outputId": "646d3d37-49d7-45db-b62f-35cd3f1f054c"
      },
      "execution_count": 43,
      "outputs": [
        {
          "output_type": "display_data",
          "data": {
            "text/plain": [
              "<Figure size 432x288 with 1 Axes>"
            ],
            "image/png": "[encoded data removed]"
          },
          "metadata": {
            "needs_background": "light"
          }
        }
      ]
    },
    {
      "cell_type": "markdown",
      "source": [
        "To be on the safe side, we'll do a max length of 128."
      ],
      "metadata": {
        "id": "faKiEuMZVige"
      }
    },
    {
      "cell_type": "markdown",
      "source": [
        "We'll need to make our dataset"
      ],
      "metadata": {
        "id": "VFhlSLV0NZBa"
      }
    },
    {
      "cell_type": "code",
      "source": [
        "class TextDataset(Dataset):\n",
        "  def __init__(self,texts,targets, tokenizer, max_len):\n",
        "    self.texts = texts\n",
        "    self.targets = targets\n",
        "    self.tokenizer = tokenizer\n",
        "    self.max_len = max_len\n",
        "\n",
        "  def __len__(self):\n",
        "    return len(self.texts)\n",
        "\n",
        "  # We need to define a __getitem__ function that will get an item from an iterable object (texts in this case)\n",
        "  def __getitem__(self,item):\n",
        "    text = str(self.texts[item])\n",
        "    target = self.targets[item]\n",
        "\n",
        "    # Adding special tokens is necessary, since BERT needs the tokens to have special markers:\n",
        "    # [CLS] for start of token list (sentence), [SEP] for end of token list (sentence), [PAD] for the padding\n",
        "\n",
        "    encoding = self.tokenizer.encode_plus(\n",
        "        text,\n",
        "        add_special_tokens = True,\n",
        "        max_length = self.max_len,\n",
        "        return_token_type_ids = False,\n",
        "        padding = 'longest',\n",
        "        return_attention_mask = True,\n",
        "        return_tensors = 'pt'\n",
        "    )\n",
        "\n",
        "    return {\n",
        "        'text': text,\n",
        "        'input_ids': encoding['input_ids'].flatten(),\n",
        "        'attention_mask': encoding['attention_mask'].flatten(),\n",
        "        'targets': torch.tensor(target, dtype = torch.long)\n",
        "    }\n",
        "\n"
      ],
      "metadata": {
        "id": "4qLsb7P9MmGf"
      },
      "execution_count": 44,
      "outputs": []
    },
    {
      "cell_type": "code",
      "source": [
        "X = train_data['text']\n",
        "y = train_data.target\n",
        "\n",
        "X_train, X_test, y_train, y_test = train_test_split(X, y, train_size = 0.8, random_state = 42)"
      ],
      "metadata": {
        "id": "JXyyHkrNXPcN"
      },
      "execution_count": 45,
      "outputs": []
    },
    {
      "cell_type": "code",
      "source": [
        "X_train.shape, y_train.shape"
      ],
      "metadata": {
        "colab": {
          "base_uri": "https://localhost:8080/"
        },
        "id": "dVoISH46Xigl",
        "outputId": "f38f50df-bc35-4ea4-a063-ce32b854a686"
      },
      "execution_count": 46,
      "outputs": [
        {
          "output_type": "execute_result",
          "data": {
            "text/plain": [
              "((6090,), (6090,))"
            ]
          },
          "metadata": {},
          "execution_count": 46
        }
      ]
    },
    {
      "cell_type": "code",
      "source": [
        "import os\n",
        "BATCH_SIZE = 16\n",
        "MAX_LEN = 128\n",
        "\n",
        "train_dataset = TextDataset(texts = X_train.to_numpy(), \n",
        "                            targets = y_train.to_numpy(), \n",
        "                            tokenizer = tokenizer, \n",
        "                            max_len = MAX_LEN)\n",
        "\n",
        "test_dataset = TextDataset(texts = X_test.to_numpy(), targets = y_test.to_numpy(), tokenizer = tokenizer, \n",
        "                           max_len = MAX_LEN)\n",
        "\n",
        "train_dataloader = DataLoader(dataset = train_dataset, batch_size = 1,\n",
        "                              num_workers = os.cpu_count(),\n",
        "                              shuffle = True)\n",
        "\n",
        "test_dataloader = DataLoader(dataset = test_dataset, batch_size = 1, \n",
        "                             num_workers = os.cpu_count(),\n",
        "                             shuffle = False)"
      ],
      "metadata": {
        "id": "IXUOvNPVXw_q"
      },
      "execution_count": 47,
      "outputs": []
    },
    {
      "cell_type": "code",
      "source": [
        "data = next(iter(train_dataloader))"
      ],
      "metadata": {
        "id": "SEIFDatIZHDO"
      },
      "execution_count": 48,
      "outputs": []
    },
    {
      "cell_type": "code",
      "source": [
        "data.keys()"
      ],
      "metadata": {
        "colab": {
          "base_uri": "https://localhost:8080/"
        },
        "id": "UGKRO01aZtKY",
        "outputId": "cae70dca-f065-4e29-f9c9-eef1ddbd4708"
      },
      "execution_count": 49,
      "outputs": [
        {
          "output_type": "execute_result",
          "data": {
            "text/plain": [
              "dict_keys(['text', 'input_ids', 'attention_mask', 'targets'])"
            ]
          },
          "metadata": {},
          "execution_count": 49
        }
      ]
    },
    {
      "cell_type": "code",
      "source": [
        "data['input_ids'].shape, data['attention_mask'].shape, data['targets'].shape"
      ],
      "metadata": {
        "colab": {
          "base_uri": "https://localhost:8080/"
        },
        "id": "z1pQ5NDYZvG9",
        "outputId": "d55fc31e-20b9-45f4-8a23-8e1c0e9516bd"
      },
      "execution_count": 50,
      "outputs": [
        {
          "output_type": "execute_result",
          "data": {
            "text/plain": [
              "(torch.Size([1, 50]), torch.Size([1, 50]), torch.Size([1]))"
            ]
          },
          "metadata": {},
          "execution_count": 50
        }
      ]
    },
    {
      "cell_type": "code",
      "source": [
        "bert_model = BertModel.from_pretrained(BERT_PRETRAINED_MODEL_NAME)"
      ],
      "metadata": {
        "colab": {
          "base_uri": "https://localhost:8080/",
          "height": 121,
          "referenced_widgets": [
            "8acb5a46fd354988807c024377d40a95",
            "325e1a938f984a00880bbb2cd5bff89e",
            "7283fc6b9c98474cbfe10715a225f764",
            "e75d0e8327fd4ddf841633edbec499dc",
            "1074de417bac44198b3fa7482fa76aea",
            "5ccce7a7b0cf4c98a9641de182d5fdab",
            "6845c5d0dc46409e8fd29e48ff788d90",
            "a70c13f5d8a94ab093116e12f865d1c2",
            "b460d25461dc49358454f705c31c4d97",
            "d213d33dd6b443c7b81a5402383ea2c6",
            "4fb9d33ae6334c82aa108074eedade30"
          ]
        },
        "id": "K6UWdiqVaApD",
        "outputId": "f902bede-f580-4f9a-83a7-5179a2e4a2b2"
      },
      "execution_count": 51,
      "outputs": [
        {
          "output_type": "display_data",
          "data": {
            "text/plain": [
              "Downloading:   0%|          | 0.00/436M [00:00<?, ?B/s]"
            ],
            "application/vnd.jupyter.widget-view+json": {
              "version_major": 2,
              "version_minor": 0,
              "model_id": "8acb5a46fd354988807c024377d40a95"
            }
          },
          "metadata": {}
        },
        {
          "output_type": "stream",
          "name": "stderr",
          "text": [
            "Some weights of the model checkpoint at bert-base-cased were not used when initializing BertModel: ['cls.predictions.transform.LayerNorm.weight', 'cls.seq_relationship.bias', 'cls.predictions.transform.LayerNorm.bias', 'cls.predictions.transform.dense.bias', 'cls.predictions.bias', 'cls.predictions.decoder.weight', 'cls.predictions.transform.dense.weight', 'cls.seq_relationship.weight']\n",
            "- This IS expected if you are initializing BertModel from the checkpoint of a model trained on another task or with another architecture (e.g. initializing a BertForSequenceClassification model from a BertForPreTraining model).\n",
            "- This IS NOT expected if you are initializing BertModel from the checkpoint of a model that you expect to be exactly identical (initializing a BertForSequenceClassification model from a BertForSequenceClassification model).\n"
          ]
        }
      ]
    },
    {
      "cell_type": "code",
      "source": [
        "# Adding return_dict = False to avoid the Dropout argument must be Tensor error (issue with Transformers v3 and v4)\n",
        "class DisasterClassifier(nn.Module):\n",
        "  def __init__(self, n_classes):\n",
        "    super().__init__()\n",
        "    self.bert = BertModel.from_pretrained(BERT_PRETRAINED_MODEL_NAME, return_dict = False)\n",
        "    self.drop = nn.Dropout(p = 0.3)\n",
        "    self.out = nn.Linear(self.bert.config.hidden_size, n_classes)\n",
        "\n",
        "  def forward(self, input_ids, attention_mask):\n",
        "    a, pooled_output = self.bert(\n",
        "        input_ids = input_ids,\n",
        "        attention_mask = attention_mask\n",
        "    )\n",
        "    output = self.drop(pooled_output)\n",
        "    return self.out(output)"
      ],
      "metadata": {
        "id": "6kLiKqV9aQtl"
      },
      "execution_count": 52,
      "outputs": []
    },
    {
      "cell_type": "code",
      "source": [
        "model = DisasterClassifier(n_classes = 2)\n",
        "model.to(device)"
      ],
      "metadata": {
        "colab": {
          "base_uri": "https://localhost:8080/"
        },
        "id": "TbDHuqgwbfoO",
        "outputId": "08a5328e-7ced-44a8-bb5f-a76d81c0480b"
      },
      "execution_count": 53,
      "outputs": [
        {
          "output_type": "stream",
          "name": "stderr",
          "text": [
            "Some weights of the model checkpoint at bert-base-cased were not used when initializing BertModel: ['cls.predictions.transform.LayerNorm.weight', 'cls.seq_relationship.bias', 'cls.predictions.transform.LayerNorm.bias', 'cls.predictions.transform.dense.bias', 'cls.predictions.bias', 'cls.predictions.decoder.weight', 'cls.predictions.transform.dense.weight', 'cls.seq_relationship.weight']\n",
            "- This IS expected if you are initializing BertModel from the checkpoint of a model trained on another task or with another architecture (e.g. initializing a BertForSequenceClassification model from a BertForPreTraining model).\n",
            "- This IS NOT expected if you are initializing BertModel from the checkpoint of a model that you expect to be exactly identical (initializing a BertForSequenceClassification model from a BertForSequenceClassification model).\n"
          ]
        },
        {
          "output_type": "execute_result",
          "data": {
            "text/plain": [
              "DisasterClassifier(\n",
              "  (bert): BertModel(\n",
              "    (embeddings): BertEmbeddings(\n",
              "      (word_embeddings): Embedding(28996, 768, padding_idx=0)\n",
              "      (position_embeddings): Embedding(512, 768)\n",
              "      (token_type_embeddings): Embedding(2, 768)\n",
              "      (LayerNorm): LayerNorm((768,), eps=1e-12, elementwise_affine=True)\n",
              "      (dropout): Dropout(p=0.1, inplace=False)\n",
              "    )\n",
              "    (encoder): BertEncoder(\n",
              "      (layer): ModuleList(\n",
              "        (0): BertLayer(\n",
              "          (attention): BertAttention(\n",
              "            (self): BertSelfAttention(\n",
              "              (query): Linear(in_features=768, out_features=768, bias=True)\n",
              "              (key): Linear(in_features=768, out_features=768, bias=True)\n",
              "              (value): Linear(in_features=768, out_features=768, bias=True)\n",
              "              (dropout): Dropout(p=0.1, inplace=False)\n",
              "            )\n",
              "            (output): BertSelfOutput(\n",
              "              (dense): Linear(in_features=768, out_features=768, bias=True)\n",
              "              (LayerNorm): LayerNorm((768,), eps=1e-12, elementwise_affine=True)\n",
              "              (dropout): Dropout(p=0.1, inplace=False)\n",
              "            )\n",
              "          )\n",
              "          (intermediate): BertIntermediate(\n",
              "            (dense): Linear(in_features=768, out_features=3072, bias=True)\n",
              "            (intermediate_act_fn): GELUActivation()\n",
              "          )\n",
              "          (output): BertOutput(\n",
              "            (dense): Linear(in_features=3072, out_features=768, bias=True)\n",
              "            (LayerNorm): LayerNorm((768,), eps=1e-12, elementwise_affine=True)\n",
              "            (dropout): Dropout(p=0.1, inplace=False)\n",
              "          )\n",
              "        )\n",
              "        (1): BertLayer(\n",
              "          (attention): BertAttention(\n",
              "            (self): BertSelfAttention(\n",
              "              (query): Linear(in_features=768, out_features=768, bias=True)\n",
              "              (key): Linear(in_features=768, out_features=768, bias=True)\n",
              "              (value): Linear(in_features=768, out_features=768, bias=True)\n",
              "              (dropout): Dropout(p=0.1, inplace=False)\n",
              "            )\n",
              "            (output): BertSelfOutput(\n",
              "              (dense): Linear(in_features=768, out_features=768, bias=True)\n",
              "              (LayerNorm): LayerNorm((768,), eps=1e-12, elementwise_affine=True)\n",
              "              (dropout): Dropout(p=0.1, inplace=False)\n",
              "            )\n",
              "          )\n",
              "          (intermediate): BertIntermediate(\n",
              "            (dense): Linear(in_features=768, out_features=3072, bias=True)\n",
              "            (intermediate_act_fn): GELUActivation()\n",
              "          )\n",
              "          (output): BertOutput(\n",
              "            (dense): Linear(in_features=3072, out_features=768, bias=True)\n",
              "            (LayerNorm): LayerNorm((768,), eps=1e-12, elementwise_affine=True)\n",
              "            (dropout): Dropout(p=0.1, inplace=False)\n",
              "          )\n",
              "        )\n",
              "        (2): BertLayer(\n",
              "          (attention): BertAttention(\n",
              "            (self): BertSelfAttention(\n",
              "              (query): Linear(in_features=768, out_features=768, bias=True)\n",
              "              (key): Linear(in_features=768, out_features=768, bias=True)\n",
              "              (value): Linear(in_features=768, out_features=768, bias=True)\n",
              "              (dropout): Dropout(p=0.1, inplace=False)\n",
              "            )\n",
              "            (output): BertSelfOutput(\n",
              "              (dense): Linear(in_features=768, out_features=768, bias=True)\n",
              "              (LayerNorm): LayerNorm((768,), eps=1e-12, elementwise_affine=True)\n",
              "              (dropout): Dropout(p=0.1, inplace=False)\n",
              "            )\n",
              "          )\n",
              "          (intermediate): BertIntermediate(\n",
              "            (dense): Linear(in_features=768, out_features=3072, bias=True)\n",
              "            (intermediate_act_fn): GELUActivation()\n",
              "          )\n",
              "          (output): BertOutput(\n",
              "            (dense): Linear(in_features=3072, out_features=768, bias=True)\n",
              "            (LayerNorm): LayerNorm((768,), eps=1e-12, elementwise_affine=True)\n",
              "            (dropout): Dropout(p=0.1, inplace=False)\n",
              "          )\n",
              "        )\n",
              "        (3): BertLayer(\n",
              "          (attention): BertAttention(\n",
              "            (self): BertSelfAttention(\n",
              "              (query): Linear(in_features=768, out_features=768, bias=True)\n",
              "              (key): Linear(in_features=768, out_features=768, bias=True)\n",
              "              (value): Linear(in_features=768, out_features=768, bias=True)\n",
              "              (dropout): Dropout(p=0.1, inplace=False)\n",
              "            )\n",
              "            (output): BertSelfOutput(\n",
              "              (dense): Linear(in_features=768, out_features=768, bias=True)\n",
              "              (LayerNorm): LayerNorm((768,), eps=1e-12, elementwise_affine=True)\n",
              "              (dropout): Dropout(p=0.1, inplace=False)\n",
              "            )\n",
              "          )\n",
              "          (intermediate): BertIntermediate(\n",
              "            (dense): Linear(in_features=768, out_features=3072, bias=True)\n",
              "            (intermediate_act_fn): GELUActivation()\n",
              "          )\n",
              "          (output): BertOutput(\n",
              "            (dense): Linear(in_features=3072, out_features=768, bias=True)\n",
              "            (LayerNorm): LayerNorm((768,), eps=1e-12, elementwise_affine=True)\n",
              "            (dropout): Dropout(p=0.1, inplace=False)\n",
              "          )\n",
              "        )\n",
              "        (4): BertLayer(\n",
              "          (attention): BertAttention(\n",
              "            (self): BertSelfAttention(\n",
              "              (query): Linear(in_features=768, out_features=768, bias=True)\n",
              "              (key): Linear(in_features=768, out_features=768, bias=True)\n",
              "              (value): Linear(in_features=768, out_features=768, bias=True)\n",
              "              (dropout): Dropout(p=0.1, inplace=False)\n",
              "            )\n",
              "            (output): BertSelfOutput(\n",
              "              (dense): Linear(in_features=768, out_features=768, bias=True)\n",
              "              (LayerNorm): LayerNorm((768,), eps=1e-12, elementwise_affine=True)\n",
              "              (dropout): Dropout(p=0.1, inplace=False)\n",
              "            )\n",
              "          )\n",
              "          (intermediate): BertIntermediate(\n",
              "            (dense): Linear(in_features=768, out_features=3072, bias=True)\n",
              "            (intermediate_act_fn): GELUActivation()\n",
              "          )\n",
              "          (output): BertOutput(\n",
              "            (dense): Linear(in_features=3072, out_features=768, bias=True)\n",
              "            (LayerNorm): LayerNorm((768,), eps=1e-12, elementwise_affine=True)\n",
              "            (dropout): Dropout(p=0.1, inplace=False)\n",
              "          )\n",
              "        )\n",
              "        (5): BertLayer(\n",
              "          (attention): BertAttention(\n",
              "            (self): BertSelfAttention(\n",
              "              (query): Linear(in_features=768, out_features=768, bias=True)\n",
              "              (key): Linear(in_features=768, out_features=768, bias=True)\n",
              "              (value): Linear(in_features=768, out_features=768, bias=True)\n",
              "              (dropout): Dropout(p=0.1, inplace=False)\n",
              "            )\n",
              "            (output): BertSelfOutput(\n",
              "              (dense): Linear(in_features=768, out_features=768, bias=True)\n",
              "              (LayerNorm): LayerNorm((768,), eps=1e-12, elementwise_affine=True)\n",
              "              (dropout): Dropout(p=0.1, inplace=False)\n",
              "            )\n",
              "          )\n",
              "          (intermediate): BertIntermediate(\n",
              "            (dense): Linear(in_features=768, out_features=3072, bias=True)\n",
              "            (intermediate_act_fn): GELUActivation()\n",
              "          )\n",
              "          (output): BertOutput(\n",
              "            (dense): Linear(in_features=3072, out_features=768, bias=True)\n",
              "            (LayerNorm): LayerNorm((768,), eps=1e-12, elementwise_affine=True)\n",
              "            (dropout): Dropout(p=0.1, inplace=False)\n",
              "          )\n",
              "        )\n",
              "        (6): BertLayer(\n",
              "          (attention): BertAttention(\n",
              "            (self): BertSelfAttention(\n",
              "              (query): Linear(in_features=768, out_features=768, bias=True)\n",
              "              (key): Linear(in_features=768, out_features=768, bias=True)\n",
              "              (value): Linear(in_features=768, out_features=768, bias=True)\n",
              "              (dropout): Dropout(p=0.1, inplace=False)\n",
              "            )\n",
              "            (output): BertSelfOutput(\n",
              "              (dense): Linear(in_features=768, out_features=768, bias=True)\n",
              "              (LayerNorm): LayerNorm((768,), eps=1e-12, elementwise_affine=True)\n",
              "              (dropout): Dropout(p=0.1, inplace=False)\n",
              "            )\n",
              "          )\n",
              "          (intermediate): BertIntermediate(\n",
              "            (dense): Linear(in_features=768, out_features=3072, bias=True)\n",
              "            (intermediate_act_fn): GELUActivation()\n",
              "          )\n",
              "          (output): BertOutput(\n",
              "            (dense): Linear(in_features=3072, out_features=768, bias=True)\n",
              "            (LayerNorm): LayerNorm((768,), eps=1e-12, elementwise_affine=True)\n",
              "            (dropout): Dropout(p=0.1, inplace=False)\n",
              "          )\n",
              "        )\n",
              "        (7): BertLayer(\n",
              "          (attention): BertAttention(\n",
              "            (self): BertSelfAttention(\n",
              "              (query): Linear(in_features=768, out_features=768, bias=True)\n",
              "              (key): Linear(in_features=768, out_features=768, bias=True)\n",
              "              (value): Linear(in_features=768, out_features=768, bias=True)\n",
              "              (dropout): Dropout(p=0.1, inplace=False)\n",
              "            )\n",
              "            (output): BertSelfOutput(\n",
              "              (dense): Linear(in_features=768, out_features=768, bias=True)\n",
              "              (LayerNorm): LayerNorm((768,), eps=1e-12, elementwise_affine=True)\n",
              "              (dropout): Dropout(p=0.1, inplace=False)\n",
              "            )\n",
              "          )\n",
              "          (intermediate): BertIntermediate(\n",
              "            (dense): Linear(in_features=768, out_features=3072, bias=True)\n",
              "            (intermediate_act_fn): GELUActivation()\n",
              "          )\n",
              "          (output): BertOutput(\n",
              "            (dense): Linear(in_features=3072, out_features=768, bias=True)\n",
              "            (LayerNorm): LayerNorm((768,), eps=1e-12, elementwise_affine=True)\n",
              "            (dropout): Dropout(p=0.1, inplace=False)\n",
              "          )\n",
              "        )\n",
              "        (8): BertLayer(\n",
              "          (attention): BertAttention(\n",
              "            (self): BertSelfAttention(\n",
              "              (query): Linear(in_features=768, out_features=768, bias=True)\n",
              "              (key): Linear(in_features=768, out_features=768, bias=True)\n",
              "              (value): Linear(in_features=768, out_features=768, bias=True)\n",
              "              (dropout): Dropout(p=0.1, inplace=False)\n",
              "            )\n",
              "            (output): BertSelfOutput(\n",
              "              (dense): Linear(in_features=768, out_features=768, bias=True)\n",
              "              (LayerNorm): LayerNorm((768,), eps=1e-12, elementwise_affine=True)\n",
              "              (dropout): Dropout(p=0.1, inplace=False)\n",
              "            )\n",
              "          )\n",
              "          (intermediate): BertIntermediate(\n",
              "            (dense): Linear(in_features=768, out_features=3072, bias=True)\n",
              "            (intermediate_act_fn): GELUActivation()\n",
              "          )\n",
              "          (output): BertOutput(\n",
              "            (dense): Linear(in_features=3072, out_features=768, bias=True)\n",
              "            (LayerNorm): LayerNorm((768,), eps=1e-12, elementwise_affine=True)\n",
              "            (dropout): Dropout(p=0.1, inplace=False)\n",
              "          )\n",
              "        )\n",
              "        (9): BertLayer(\n",
              "          (attention): BertAttention(\n",
              "            (self): BertSelfAttention(\n",
              "              (query): Linear(in_features=768, out_features=768, bias=True)\n",
              "              (key): Linear(in_features=768, out_features=768, bias=True)\n",
              "              (value): Linear(in_features=768, out_features=768, bias=True)\n",
              "              (dropout): Dropout(p=0.1, inplace=False)\n",
              "            )\n",
              "            (output): BertSelfOutput(\n",
              "              (dense): Linear(in_features=768, out_features=768, bias=True)\n",
              "              (LayerNorm): LayerNorm((768,), eps=1e-12, elementwise_affine=True)\n",
              "              (dropout): Dropout(p=0.1, inplace=False)\n",
              "            )\n",
              "          )\n",
              "          (intermediate): BertIntermediate(\n",
              "            (dense): Linear(in_features=768, out_features=3072, bias=True)\n",
              "            (intermediate_act_fn): GELUActivation()\n",
              "          )\n",
              "          (output): BertOutput(\n",
              "            (dense): Linear(in_features=3072, out_features=768, bias=True)\n",
              "            (LayerNorm): LayerNorm((768,), eps=1e-12, elementwise_affine=True)\n",
              "            (dropout): Dropout(p=0.1, inplace=False)\n",
              "          )\n",
              "        )\n",
              "        (10): BertLayer(\n",
              "          (attention): BertAttention(\n",
              "            (self): BertSelfAttention(\n",
              "              (query): Linear(in_features=768, out_features=768, bias=True)\n",
              "              (key): Linear(in_features=768, out_features=768, bias=True)\n",
              "              (value): Linear(in_features=768, out_features=768, bias=True)\n",
              "              (dropout): Dropout(p=0.1, inplace=False)\n",
              "            )\n",
              "            (output): BertSelfOutput(\n",
              "              (dense): Linear(in_features=768, out_features=768, bias=True)\n",
              "              (LayerNorm): LayerNorm((768,), eps=1e-12, elementwise_affine=True)\n",
              "              (dropout): Dropout(p=0.1, inplace=False)\n",
              "            )\n",
              "          )\n",
              "          (intermediate): BertIntermediate(\n",
              "            (dense): Linear(in_features=768, out_features=3072, bias=True)\n",
              "            (intermediate_act_fn): GELUActivation()\n",
              "          )\n",
              "          (output): BertOutput(\n",
              "            (dense): Linear(in_features=3072, out_features=768, bias=True)\n",
              "            (LayerNorm): LayerNorm((768,), eps=1e-12, elementwise_affine=True)\n",
              "            (dropout): Dropout(p=0.1, inplace=False)\n",
              "          )\n",
              "        )\n",
              "        (11): BertLayer(\n",
              "          (attention): BertAttention(\n",
              "            (self): BertSelfAttention(\n",
              "              (query): Linear(in_features=768, out_features=768, bias=True)\n",
              "              (key): Linear(in_features=768, out_features=768, bias=True)\n",
              "              (value): Linear(in_features=768, out_features=768, bias=True)\n",
              "              (dropout): Dropout(p=0.1, inplace=False)\n",
              "            )\n",
              "            (output): BertSelfOutput(\n",
              "              (dense): Linear(in_features=768, out_features=768, bias=True)\n",
              "              (LayerNorm): LayerNorm((768,), eps=1e-12, elementwise_affine=True)\n",
              "              (dropout): Dropout(p=0.1, inplace=False)\n",
              "            )\n",
              "          )\n",
              "          (intermediate): BertIntermediate(\n",
              "            (dense): Linear(in_features=768, out_features=3072, bias=True)\n",
              "            (intermediate_act_fn): GELUActivation()\n",
              "          )\n",
              "          (output): BertOutput(\n",
              "            (dense): Linear(in_features=3072, out_features=768, bias=True)\n",
              "            (LayerNorm): LayerNorm((768,), eps=1e-12, elementwise_affine=True)\n",
              "            (dropout): Dropout(p=0.1, inplace=False)\n",
              "          )\n",
              "        )\n",
              "      )\n",
              "    )\n",
              "    (pooler): BertPooler(\n",
              "      (dense): Linear(in_features=768, out_features=768, bias=True)\n",
              "      (activation): Tanh()\n",
              "    )\n",
              "  )\n",
              "  (drop): Dropout(p=0.3, inplace=False)\n",
              "  (out): Linear(in_features=768, out_features=2, bias=True)\n",
              ")"
            ]
          },
          "metadata": {},
          "execution_count": 53
        }
      ]
    },
    {
      "cell_type": "markdown",
      "source": [
        "Changed LR from 2e-5 to 1e-5, and changed the Dropout p to 0.2 from 0.3 in the classifier.\n",
        "\n",
        "LR = 2e-5 with Dropout 0.3 ====> 81.58% Test accuracy | 95.31% Train accuracy\n",
        "\n",
        "LR = 1e-5 with Dropout 0.2 ====> 43% Test | 44% Train accuracy\n",
        "\n",
        "LR = 2e-5 with Dropout 0.2 ====> 76% Test | 78% Train\n",
        "\n",
        "LR = 3e-5 with Dropout 0.25 ====> 42% Test | 42% Train\n",
        "\n",
        "LR = 3e-5 with Dropout 0.3 ====> 57% Test | 57% Train\n",
        "\n",
        "LR = 2e-5 with Dropout 0.25 ===> 75% Test | 81% Train"
      ],
      "metadata": {
        "id": "n_DyK8RkkovB"
      }
    },
    {
      "cell_type": "code",
      "source": [
        "EPOCHS = 10\n",
        "\n",
        "optimizer = torch.optim.AdamW(model.parameters(), lr = 2e-5)\n",
        "total_steps = len(train_dataloader)*EPOCHS\n",
        "\n",
        "scheduler = get_linear_schedule_with_warmup(optimizer,\n",
        "                                            num_warmup_steps = 0,\n",
        "                                            num_training_steps = total_steps)\n",
        "\n",
        "loss_fn = nn.CrossEntropyLoss().to(device)"
      ],
      "metadata": {
        "id": "MPNiq7b6cNG1"
      },
      "execution_count": 54,
      "outputs": []
    },
    {
      "cell_type": "code",
      "source": [
        "def train(model, data_loader, loss_fn, optimizer, device, scheduler, n_examples):\n",
        "  model.train()\n",
        "\n",
        "  losses = []\n",
        "  correct_pred = 0\n",
        "\n",
        "  for data in data_loader:\n",
        "    input_ids = data['input_ids'].to(device)\n",
        "    attention_mask = data['attention_mask'].to(device)\n",
        "    targets = data['targets'].to(device)\n",
        "\n",
        "\n",
        "    outputs = model(input_ids = input_ids,\n",
        "                    attention_mask = attention_mask).squeeze()\n",
        "    \n",
        "    preds = torch.argmax(outputs, dim = -1).flatten()\n",
        "\n",
        "    loss = loss_fn(outputs, targets[0])\n",
        "\n",
        "    optimizer.zero_grad()\n",
        "\n",
        "    correct_pred += torch.sum(preds == targets[0])\n",
        "    losses.append(loss.item())\n",
        "\n",
        "    loss.backward()\n",
        "    nn.utils.clip_grad_norm_(model.parameters(), max_norm=1.0)\n",
        "    optimizer.step()\n",
        "    scheduler.step()\n",
        "\n",
        "  return correct_pred / n_examples, np.mean(losses)"
      ],
      "metadata": {
        "id": "AUbFeCKKcocf"
      },
      "execution_count": 55,
      "outputs": []
    },
    {
      "cell_type": "code",
      "source": [
        "def eval(model, data_loader, loss_fn, optimizer, device, n_examples):\n",
        "  model.eval()\n",
        "\n",
        "  losses = []\n",
        "  correct_pred = 0\n",
        "\n",
        "  with torch.inference_mode():\n",
        "    for data in data_loader:\n",
        "      input_ids = data['input_ids'].to(device)\n",
        "      attention_mask = data['attention_mask'].to(device)\n",
        "      targets = data['targets'].to(device)\n",
        "\n",
        "      outputs = model(input_ids = input_ids,\n",
        "                      attention_mask = attention_mask).squeeze()\n",
        "      \n",
        "      preds = torch.argmax(outputs, dim = -1).flatten()\n",
        "\n",
        "      loss = loss_fn(outputs, targets[0])\n",
        "\n",
        "      correct_pred += torch.sum(preds == targets[0])\n",
        "      losses.append(loss.item())\n",
        "\n",
        "  return correct_pred / n_examples, np.mean(losses)"
      ],
      "metadata": {
        "id": "oVPHuud2feck"
      },
      "execution_count": 56,
      "outputs": []
    },
    {
      "cell_type": "code",
      "source": [
        "from timeit import default_timer as timer\n",
        "from collections import defaultdict\n",
        "\n",
        "start_time = timer()\n",
        "\n",
        "history = defaultdict(list)\n",
        "best_accuracy = 0\n",
        "\n",
        "for epoch in range(4):\n",
        "  print(f\"Epoch {epoch +1} \")\n",
        "  print(\"**\"*20)\n",
        "  train_acc, train_loss = train(model, train_dataloader,\n",
        "                                loss_fn,\n",
        "                                optimizer,\n",
        "                                device,\n",
        "                                scheduler,\n",
        "                                len(X_train))\n",
        "  \n",
        "  print(f'Train loss {train_loss} | Train accuracy {train_acc}')\n",
        "\n",
        "  test_acc, test_loss = eval(model,\n",
        "                             test_dataloader,\n",
        "                             loss_fn,\n",
        "                             optimizer,\n",
        "                             device,\n",
        "                             len(X_test))\n",
        "  \n",
        "  print(f'Val   loss {test_loss} | Test accuracy {test_acc}')\n",
        "\n",
        "\n",
        "  history['train_loss'].append(train_loss)\n",
        "  history['test_loss'].append(test_loss)\n"
      ],
      "metadata": {
        "colab": {
          "base_uri": "https://localhost:8080/"
        },
        "id": "X9oMRuk2gKlV",
        "outputId": "4ef1ac82-aff4-4e6d-a539-04b39ff1b334"
      },
      "execution_count": 57,
      "outputs": [
        {
          "output_type": "stream",
          "name": "stdout",
          "text": [
            "Epoch 1 \n",
            "****************************************\n",
            "Train loss 1.052265503015588 | Train accuracy 0.7829228043556213\n",
            "Val   loss 0.9228240598617788 | Test accuracy 0.8148391246795654\n",
            "Epoch 2 \n",
            "****************************************\n",
            "Train loss 0.8592444672441276 | Train accuracy 0.840886652469635\n",
            "Val   loss 1.221875963774947 | Test accuracy 0.7793828248977661\n",
            "Epoch 3 \n",
            "****************************************\n",
            "Train loss 0.7691197583664554 | Train accuracy 0.8637109994888306\n",
            "Val   loss 1.1331142586073761 | Test accuracy 0.8082731366157532\n",
            "Epoch 4 \n",
            "****************************************\n",
            "Train loss 0.6922213300274104 | Train accuracy 0.8771756887435913\n",
            "Val   loss 1.1398459018905356 | Test accuracy 0.8122127652168274\n"
          ]
        }
      ]
    }
  ]
}